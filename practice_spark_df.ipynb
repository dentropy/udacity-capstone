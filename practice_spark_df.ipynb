{
 "cells": [
  {
   "cell_type": "code",
   "execution_count": 1,
   "id": "39c7a16e-b100-421b-ac2b-0f6743731300",
   "metadata": {},
   "outputs": [],
   "source": [
    "from pyspark.sql import SparkSession\n",
    "import pyspark.sql.functions as F\n",
    "import pyspark.sql.types as T\n",
    "import modules.parsers as parsers\n",
    "import glob"
   ]
  },
  {
   "cell_type": "code",
   "execution_count": 2,
   "id": "f9efb51b-c339-4911-8492-b01491568a81",
   "metadata": {},
   "outputs": [],
   "source": [
    "import configparser\n",
    "import os\n",
    "config = configparser.ConfigParser()\n",
    "config.read('dl.cfg')\n",
    "\n",
    "os.environ['AWS_ACCESS_KEY_ID']=config['AWS']['AWS_ACCESS_KEY_ID']\n",
    "os.environ['AWS_SECRET_ACCESS_KEY']=config['AWS']['AWS_SECRET_ACCESS_KEY']"
   ]
  },
  {
   "cell_type": "code",
   "execution_count": 3,
   "id": "98cbeb06-d1f3-463f-9fcd-ec5461f701c4",
   "metadata": {},
   "outputs": [
    {
     "name": "stderr",
     "output_type": "stream",
     "text": [
      "22/04/12 14:46:14 WARN Utils: Your hostname, pop-os resolves to a loopback address: 127.0.1.1; using 192.168.2.99 instead (on interface eno1)\n",
      "22/04/12 14:46:14 WARN Utils: Set SPARK_LOCAL_IP if you need to bind to another address\n",
      "Ivy Default Cache set to: /home/paul/.ivy2/cache\n",
      "The jars for the packages stored in: /home/paul/.ivy2/jars\n",
      ":: loading settings :: url = jar:file:/home/paul/Projects/DataEngineering/Capstone/env/lib/python3.8/site-packages/pyspark/jars/ivy-2.4.0.jar!/org/apache/ivy/core/settings/ivysettings.xml\n",
      "org.apache.hadoop#hadoop-aws added as a dependency\n",
      ":: resolving dependencies :: org.apache.spark#spark-submit-parent-47d55f3f-81ff-4b88-8319-5166a9e36d92;1.0\n",
      "\tconfs: [default]\n",
      "\tfound org.apache.hadoop#hadoop-aws;2.7.3 in central\n",
      "\tfound org.apache.hadoop#hadoop-common;2.7.3 in central\n",
      "\tfound org.apache.hadoop#hadoop-annotations;2.7.3 in central\n",
      "\tfound com.google.guava#guava;11.0.2 in central\n",
      "\tfound com.google.code.findbugs#jsr305;3.0.0 in central\n",
      "\tfound commons-cli#commons-cli;1.2 in central\n",
      "\tfound org.apache.commons#commons-math3;3.1.1 in central\n",
      "\tfound xmlenc#xmlenc;0.52 in central\n",
      "\tfound commons-httpclient#commons-httpclient;3.1 in central\n",
      "\tfound commons-logging#commons-logging;1.1.3 in central\n",
      "\tfound commons-codec#commons-codec;1.4 in central\n",
      "\tfound commons-io#commons-io;2.4 in central\n",
      "\tfound commons-net#commons-net;3.1 in central\n",
      "\tfound commons-collections#commons-collections;3.2.2 in central\n",
      "\tfound javax.servlet#servlet-api;2.5 in central\n",
      "\tfound org.mortbay.jetty#jetty;6.1.26 in central\n",
      "\tfound org.mortbay.jetty#jetty-util;6.1.26 in central\n",
      "\tfound com.sun.jersey#jersey-core;1.9 in central\n",
      "\tfound com.sun.jersey#jersey-json;1.9 in central\n",
      "\tfound org.codehaus.jettison#jettison;1.1 in central\n",
      "\tfound com.sun.xml.bind#jaxb-impl;2.2.3-1 in central\n",
      "\tfound javax.xml.bind#jaxb-api;2.2.2 in central\n",
      "\tfound javax.xml.stream#stax-api;1.0-2 in central\n",
      "\tfound javax.activation#activation;1.1 in central\n",
      "\tfound org.codehaus.jackson#jackson-core-asl;1.9.13 in central\n",
      "\tfound org.codehaus.jackson#jackson-mapper-asl;1.9.13 in central\n",
      "\tfound org.codehaus.jackson#jackson-jaxrs;1.9.13 in central\n",
      "\tfound org.codehaus.jackson#jackson-xc;1.9.13 in central\n",
      "\tfound com.sun.jersey#jersey-server;1.9 in central\n",
      "\tfound asm#asm;3.2 in central\n",
      "\tfound log4j#log4j;1.2.17 in central\n",
      "\tfound net.java.dev.jets3t#jets3t;0.9.0 in central\n",
      "\tfound org.apache.httpcomponents#httpclient;4.2.5 in central\n",
      "\tfound org.apache.httpcomponents#httpcore;4.2.5 in central\n",
      "\tfound com.jamesmurty.utils#java-xmlbuilder;0.4 in central\n",
      "\tfound commons-lang#commons-lang;2.6 in central\n",
      "\tfound commons-configuration#commons-configuration;1.6 in central\n",
      "\tfound commons-digester#commons-digester;1.8 in central\n",
      "\tfound commons-beanutils#commons-beanutils;1.7.0 in central\n",
      "\tfound commons-beanutils#commons-beanutils-core;1.8.0 in central\n",
      "\tfound org.slf4j#slf4j-api;1.7.10 in central\n",
      "\tfound org.apache.avro#avro;1.7.4 in central\n",
      "\tfound com.thoughtworks.paranamer#paranamer;2.3 in central\n",
      "\tfound org.xerial.snappy#snappy-java;1.0.4.1 in central\n",
      "\tfound org.apache.commons#commons-compress;1.4.1 in central\n",
      "\tfound org.tukaani#xz;1.0 in central\n",
      "\tfound com.google.protobuf#protobuf-java;2.5.0 in central\n",
      "\tfound com.google.code.gson#gson;2.2.4 in central\n",
      "\tfound org.apache.hadoop#hadoop-auth;2.7.3 in central\n",
      "\tfound org.apache.directory.server#apacheds-kerberos-codec;2.0.0-M15 in central\n",
      "\tfound org.apache.directory.server#apacheds-i18n;2.0.0-M15 in central\n",
      "\tfound org.apache.directory.api#api-asn1-api;1.0.0-M20 in central\n",
      "\tfound org.apache.directory.api#api-util;1.0.0-M20 in central\n",
      "\tfound org.apache.zookeeper#zookeeper;3.4.6 in central\n",
      "\tfound org.slf4j#slf4j-log4j12;1.7.10 in central\n",
      "\tfound io.netty#netty;3.6.2.Final in central\n",
      "\tfound org.apache.curator#curator-framework;2.7.1 in central\n",
      "\tfound org.apache.curator#curator-client;2.7.1 in central\n",
      "\tfound com.jcraft#jsch;0.1.42 in central\n",
      "\tfound org.apache.curator#curator-recipes;2.7.1 in central\n",
      "\tfound org.apache.htrace#htrace-core;3.1.0-incubating in central\n",
      "\tfound javax.servlet.jsp#jsp-api;2.1 in central\n",
      "\tfound jline#jline;0.9.94 in central\n",
      "\tfound junit#junit;4.11 in central\n",
      "\tfound org.hamcrest#hamcrest-core;1.3 in central\n",
      "\tfound com.fasterxml.jackson.core#jackson-databind;2.2.3 in central\n",
      "\tfound com.fasterxml.jackson.core#jackson-annotations;2.2.3 in central\n",
      "\tfound com.fasterxml.jackson.core#jackson-core;2.2.3 in central\n",
      "\tfound com.amazonaws#aws-java-sdk;1.7.4 in central\n",
      "\tfound joda-time#joda-time;2.10.14 in central\n",
      "\t[2.10.14] joda-time#joda-time;[2.2,)\n",
      ":: resolution report :: resolve 1619ms :: artifacts dl 21ms\n",
      "\t:: modules in use:\n",
      "\tasm#asm;3.2 from central in [default]\n",
      "\tcom.amazonaws#aws-java-sdk;1.7.4 from central in [default]\n",
      "\tcom.fasterxml.jackson.core#jackson-annotations;2.2.3 from central in [default]\n",
      "\tcom.fasterxml.jackson.core#jackson-core;2.2.3 from central in [default]\n",
      "\tcom.fasterxml.jackson.core#jackson-databind;2.2.3 from central in [default]\n",
      "\tcom.google.code.findbugs#jsr305;3.0.0 from central in [default]\n",
      "\tcom.google.code.gson#gson;2.2.4 from central in [default]\n",
      "\tcom.google.guava#guava;11.0.2 from central in [default]\n",
      "\tcom.google.protobuf#protobuf-java;2.5.0 from central in [default]\n",
      "\tcom.jamesmurty.utils#java-xmlbuilder;0.4 from central in [default]\n",
      "\tcom.jcraft#jsch;0.1.42 from central in [default]\n",
      "\tcom.sun.jersey#jersey-core;1.9 from central in [default]\n",
      "\tcom.sun.jersey#jersey-json;1.9 from central in [default]\n",
      "\tcom.sun.jersey#jersey-server;1.9 from central in [default]\n",
      "\tcom.sun.xml.bind#jaxb-impl;2.2.3-1 from central in [default]\n",
      "\tcom.thoughtworks.paranamer#paranamer;2.3 from central in [default]\n",
      "\tcommons-beanutils#commons-beanutils;1.7.0 from central in [default]\n",
      "\tcommons-beanutils#commons-beanutils-core;1.8.0 from central in [default]\n",
      "\tcommons-cli#commons-cli;1.2 from central in [default]\n",
      "\tcommons-codec#commons-codec;1.4 from central in [default]\n",
      "\tcommons-collections#commons-collections;3.2.2 from central in [default]\n",
      "\tcommons-configuration#commons-configuration;1.6 from central in [default]\n",
      "\tcommons-digester#commons-digester;1.8 from central in [default]\n",
      "\tcommons-httpclient#commons-httpclient;3.1 from central in [default]\n",
      "\tcommons-io#commons-io;2.4 from central in [default]\n",
      "\tcommons-lang#commons-lang;2.6 from central in [default]\n",
      "\tcommons-logging#commons-logging;1.1.3 from central in [default]\n",
      "\tcommons-net#commons-net;3.1 from central in [default]\n",
      "\tio.netty#netty;3.6.2.Final from central in [default]\n",
      "\tjavax.activation#activation;1.1 from central in [default]\n",
      "\tjavax.servlet#servlet-api;2.5 from central in [default]\n",
      "\tjavax.servlet.jsp#jsp-api;2.1 from central in [default]\n",
      "\tjavax.xml.bind#jaxb-api;2.2.2 from central in [default]\n",
      "\tjavax.xml.stream#stax-api;1.0-2 from central in [default]\n",
      "\tjline#jline;0.9.94 from central in [default]\n",
      "\tjoda-time#joda-time;2.10.14 from central in [default]\n",
      "\tjunit#junit;4.11 from central in [default]\n",
      "\tlog4j#log4j;1.2.17 from central in [default]\n",
      "\tnet.java.dev.jets3t#jets3t;0.9.0 from central in [default]\n",
      "\torg.apache.avro#avro;1.7.4 from central in [default]\n",
      "\torg.apache.commons#commons-compress;1.4.1 from central in [default]\n",
      "\torg.apache.commons#commons-math3;3.1.1 from central in [default]\n",
      "\torg.apache.curator#curator-client;2.7.1 from central in [default]\n",
      "\torg.apache.curator#curator-framework;2.7.1 from central in [default]\n",
      "\torg.apache.curator#curator-recipes;2.7.1 from central in [default]\n",
      "\torg.apache.directory.api#api-asn1-api;1.0.0-M20 from central in [default]\n",
      "\torg.apache.directory.api#api-util;1.0.0-M20 from central in [default]\n",
      "\torg.apache.directory.server#apacheds-i18n;2.0.0-M15 from central in [default]\n",
      "\torg.apache.directory.server#apacheds-kerberos-codec;2.0.0-M15 from central in [default]\n",
      "\torg.apache.hadoop#hadoop-annotations;2.7.3 from central in [default]\n",
      "\torg.apache.hadoop#hadoop-auth;2.7.3 from central in [default]\n",
      "\torg.apache.hadoop#hadoop-aws;2.7.3 from central in [default]\n",
      "\torg.apache.hadoop#hadoop-common;2.7.3 from central in [default]\n",
      "\torg.apache.htrace#htrace-core;3.1.0-incubating from central in [default]\n",
      "\torg.apache.httpcomponents#httpclient;4.2.5 from central in [default]\n",
      "\torg.apache.httpcomponents#httpcore;4.2.5 from central in [default]\n",
      "\torg.apache.zookeeper#zookeeper;3.4.6 from central in [default]\n",
      "\torg.codehaus.jackson#jackson-core-asl;1.9.13 from central in [default]\n",
      "\torg.codehaus.jackson#jackson-jaxrs;1.9.13 from central in [default]\n",
      "\torg.codehaus.jackson#jackson-mapper-asl;1.9.13 from central in [default]\n",
      "\torg.codehaus.jackson#jackson-xc;1.9.13 from central in [default]\n",
      "\torg.codehaus.jettison#jettison;1.1 from central in [default]\n",
      "\torg.hamcrest#hamcrest-core;1.3 from central in [default]\n",
      "\torg.mortbay.jetty#jetty;6.1.26 from central in [default]\n",
      "\torg.mortbay.jetty#jetty-util;6.1.26 from central in [default]\n",
      "\torg.slf4j#slf4j-api;1.7.10 from central in [default]\n",
      "\torg.slf4j#slf4j-log4j12;1.7.10 from central in [default]\n",
      "\torg.tukaani#xz;1.0 from central in [default]\n",
      "\torg.xerial.snappy#snappy-java;1.0.4.1 from central in [default]\n",
      "\txmlenc#xmlenc;0.52 from central in [default]\n",
      "\t---------------------------------------------------------------------\n",
      "\t|                  |            modules            ||   artifacts   |\n",
      "\t|       conf       | number| search|dwnlded|evicted|| number|dwnlded|\n",
      "\t---------------------------------------------------------------------\n",
      "\t|      default     |   70  |   1   |   0   |   0   ||   70  |   0   |\n",
      "\t---------------------------------------------------------------------\n",
      "\n",
      ":: problems summary ::\n",
      ":::: ERRORS\n",
      "\tSERVER ERROR: Bad Gateway url=https://dl.bintray.com/spark-packages/maven/joda-time/joda-time/maven-metadata.xml\n",
      "\n",
      "\tSERVER ERROR: Bad Gateway url=https://dl.bintray.com/spark-packages/maven/joda-time/joda-time/\n",
      "\n",
      "\tSERVER ERROR: Bad Gateway url=https://dl.bintray.com/spark-packages/maven/joda-time/joda-time/\n",
      "\n",
      "\n",
      ":: USE VERBOSE OR DEBUG MESSAGE LEVEL FOR MORE DETAILS\n",
      ":: retrieving :: org.apache.spark#spark-submit-parent-47d55f3f-81ff-4b88-8319-5166a9e36d92\n",
      "\tconfs: [default]\n",
      "\t0 artifacts copied, 70 already retrieved (0kB/9ms)\n",
      "22/04/12 14:46:16 WARN NativeCodeLoader: Unable to load native-hadoop library for your platform... using builtin-java classes where applicable\n",
      "Using Spark's default log4j profile: org/apache/spark/log4j-defaults.properties\n",
      "Setting default log level to \"WARN\".\n",
      "To adjust logging level use sc.setLogLevel(newLevel). For SparkR, use setLogLevel(newLevel).\n"
     ]
    }
   ],
   "source": [
    "spark = SparkSession.builder\\\n",
    "                     .config(\"spark.jars.packages\",\"org.apache.hadoop:hadoop-aws:2.7.3\")\\\n",
    "                     .master(\"spark://pop-os.localdomain:7077\")\\\n",
    "                     .enableHiveSupport()\\\n",
    "                     .getOrCreate()\n",
    "sc = spark.sparkContext"
   ]
  },
  {
   "cell_type": "code",
   "execution_count": 4,
   "id": "c03ae51d-0b56-437b-b2e7-8c5afc0aa811",
   "metadata": {},
   "outputs": [
    {
     "name": "stderr",
     "output_type": "stream",
     "text": [
      "                                                                                \r"
     ]
    }
   ],
   "source": [
    "# File is 1.5 Gb will take a couple minutes to load into spark\n",
    "reddit_data_url = \"s3a://paul-udacity-capstone/reddit/002.ndjson\" # For Testing\n",
    "# reddit_data_url = \"s3a://paul-udacity-capstone/reddit/RC_2018_01_01\"\n",
    "df_reddit = spark.read.json(reddit_data_url)"
   ]
  },
  {
   "cell_type": "code",
   "execution_count": 5,
   "id": "21dcd406-e5b8-4d19-9964-b94ed4237c1e",
   "metadata": {},
   "outputs": [
    {
     "name": "stderr",
     "output_type": "stream",
     "text": [
      "                                                                                \r"
     ]
    },
    {
     "data": {
      "text/plain": [
       "1000"
      ]
     },
     "execution_count": 5,
     "metadata": {},
     "output_type": "execute_result"
    }
   ],
   "source": [
    "df_reddit.count()"
   ]
  },
  {
   "cell_type": "code",
   "execution_count": 6,
   "id": "88d466ba-7e61-4745-917f-41ef1ad8b4c6",
   "metadata": {},
   "outputs": [
    {
     "name": "stderr",
     "output_type": "stream",
     "text": [
      "                                                                                \r"
     ]
    }
   ],
   "source": [
    "git_data_url = \"s3a://paul-udacity-capstone/git-dump/freeCodeCamp/freeCodeCamp.json\" # For Testing\n",
    "# git_data_url = \"s3a://paul-udacity-capstone/git-dump/*/*.json\"\n",
    "df_git = spark.read.json(git_data_url)"
   ]
  },
  {
   "cell_type": "code",
   "execution_count": 7,
   "id": "69b00c6c-9adf-4c76-a9a7-e040e10286d6",
   "metadata": {},
   "outputs": [
    {
     "data": {
      "text/plain": [
       "4789"
      ]
     },
     "execution_count": 7,
     "metadata": {},
     "output_type": "execute_result"
    }
   ],
   "source": [
    "df_git.count()"
   ]
  },
  {
   "cell_type": "markdown",
   "id": "7be7345f-3fd7-4dc1-8528-7fe5ec48bdec",
   "metadata": {},
   "source": [
    "## Working with git repos"
   ]
  },
  {
   "cell_type": "code",
   "execution_count": 8,
   "id": "8c09890d-ea7e-46e5-9ccb-a424e72f4703",
   "metadata": {},
   "outputs": [],
   "source": [
    "git_repo_df = parsers.df_parse_email(df_git,  \"author_email\")"
   ]
  },
  {
   "cell_type": "code",
   "execution_count": 9,
   "id": "e8da5ac2-e2bf-4687-b959-1d804faf0571",
   "metadata": {},
   "outputs": [
    {
     "data": {
      "text/html": [
       "<div>\n",
       "<style scoped>\n",
       "    .dataframe tbody tr th:only-of-type {\n",
       "        vertical-align: middle;\n",
       "    }\n",
       "\n",
       "    .dataframe tbody tr th {\n",
       "        vertical-align: top;\n",
       "    }\n",
       "\n",
       "    .dataframe thead th {\n",
       "        text-align: right;\n",
       "    }\n",
       "</style>\n",
       "<table border=\"1\" class=\"dataframe\">\n",
       "  <thead>\n",
       "    <tr style=\"text-align: right;\">\n",
       "      <th></th>\n",
       "      <th>author_email</th>\n",
       "      <th>author_name</th>\n",
       "      <th>commits</th>\n",
       "      <th>remote_url</th>\n",
       "      <th>email_username</th>\n",
       "      <th>email_domain</th>\n",
       "    </tr>\n",
       "  </thead>\n",
       "  <tbody>\n",
       "    <tr>\n",
       "      <th>0</th>\n",
       "      <td>0nitinchauhan@gmail.com</td>\n",
       "      <td>Nitin Chauhan</td>\n",
       "      <td>3</td>\n",
       "      <td>https://github.com/freeCodeCamp/freeCodeCamp.git</td>\n",
       "      <td>0nitinchauhan</td>\n",
       "      <td>gmail.com</td>\n",
       "    </tr>\n",
       "    <tr>\n",
       "      <th>1</th>\n",
       "      <td>0x0936@users.noreply.github.com</td>\n",
       "      <td>Robert Richey</td>\n",
       "      <td>1</td>\n",
       "      <td>https://github.com/freeCodeCamp/freeCodeCamp.git</td>\n",
       "      <td>0x0936</td>\n",
       "      <td>users.noreply.github.com</td>\n",
       "    </tr>\n",
       "    <tr>\n",
       "      <th>2</th>\n",
       "      <td>10049458+dallyingllama@users.noreply.github.com</td>\n",
       "      <td>dallyingllama</td>\n",
       "      <td>2</td>\n",
       "      <td>https://github.com/freeCodeCamp/freeCodeCamp.git</td>\n",
       "      <td>10049458+dallyingllama</td>\n",
       "      <td>users.noreply.github.com</td>\n",
       "    </tr>\n",
       "    <tr>\n",
       "      <th>3</th>\n",
       "      <td>1010636+JeremyBlanc@users.noreply.github.com</td>\n",
       "      <td>Jeremias Blanco-Choncén</td>\n",
       "      <td>2</td>\n",
       "      <td>https://github.com/freeCodeCamp/freeCodeCamp.git</td>\n",
       "      <td>1010636+JeremyBlanc</td>\n",
       "      <td>users.noreply.github.com</td>\n",
       "    </tr>\n",
       "    <tr>\n",
       "      <th>4</th>\n",
       "      <td>101513652+anjiqbal@users.noreply.github.com</td>\n",
       "      <td>Anjum Iqbal</td>\n",
       "      <td>1</td>\n",
       "      <td>https://github.com/freeCodeCamp/freeCodeCamp.git</td>\n",
       "      <td>101513652+anjiqbal</td>\n",
       "      <td>users.noreply.github.com</td>\n",
       "    </tr>\n",
       "  </tbody>\n",
       "</table>\n",
       "</div>"
      ],
      "text/plain": [
       "                                      author_email              author_name  \\\n",
       "0                          0nitinchauhan@gmail.com            Nitin Chauhan   \n",
       "1                  0x0936@users.noreply.github.com            Robert Richey   \n",
       "2  10049458+dallyingllama@users.noreply.github.com            dallyingllama   \n",
       "3     1010636+JeremyBlanc@users.noreply.github.com  Jeremias Blanco-Choncén   \n",
       "4      101513652+anjiqbal@users.noreply.github.com              Anjum Iqbal   \n",
       "\n",
       "   commits                                        remote_url  \\\n",
       "0        3  https://github.com/freeCodeCamp/freeCodeCamp.git   \n",
       "1        1  https://github.com/freeCodeCamp/freeCodeCamp.git   \n",
       "2        2  https://github.com/freeCodeCamp/freeCodeCamp.git   \n",
       "3        2  https://github.com/freeCodeCamp/freeCodeCamp.git   \n",
       "4        1  https://github.com/freeCodeCamp/freeCodeCamp.git   \n",
       "\n",
       "           email_username              email_domain  \n",
       "0           0nitinchauhan                 gmail.com  \n",
       "1                  0x0936  users.noreply.github.com  \n",
       "2  10049458+dallyingllama  users.noreply.github.com  \n",
       "3     1010636+JeremyBlanc  users.noreply.github.com  \n",
       "4      101513652+anjiqbal  users.noreply.github.com  "
      ]
     },
     "execution_count": 9,
     "metadata": {},
     "output_type": "execute_result"
    }
   ],
   "source": [
    "git_repo_df.limit(5).toPandas()"
   ]
  },
  {
   "cell_type": "markdown",
   "id": "fffd2a98-1d5f-428a-ae07-824aed92ed94",
   "metadata": {},
   "source": [
    "## Working with reddit data"
   ]
  },
  {
   "cell_type": "code",
   "execution_count": 10,
   "id": "ce235ebf-8599-4e0c-9912-def28cfd9ffa",
   "metadata": {},
   "outputs": [],
   "source": [
    "reddit_df = parsers.df_extract_url(df_reddit, \"body\")\n",
    "reddit_df = parsers.df_parse_domainname(reddit_df, \"url\")"
   ]
  },
  {
   "cell_type": "code",
   "execution_count": 11,
   "id": "9cb42d0c-b9a0-4487-9503-2dd8172403e2",
   "metadata": {},
   "outputs": [
    {
     "name": "stdout",
     "output_type": "stream",
     "text": [
      "root\n",
      " |-- author: string (nullable = true)\n",
      " |-- author_flair_css_class: string (nullable = true)\n",
      " |-- author_flair_text: string (nullable = true)\n",
      " |-- body: string (nullable = true)\n",
      " |-- can_gild: boolean (nullable = true)\n",
      " |-- controversiality: long (nullable = true)\n",
      " |-- created_utc: long (nullable = true)\n",
      " |-- distinguished: string (nullable = true)\n",
      " |-- edited: string (nullable = true)\n",
      " |-- gilded: long (nullable = true)\n",
      " |-- id: string (nullable = true)\n",
      " |-- is_submitter: boolean (nullable = true)\n",
      " |-- link_id: string (nullable = true)\n",
      " |-- parent_id: string (nullable = true)\n",
      " |-- permalink: string (nullable = true)\n",
      " |-- retrieved_on: long (nullable = true)\n",
      " |-- score: long (nullable = true)\n",
      " |-- stickied: boolean (nullable = true)\n",
      " |-- subreddit: string (nullable = true)\n",
      " |-- subreddit_id: string (nullable = true)\n",
      " |-- subreddit_type: string (nullable = true)\n",
      " |-- url: string (nullable = true)\n",
      " |-- domain_name: string (nullable = true)\n",
      "\n"
     ]
    }
   ],
   "source": [
    "reddit_df.printSchema()"
   ]
  },
  {
   "cell_type": "markdown",
   "id": "a15280d3-c621-40ed-aed7-afba9404e733",
   "metadata": {},
   "source": [
    "## Data Integration Time\n",
    "Separately grouBy the domain names, one for reddit, one for git then perform join on the dataframes "
   ]
  },
  {
   "cell_type": "code",
   "execution_count": 12,
   "id": "a4cebf2e-9043-4688-af5d-31106b4aa60d",
   "metadata": {},
   "outputs": [],
   "source": [
    "reddit_domains_grouped = reddit_df.filter( F.col(\"url\") != \"\" ).groupBy(\"domain_name\").count()\n",
    "reddit_domains_grouped = reddit_domains_grouped.withColumnRenamed(\"count\", \"reddit_domain_count\")"
   ]
  },
  {
   "cell_type": "code",
   "execution_count": 14,
   "id": "f71bfe00-818e-4028-a281-2c8c6aadd35d",
   "metadata": {},
   "outputs": [
    {
     "name": "stdout",
     "output_type": "stream",
     "text": [
      "+-----------+----------------------+--------------------------------------------------+--------------------------------------------------------------------------------------------------------------------------------------------------------------------------------------------------------------------------------------------------------------------------------------------------------------------------------------------------------------------------------------------------------------------------------------------------------------------------------------------------------------------------------------------------------------------------------------------------------------------------------------------------------------------------------------+--------+----------------+-----------+-------------+------+------+-------+------------+---------+----------+--------------------------------------------------------------------------------+------------+-----+--------+--------------+------------+--------------+----------------------------+-------------------+\n",
      "|author     |author_flair_css_class|author_flair_text                                 |body                                                                                                                                                                                                                                                                                                                                                                                                                                                                                                                                                                                                                                                                                  |can_gild|controversiality|created_utc|distinguished|edited|gilded|id     |is_submitter|link_id  |parent_id |permalink                                                                       |retrieved_on|score|stickied|subreddit     |subreddit_id|subreddit_type|url                         |domain_name        |\n",
      "+-----------+----------------------+--------------------------------------------------+--------------------------------------------------------------------------------------------------------------------------------------------------------------------------------------------------------------------------------------------------------------------------------------------------------------------------------------------------------------------------------------------------------------------------------------------------------------------------------------------------------------------------------------------------------------------------------------------------------------------------------------------------------------------------------------+--------+----------------+-----------+-------------+------+------+-------+------------+---------+----------+--------------------------------------------------------------------------------+------------+-----+--------+--------------+------------+--------------+----------------------------+-------------------+\n",
      "|megatron537|null                  |null                                              |I personally just don’t like the way it looks. But yeah when you think of a Wrangler, the round headlights and grill is the most iconic part.                                                                                                                                                                                                                                                                                                                                                                                                                                                                                                                                         |true    |0               |1514764800 |null         |false |0     |ds0n31r|false       |t3_7n8m4m|t1_ds0lv4l|/r/Jeep/comments/7n8m4m/i_have_always_wanted_to_be_part_of_this_club_my/ds0n31r/|1515282628  |5    |false   |Jeep          |t5_2r4jn    |public        |                            |                   |\n",
      "|930__      |training              |&gt; 4 months account age. &lt; 700 comment karma.|what is it?                                                                                                                                                                                                                                                                                                                                                                                                                                                                                                                                                                                                                                                                           |true    |0               |1514764800 |null         |false |0     |ds0n31s|false       |t3_7nbwxy|t1_ds0n0w1|/r/CryptoCurrency/comments/7nbwxy/some_doge_for_the_party/ds0n31s/              |1515282628  |1    |false   |CryptoCurrency|t5_2wlj3    |public        |                            |                   |\n",
      "|mozinaps   |null                  |null                                              |We agree and that's why we work with SuperRatings at https://pecuniaresearch.com/ - it still fascinates me that people are so fixated on fees - yes they are important but i've yet to have been convinced why people don't solely focus on net returns - returns presented on Pecunia are calculated net of investment fees, tax and implicit asset-based administration fees although explicit fees such as fixed dollar administration fees, exit fees, contribution fees and switching fees are excluded.\n",
      "\n",
      "Do people really want to try and work through the complexity of each and every single potential fee that one investment option charges relative next investment option?|true    |0               |1514764800 |null         |false |0     |ds0n31v|false       |t3_7kz7a0|t1_drjaqxa|/r/fiaustralia/comments/7kz7a0/high_growth_super_fund/ds0n31v/                  |1515282628  |1    |false   |fiaustralia   |t5_39zkf    |public        |https://pecuniaresearch.com/|pecuniaresearch.com|\n",
      "+-----------+----------------------+--------------------------------------------------+--------------------------------------------------------------------------------------------------------------------------------------------------------------------------------------------------------------------------------------------------------------------------------------------------------------------------------------------------------------------------------------------------------------------------------------------------------------------------------------------------------------------------------------------------------------------------------------------------------------------------------------------------------------------------------------+--------+----------------+-----------+-------------+------+------+-------+------------+---------+----------+--------------------------------------------------------------------------------+------------+-----+--------+--------------+------------+--------------+----------------------------+-------------------+\n",
      "only showing top 3 rows\n",
      "\n"
     ]
    }
   ],
   "source": [
    "reddit_df.show(3, False)"
   ]
  },
  {
   "cell_type": "code",
   "execution_count": 15,
   "id": "3fb8d61b-ec79-4f6d-8a4d-92a2c45796e0",
   "metadata": {},
   "outputs": [
    {
     "data": {
      "text/plain": [
       "1000"
      ]
     },
     "execution_count": 15,
     "metadata": {},
     "output_type": "execute_result"
    }
   ],
   "source": [
    "reddit_df.count()"
   ]
  },
  {
   "cell_type": "code",
   "execution_count": 16,
   "id": "e2af86a4-e050-48fb-b4f4-5d0dd3b0587e",
   "metadata": {},
   "outputs": [],
   "source": [
    "reddit_df = reddit_df[[\"body\", \"url\"]].filter( reddit_df[\"url\"] == \"\")"
   ]
  },
  {
   "cell_type": "code",
   "execution_count": 17,
   "id": "c21367ea-1912-417e-b540-58a03c770864",
   "metadata": {},
   "outputs": [
    {
     "data": {
      "text/plain": [
       "0"
      ]
     },
     "execution_count": 17,
     "metadata": {},
     "output_type": "execute_result"
    }
   ],
   "source": [
    "reddit_df.filter( F.col(\"url\") == None).count()"
   ]
  },
  {
   "cell_type": "code",
   "execution_count": 21,
   "id": "ef4db697-4f02-4d04-b5c2-89dcd94ff590",
   "metadata": {},
   "outputs": [],
   "source": [
    "git_domains_grouped = git_repo_df.groupBy(\"email_domain\").count()\n",
    "git_domains_grouped = git_domains_grouped.withColumnRenamed(\"count\", \"git_domain_count\")"
   ]
  },
  {
   "cell_type": "code",
   "execution_count": 22,
   "id": "b65115ac-aba1-4dc2-8e0f-8bee78b96f45",
   "metadata": {},
   "outputs": [],
   "source": [
    "# reddit_domains_grouped.show(3)"
   ]
  },
  {
   "cell_type": "code",
   "execution_count": 23,
   "id": "67a7c2de-aee1-4684-9655-7ba11cd9ddcb",
   "metadata": {},
   "outputs": [
    {
     "name": "stderr",
     "output_type": "stream",
     "text": [
      "                                                                                \r"
     ]
    },
    {
     "name": "stdout",
     "output_type": "stream",
     "text": [
      "+---------------------------+----------------+\n",
      "|email_domain               |git_domain_count|\n",
      "+---------------------------+----------------+\n",
      "|mowoe.com                  |1               |\n",
      "|tutanota.com               |1               |\n",
      "|biscui.tech                |1               |\n",
      "|nl.rogers.com              |1               |\n",
      "|PRASHANTs-MacBook-Air.local|1               |\n",
      "|my.csun.edu                |1               |\n",
      "|yandex.by                  |1               |\n",
      "|coderain.co.uk             |1               |\n",
      "|oxfordni.com               |1               |\n",
      "|riseup.net                 |1               |\n",
      "+---------------------------+----------------+\n",
      "only showing top 10 rows\n",
      "\n"
     ]
    }
   ],
   "source": [
    "git_domains_grouped.show(10, False)"
   ]
  },
  {
   "cell_type": "code",
   "execution_count": 24,
   "id": "dec49b02-e92a-4652-87fa-4c63753f34d2",
   "metadata": {},
   "outputs": [],
   "source": [
    "joined_domains = reddit_domains_grouped.alias(\"reddit\")\\\n",
    "  .join(git_domains_grouped.alias(\"git\"), F.col(\"git.email_domain\") == F.col(\"reddit.domain_name\"))"
   ]
  },
  {
   "cell_type": "code",
   "execution_count": 25,
   "id": "bfcce73a-be97-4027-9d70-fa073543d731",
   "metadata": {},
   "outputs": [
    {
     "name": "stderr",
     "output_type": "stream",
     "text": [
      "[Stage 29:==========================================>             (57 + 1) / 75]\r"
     ]
    },
    {
     "name": "stdout",
     "output_type": "stream",
     "text": [
      "+-----------+-------------------+------------+----------------+\n",
      "|domain_name|reddit_domain_count|email_domain|git_domain_count|\n",
      "+-----------+-------------------+------------+----------------+\n",
      "| github.com|                 13|  github.com|               3|\n",
      "+-----------+-------------------+------------+----------------+\n",
      "\n"
     ]
    },
    {
     "name": "stderr",
     "output_type": "stream",
     "text": [
      "                                                                                \r"
     ]
    }
   ],
   "source": [
    "joined_domains.show()"
   ]
  },
  {
   "cell_type": "code",
   "execution_count": 26,
   "id": "d1bad119-0296-4b9e-b413-de7e161fbd94",
   "metadata": {},
   "outputs": [],
   "source": [
    "# joined_domains.write.parquet(\"s3a://paul-udacity-capstone/joined_domains.parquet\", mode=\"overwrite\")"
   ]
  },
  {
   "cell_type": "code",
   "execution_count": 27,
   "id": "009f7731-1480-4383-9fc0-4f96acf61448",
   "metadata": {},
   "outputs": [],
   "source": [
    "git_domains_grouped = git_domains_grouped.withColumnRenamed(\"email_domain\", \"domain_name\")"
   ]
  },
  {
   "cell_type": "code",
   "execution_count": 32,
   "id": "2bfac40a-c5b4-444d-bbf8-923e1cb8a327",
   "metadata": {},
   "outputs": [],
   "source": [
    "# reddit_domains_grouped.unionByName( git_domains_grouped,  allowMissingColumns=True ).show()\n",
    "diff1 = [c for c in reddit_domains_grouped.columns if c not in git_domains_grouped.columns]\n",
    "diff2 = [c for c in git_domains_grouped.columns if c not in reddit_domains_grouped.columns]\n",
    "df = git_domains_grouped.select('*', *[F.lit(None).alias(c) for c in diff1]) \\\n",
    "    .unionByName(reddit_domains_grouped.select('*', *[F.lit(None).alias(c) for c in diff2]))"
   ]
  },
  {
   "cell_type": "code",
   "execution_count": 37,
   "id": "f2cc3ff9-f003-467e-a152-acc611887cc3",
   "metadata": {},
   "outputs": [
    {
     "name": "stderr",
     "output_type": "stream",
     "text": [
      "[Stage 40:>                                                         (0 + 1) / 1]\r"
     ]
    },
    {
     "name": "stdout",
     "output_type": "stream",
     "text": [
      "+--------------------+----------------+-------------------+\n",
      "|         domain_name|git_domain_count|reddit_domain_count|\n",
      "+--------------------+----------------+-------------------+\n",
      "|           mowoe.com|               1|               null|\n",
      "|        tutanota.com|               1|               null|\n",
      "|         biscui.tech|               1|               null|\n",
      "|       nl.rogers.com|               1|               null|\n",
      "|PRASHANTs-MacBook...|               1|               null|\n",
      "|         my.csun.edu|               1|               null|\n",
      "|           yandex.by|               1|               null|\n",
      "|      coderain.co.uk|               1|               null|\n",
      "|        oxfordni.com|               1|               null|\n",
      "|          riseup.net|               1|               null|\n",
      "|              usp.br|               1|               null|\n",
      "|         nagarro.com|               1|               null|\n",
      "|           ghosh.pro|               1|               null|\n",
      "|           swedin.nu|               1|               null|\n",
      "| CristiasMacBook.lan|               1|               null|\n",
      "|  cannedsunlight.com|               1|               null|\n",
      "|          mach7x.com|               1|               null|\n",
      "|   greyhoundit.co.uk|               1|               null|\n",
      "|     fatec.sp.gov.br|               1|               null|\n",
      "|             rmgs.co|               1|               null|\n",
      "+--------------------+----------------+-------------------+\n",
      "only showing top 20 rows\n",
      "\n"
     ]
    },
    {
     "name": "stderr",
     "output_type": "stream",
     "text": [
      "                                                                                \r"
     ]
    }
   ],
   "source": [
    "df.show()"
   ]
  },
  {
   "cell_type": "code",
   "execution_count": null,
   "id": "660a5193-126e-4464-9b9b-0922fb669463",
   "metadata": {},
   "outputs": [],
   "source": []
  }
 ],
 "metadata": {
  "kernelspec": {
   "display_name": "Python 3 (ipykernel)",
   "language": "python",
   "name": "python3"
  },
  "language_info": {
   "codemirror_mode": {
    "name": "ipython",
    "version": 3
   },
   "file_extension": ".py",
   "mimetype": "text/x-python",
   "name": "python",
   "nbconvert_exporter": "python",
   "pygments_lexer": "ipython3",
   "version": "3.8.12"
  }
 },
 "nbformat": 4,
 "nbformat_minor": 5
}
