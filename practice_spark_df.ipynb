{
 "cells": [
  {
   "cell_type": "code",
   "execution_count": 1,
   "id": "39c7a16e-b100-421b-ac2b-0f6743731300",
   "metadata": {},
   "outputs": [],
   "source": [
    "from pyspark.sql import SparkSession\n",
    "import pyspark.sql.functions as F\n",
    "import pyspark.sql.types as T\n",
    "import modules.parsers as parsers\n",
    "import glob"
   ]
  },
  {
   "cell_type": "code",
   "execution_count": 2,
   "id": "98cbeb06-d1f3-463f-9fcd-ec5461f701c4",
   "metadata": {},
   "outputs": [
    {
     "name": "stderr",
     "output_type": "stream",
     "text": [
      "22/04/08 14:09:15 WARN Utils: Your hostname, pop-os resolves to a loopback address: 127.0.1.1; using 192.168.2.99 instead (on interface eno1)\n",
      "22/04/08 14:09:15 WARN Utils: Set SPARK_LOCAL_IP if you need to bind to another address\n",
      "Using Spark's default log4j profile: org/apache/spark/log4j-defaults.properties\n",
      "Setting default log level to \"WARN\".\n",
      "To adjust logging level use sc.setLogLevel(newLevel). For SparkR, use setLogLevel(newLevel).\n",
      "22/04/08 14:09:16 WARN NativeCodeLoader: Unable to load native-hadoop library for your platform... using builtin-java classes where applicable\n"
     ]
    }
   ],
   "source": [
    "spark = SparkSession.builder\\\n",
    "                     .master(\"spark://pop-os.localdomain:7077\")\\\n",
    "                     .enableHiveSupport()\\\n",
    "                     .getOrCreate()\n",
    "sc = spark.sparkContext"
   ]
  },
  {
   "cell_type": "markdown",
   "id": "7be7345f-3fd7-4dc1-8528-7fe5ec48bdec",
   "metadata": {},
   "source": [
    "## Working with git repos"
   ]
  },
  {
   "cell_type": "code",
   "execution_count": 3,
   "id": "8c09890d-ea7e-46e5-9ccb-a424e72f4703",
   "metadata": {},
   "outputs": [
    {
     "name": "stderr",
     "output_type": "stream",
     "text": [
      "                                                                                \r"
     ]
    }
   ],
   "source": [
    "files = glob.glob('./out/git_out/**/*.json',  recursive=True)\n",
    "first_file = files.pop()\n",
    "git_repo_df = spark.read.json(first_file)\n",
    "git_repo_df = parsers.df_parse_email(git_repo_df,  \"author_email\")\n",
    "git_repo_df.first()\n",
    "for tmp_df_path in files:\n",
    "    tmp_git_repo_df = spark.read.json(tmp_df_path)\n",
    "    tmp_git_repo_df = parsers.df_parse_email(tmp_git_repo_df,  \"author_email\")\n",
    "    final_df = git_repo_df.unionByName(tmp_git_repo_df)"
   ]
  },
  {
   "cell_type": "code",
   "execution_count": 4,
   "id": "e8da5ac2-e2bf-4687-b959-1d804faf0571",
   "metadata": {},
   "outputs": [
    {
     "data": {
      "text/html": [
       "<div>\n",
       "<style scoped>\n",
       "    .dataframe tbody tr th:only-of-type {\n",
       "        vertical-align: middle;\n",
       "    }\n",
       "\n",
       "    .dataframe tbody tr th {\n",
       "        vertical-align: top;\n",
       "    }\n",
       "\n",
       "    .dataframe thead th {\n",
       "        text-align: right;\n",
       "    }\n",
       "</style>\n",
       "<table border=\"1\" class=\"dataframe\">\n",
       "  <thead>\n",
       "    <tr style=\"text-align: right;\">\n",
       "      <th></th>\n",
       "      <th>author_email</th>\n",
       "      <th>author_name</th>\n",
       "      <th>commits</th>\n",
       "      <th>remote_url</th>\n",
       "      <th>email_username</th>\n",
       "      <th>email_domain</th>\n",
       "    </tr>\n",
       "  </thead>\n",
       "  <tbody>\n",
       "    <tr>\n",
       "      <th>0</th>\n",
       "      <td>100390577+anitajov@users.noreply.github.com</td>\n",
       "      <td>anitajov</td>\n",
       "      <td>1</td>\n",
       "      <td>https://github.com/cardano-foundation/CIPs.git</td>\n",
       "      <td>100390577+anitajov</td>\n",
       "      <td>users.noreply.github.com</td>\n",
       "    </tr>\n",
       "    <tr>\n",
       "      <th>1</th>\n",
       "      <td>12563287+kevinhammond@users.noreply.github.com</td>\n",
       "      <td>Kevin Hammond</td>\n",
       "      <td>2</td>\n",
       "      <td>https://github.com/cardano-foundation/CIPs.git</td>\n",
       "      <td>12563287+kevinhammond</td>\n",
       "      <td>users.noreply.github.com</td>\n",
       "    </tr>\n",
       "    <tr>\n",
       "      <th>2</th>\n",
       "      <td>19835357+intricate@users.noreply.github.com</td>\n",
       "      <td>Luke</td>\n",
       "      <td>4</td>\n",
       "      <td>https://github.com/cardano-foundation/CIPs.git</td>\n",
       "      <td>19835357+intricate</td>\n",
       "      <td>users.noreply.github.com</td>\n",
       "    </tr>\n",
       "    <tr>\n",
       "      <th>3</th>\n",
       "      <td>31965230+katomm@users.noreply.github.com</td>\n",
       "      <td>Tommy Kammerer</td>\n",
       "      <td>1</td>\n",
       "      <td>https://github.com/cardano-foundation/CIPs.git</td>\n",
       "      <td>31965230+katomm</td>\n",
       "      <td>users.noreply.github.com</td>\n",
       "    </tr>\n",
       "    <tr>\n",
       "      <th>4</th>\n",
       "      <td>35738310+alessandrokonrad@users.noreply.github...</td>\n",
       "      <td>alessandrokonrad</td>\n",
       "      <td>2</td>\n",
       "      <td>https://github.com/cardano-foundation/CIPs.git</td>\n",
       "      <td>35738310+alessandrokonrad</td>\n",
       "      <td>users.noreply.github.com</td>\n",
       "    </tr>\n",
       "    <tr>\n",
       "      <th>...</th>\n",
       "      <td>...</td>\n",
       "      <td>...</td>\n",
       "      <td>...</td>\n",
       "      <td>...</td>\n",
       "      <td>...</td>\n",
       "      <td>...</td>\n",
       "    </tr>\n",
       "    <tr>\n",
       "      <th>508</th>\n",
       "      <td>z_robzizo@yahoo.com</td>\n",
       "      <td>robzizo</td>\n",
       "      <td>1</td>\n",
       "      <td>https://github.com/ethereum/EIPs.git</td>\n",
       "      <td>z_robzizo</td>\n",
       "      <td>yahoo.com</td>\n",
       "    </tr>\n",
       "    <tr>\n",
       "      <th>509</th>\n",
       "      <td>zaq1tomo@gmail.com</td>\n",
       "      <td>zaq1tomo</td>\n",
       "      <td>10</td>\n",
       "      <td>https://github.com/ethereum/EIPs.git</td>\n",
       "      <td>zaq1tomo</td>\n",
       "      <td>gmail.com</td>\n",
       "    </tr>\n",
       "    <tr>\n",
       "      <th>510</th>\n",
       "      <td>zhous1998@gmail.com</td>\n",
       "      <td>Derek周朝晖</td>\n",
       "      <td>5</td>\n",
       "      <td>https://github.com/ethereum/EIPs.git</td>\n",
       "      <td>zhous1998</td>\n",
       "      <td>gmail.com</td>\n",
       "    </tr>\n",
       "    <tr>\n",
       "      <th>511</th>\n",
       "      <td>zzn-github@zzn.im</td>\n",
       "      <td>xinbenlv</td>\n",
       "      <td>2</td>\n",
       "      <td>https://github.com/ethereum/EIPs.git</td>\n",
       "      <td>zzn-github</td>\n",
       "      <td>zzn.im</td>\n",
       "    </tr>\n",
       "    <tr>\n",
       "      <th>512</th>\n",
       "      <td>zzn@zzn.im</td>\n",
       "      <td>xinbenlv</td>\n",
       "      <td>6</td>\n",
       "      <td>https://github.com/ethereum/EIPs.git</td>\n",
       "      <td>zzn</td>\n",
       "      <td>zzn.im</td>\n",
       "    </tr>\n",
       "  </tbody>\n",
       "</table>\n",
       "<p>513 rows × 6 columns</p>\n",
       "</div>"
      ],
      "text/plain": [
       "                                          author_email       author_name  \\\n",
       "0          100390577+anitajov@users.noreply.github.com          anitajov   \n",
       "1       12563287+kevinhammond@users.noreply.github.com     Kevin Hammond   \n",
       "2          19835357+intricate@users.noreply.github.com              Luke   \n",
       "3             31965230+katomm@users.noreply.github.com    Tommy Kammerer   \n",
       "4    35738310+alessandrokonrad@users.noreply.github...  alessandrokonrad   \n",
       "..                                                 ...               ...   \n",
       "508                                z_robzizo@yahoo.com           robzizo   \n",
       "509                                 zaq1tomo@gmail.com          zaq1tomo   \n",
       "510                                zhous1998@gmail.com          Derek周朝晖   \n",
       "511                                  zzn-github@zzn.im          xinbenlv   \n",
       "512                                         zzn@zzn.im          xinbenlv   \n",
       "\n",
       "     commits                                      remote_url  \\\n",
       "0          1  https://github.com/cardano-foundation/CIPs.git   \n",
       "1          2  https://github.com/cardano-foundation/CIPs.git   \n",
       "2          4  https://github.com/cardano-foundation/CIPs.git   \n",
       "3          1  https://github.com/cardano-foundation/CIPs.git   \n",
       "4          2  https://github.com/cardano-foundation/CIPs.git   \n",
       "..       ...                                             ...   \n",
       "508        1            https://github.com/ethereum/EIPs.git   \n",
       "509       10            https://github.com/ethereum/EIPs.git   \n",
       "510        5            https://github.com/ethereum/EIPs.git   \n",
       "511        2            https://github.com/ethereum/EIPs.git   \n",
       "512        6            https://github.com/ethereum/EIPs.git   \n",
       "\n",
       "                email_username              email_domain  \n",
       "0           100390577+anitajov  users.noreply.github.com  \n",
       "1        12563287+kevinhammond  users.noreply.github.com  \n",
       "2           19835357+intricate  users.noreply.github.com  \n",
       "3              31965230+katomm  users.noreply.github.com  \n",
       "4    35738310+alessandrokonrad  users.noreply.github.com  \n",
       "..                         ...                       ...  \n",
       "508                  z_robzizo                 yahoo.com  \n",
       "509                   zaq1tomo                 gmail.com  \n",
       "510                  zhous1998                 gmail.com  \n",
       "511                 zzn-github                    zzn.im  \n",
       "512                        zzn                    zzn.im  \n",
       "\n",
       "[513 rows x 6 columns]"
      ]
     },
     "execution_count": 4,
     "metadata": {},
     "output_type": "execute_result"
    }
   ],
   "source": [
    "final_df.toPandas()"
   ]
  },
  {
   "cell_type": "markdown",
   "id": "fffd2a98-1d5f-428a-ae07-824aed92ed94",
   "metadata": {},
   "source": [
    "## Working with reddit data"
   ]
  },
  {
   "cell_type": "code",
   "execution_count": 5,
   "id": "ce235ebf-8599-4e0c-9912-def28cfd9ffa",
   "metadata": {},
   "outputs": [],
   "source": [
    "def df_extract_url(tmp_df, tmp_col):\n",
    "    return tmp_df.withColumn(\"url\", F.regexp_extract(F.col(tmp_col), r\"(?i)\\b((?:https?://|www\\d{0,3}[.]|[a-z0-9.\\-]+[.][a-z]{2,4}/)(?:[^\\s()<>]+|\\(([^\\s()<>]+|(\\([^\\s()<>]+\\)))*\\))+(?:\\(([^\\s()<>]+|(\\([^\\s()<>]+\\)))*\\)|[^\\s`!()\\[\\]{};:'\\\".,<>?«»“”‘’]))\", 0))          \n",
    "\n",
    "def df_parse_domainname(tmp_df, tmp_col):\n",
    "    tmp_df = tmp_df.withColumn( \"domain_name\", F.regexp_extract(F.col(tmp_col) , r'^(?:http:\\/\\/|www\\.|https:\\/\\/)([^\\/]+)', 1)) \n",
    "    return tmp_df\n",
    "\n",
    "reddit_df = spark.read.json('./data/002.ndjson')# RC_2018-01-01.ndjson')\n",
    "reddit_df = df_extract_url(reddit_df, \"body\")\n",
    "reddit_df = df_parse_domainname(reddit_df, \"url\")"
   ]
  },
  {
   "cell_type": "code",
   "execution_count": 6,
   "id": "ec107643-47d7-4a38-a095-5f62d966e94f",
   "metadata": {},
   "outputs": [
    {
     "name": "stdout",
     "output_type": "stream",
     "text": [
      "+--------------------+--------------------+--------------+\n",
      "|                body|                 url|   domain_name|\n",
      "+--------------------+--------------------+--------------+\n",
      "|Good post but unf...|https://www.reddi...|www.reddit.com|\n",
      "|First of all, mut...|http://gen.lib.ru...|gen.lib.rus.ec|\n",
      "|May I ask why the...|https://imgur.com...|     imgur.com|\n",
      "+--------------------+--------------------+--------------+\n",
      "only showing top 3 rows\n",
      "\n"
     ]
    }
   ],
   "source": [
    "reddit_df[[\"body\", \"url\", \"domain_name\"]].filter( F.col(\"url\") != \"\" ).show(3)"
   ]
  },
  {
   "cell_type": "code",
   "execution_count": 7,
   "id": "01e5ad5a-2ccc-4341-8fe3-14fef6ac4439",
   "metadata": {},
   "outputs": [
    {
     "name": "stderr",
     "output_type": "stream",
     "text": [
      "22/04/08 14:09:22 WARN package: Truncated the string representation of a plan since it was too large. This behavior can be adjusted by setting 'spark.sql.debug.maxToStringFields'.\n"
     ]
    },
    {
     "data": {
      "text/html": [
       "<div>\n",
       "<style scoped>\n",
       "    .dataframe tbody tr th:only-of-type {\n",
       "        vertical-align: middle;\n",
       "    }\n",
       "\n",
       "    .dataframe tbody tr th {\n",
       "        vertical-align: top;\n",
       "    }\n",
       "\n",
       "    .dataframe thead th {\n",
       "        text-align: right;\n",
       "    }\n",
       "</style>\n",
       "<table border=\"1\" class=\"dataframe\">\n",
       "  <thead>\n",
       "    <tr style=\"text-align: right;\">\n",
       "      <th></th>\n",
       "      <th>archived</th>\n",
       "      <th>author</th>\n",
       "      <th>author_cakeday</th>\n",
       "      <th>author_created_utc</th>\n",
       "      <th>author_flair_background_color</th>\n",
       "      <th>author_flair_css_class</th>\n",
       "      <th>author_flair_richtext</th>\n",
       "      <th>author_flair_template_id</th>\n",
       "      <th>author_flair_text</th>\n",
       "      <th>author_flair_text_color</th>\n",
       "      <th>...</th>\n",
       "      <th>retrieved_on</th>\n",
       "      <th>score</th>\n",
       "      <th>send_replies</th>\n",
       "      <th>stickied</th>\n",
       "      <th>subreddit</th>\n",
       "      <th>subreddit_id</th>\n",
       "      <th>subreddit_name_prefixed</th>\n",
       "      <th>subreddit_type</th>\n",
       "      <th>url</th>\n",
       "      <th>domain_name</th>\n",
       "    </tr>\n",
       "  </thead>\n",
       "  <tbody>\n",
       "    <tr>\n",
       "      <th>0</th>\n",
       "      <td>None</td>\n",
       "      <td>brice_krispy</td>\n",
       "      <td>None</td>\n",
       "      <td>1547600379</td>\n",
       "      <td>None</td>\n",
       "      <td>None</td>\n",
       "      <td>[]</td>\n",
       "      <td>None</td>\n",
       "      <td>None</td>\n",
       "      <td>None</td>\n",
       "      <td>...</td>\n",
       "      <td>1554273048</td>\n",
       "      <td>1</td>\n",
       "      <td>True</td>\n",
       "      <td>False</td>\n",
       "      <td>Sneakers</td>\n",
       "      <td>t5_2qrtt</td>\n",
       "      <td>r/Sneakers</td>\n",
       "      <td>public</td>\n",
       "      <td></td>\n",
       "      <td></td>\n",
       "    </tr>\n",
       "  </tbody>\n",
       "</table>\n",
       "<p>1 rows × 42 columns</p>\n",
       "</div>"
      ],
      "text/plain": [
       "  archived        author author_cakeday  author_created_utc  \\\n",
       "0     None  brice_krispy           None          1547600379   \n",
       "\n",
       "  author_flair_background_color author_flair_css_class author_flair_richtext  \\\n",
       "0                          None                   None                    []   \n",
       "\n",
       "  author_flair_template_id author_flair_text author_flair_text_color  ...  \\\n",
       "0                     None              None                    None  ...   \n",
       "\n",
       "  retrieved_on score  send_replies stickied  subreddit  subreddit_id  \\\n",
       "0   1554273048     1          True    False   Sneakers      t5_2qrtt   \n",
       "\n",
       "   subreddit_name_prefixed subreddit_type  url  domain_name  \n",
       "0               r/Sneakers         public                    \n",
       "\n",
       "[1 rows x 42 columns]"
      ]
     },
     "execution_count": 7,
     "metadata": {},
     "output_type": "execute_result"
    }
   ],
   "source": [
    "reddit_df.limit(1).toPandas()"
   ]
  },
  {
   "cell_type": "markdown",
   "id": "a15280d3-c621-40ed-aed7-afba9404e733",
   "metadata": {},
   "source": [
    "## Data Integration Time\n",
    "Separately grouBy the domain names, one for reddit, one for git then perform join on the dataframes "
   ]
  },
  {
   "cell_type": "code",
   "execution_count": 8,
   "id": "a4cebf2e-9043-4688-af5d-31106b4aa60d",
   "metadata": {},
   "outputs": [],
   "source": [
    "reddit_domains_grouped = reddit_df.groupBy(\"domain_name\").count()\n",
    "reddit_domains_grouped = reddit_domains_grouped.withColumnRenamed(\"count\", \"reddit_domain_count\")"
   ]
  },
  {
   "cell_type": "code",
   "execution_count": null,
   "id": "ef4db697-4f02-4d04-b5c2-89dcd94ff590",
   "metadata": {},
   "outputs": [],
   "source": [
    "git_domains_grouped = git_repo_df.groupBy(\"email_domain\").count()\n",
    "git_domains_grouped = git_domains_grouped.withColumnRenamed(\"count\", \"git_domain_count\")"
   ]
  },
  {
   "cell_type": "code",
   "execution_count": null,
   "id": "b65115ac-aba1-4dc2-8e0f-8bee78b96f45",
   "metadata": {},
   "outputs": [],
   "source": [
    "reddit_domains_grouped.show(3)"
   ]
  },
  {
   "cell_type": "code",
   "execution_count": null,
   "id": "67a7c2de-aee1-4684-9655-7ba11cd9ddcb",
   "metadata": {},
   "outputs": [],
   "source": [
    "git_domains_grouped.show(3)"
   ]
  },
  {
   "cell_type": "code",
   "execution_count": null,
   "id": "babd5feb-d071-4d10-bbf9-100f53c43a86",
   "metadata": {},
   "outputs": [],
   "source": [
    "domains_list = reddit_domains_grouped[[\"domain_name\", \"reddit_domain_count\"]].\\\n",
    "    withColumnRenamed(\"domain_name\",\"domain_name\").\\\n",
    "    union(git_domains_grouped[[\"email_domain\", \"git_domain_count\"]])"
   ]
  },
  {
   "cell_type": "code",
   "execution_count": null,
   "id": "dec49b02-e92a-4652-87fa-4c63753f34d2",
   "metadata": {},
   "outputs": [],
   "source": [
    "joined_domains = reddit_domains_grouped.alias(\"reddit\")\\\n",
    "  .join(git_domains_grouped.alias(\"git\"), F.col(\"git.email_domain\") == F.col(\"reddit.domain_name\"))"
   ]
  },
  {
   "cell_type": "code",
   "execution_count": null,
   "id": "e7974f16-530a-4667-9315-34a932b0669b",
   "metadata": {},
   "outputs": [],
   "source": [
    "git_domains_grouped.show()"
   ]
  },
  {
   "cell_type": "code",
   "execution_count": null,
   "id": "d65e5e55-6094-4de3-924b-e79a2a250a75",
   "metadata": {},
   "outputs": [],
   "source": [
    "joined_domains.show()"
   ]
  },
  {
   "cell_type": "code",
   "execution_count": null,
   "id": "8fb80653-2b7a-4950-ba66-231bb4b62769",
   "metadata": {},
   "outputs": [],
   "source": [
    "unioned_domains = reddit_domains_grouped.unionByName(git_domains_grouped.withColumnRenamed(\"email_domain\", \"domain_name\"),  allowMissingColumns=True)"
   ]
  },
  {
   "cell_type": "code",
   "execution_count": null,
   "id": "e49376e2-058b-4b5b-9e5d-27e8741fb527",
   "metadata": {},
   "outputs": [],
   "source": [
    "unioned_domains.show()"
   ]
  },
  {
   "cell_type": "code",
   "execution_count": null,
   "id": "dd7ebf12-2912-4f28-9f08-7ab96a75accd",
   "metadata": {},
   "outputs": [],
   "source": [
    "unioned_domains = reddit_domains_grouped.unionByName(git_domains_grouped)"
   ]
  }
 ],
 "metadata": {
  "kernelspec": {
   "display_name": "Python 3 (ipykernel)",
   "language": "python",
   "name": "python3"
  },
  "language_info": {
   "codemirror_mode": {
    "name": "ipython",
    "version": 3
   },
   "file_extension": ".py",
   "mimetype": "text/x-python",
   "name": "python",
   "nbconvert_exporter": "python",
   "pygments_lexer": "ipython3",
   "version": "3.8.12"
  }
 },
 "nbformat": 4,
 "nbformat_minor": 5
}
