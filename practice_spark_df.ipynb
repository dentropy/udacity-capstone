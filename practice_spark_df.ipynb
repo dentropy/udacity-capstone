{
 "cells": [
  {
   "cell_type": "code",
   "execution_count": 1,
   "id": "39c7a16e-b100-421b-ac2b-0f6743731300",
   "metadata": {},
   "outputs": [],
   "source": [
    "from pyspark.sql import SparkSession\n",
    "import pyspark.sql.functions as F\n",
    "import pyspark.sql.types as T\n",
    "import modules.parsers as parsers\n",
    "import glob"
   ]
  },
  {
   "cell_type": "code",
   "execution_count": 2,
   "id": "98cbeb06-d1f3-463f-9fcd-ec5461f701c4",
   "metadata": {},
   "outputs": [
    {
     "name": "stderr",
     "output_type": "stream",
     "text": [
      "22/04/07 22:22:45 WARN Utils: Your hostname, pop-os resolves to a loopback address: 127.0.1.1; using 10.10.64.126 instead (on interface wlp59s0)\n",
      "22/04/07 22:22:45 WARN Utils: Set SPARK_LOCAL_IP if you need to bind to another address\n",
      "WARNING: An illegal reflective access operation has occurred\n",
      "WARNING: Illegal reflective access by org.apache.spark.unsafe.Platform (file:/home/paul/.local/lib/python3.8/site-packages/pyspark/jars/spark-unsafe_2.12-3.2.1.jar) to constructor java.nio.DirectByteBuffer(long,int)\n",
      "WARNING: Please consider reporting this to the maintainers of org.apache.spark.unsafe.Platform\n",
      "WARNING: Use --illegal-access=warn to enable warnings of further illegal reflective access operations\n",
      "WARNING: All illegal access operations will be denied in a future release\n",
      "Using Spark's default log4j profile: org/apache/spark/log4j-defaults.properties\n",
      "Setting default log level to \"WARN\".\n",
      "To adjust logging level use sc.setLogLevel(newLevel). For SparkR, use setLogLevel(newLevel).\n",
      "22/04/07 22:22:45 WARN NativeCodeLoader: Unable to load native-hadoop library for your platform... using builtin-java classes where applicable\n"
     ]
    }
   ],
   "source": [
    "spark = SparkSession.builder\\\n",
    "                     .master(\"spark://pop-os.localdomain:7077\")\\\n",
    "                     .enableHiveSupport() \\\n",
    "                     .getOrCreate()\n",
    "sc = spark.sparkContext"
   ]
  },
  {
   "cell_type": "code",
   "execution_count": 3,
   "id": "80499a69-3fc9-4608-93fc-f2a28eb379d7",
   "metadata": {},
   "outputs": [],
   "source": [
    "import pyspark.sql.functions as F\n",
    "# Extract a URL from a string\n",
    "\n",
    "## df_extract_url\n",
    "#  * Take input of a dataframe\n",
    "#  * Takes a column name to extract url from body of text\n",
    "# Regex Source: https://stackoverflow.com/questions/28185064/python-infinite-loop-in-regex-to-match-url\n",
    "def df_extract_url(tmp_df, tmp_col):\n",
    "    return tmp_df.withColumn(\"url\", F.regexp_extract(F.col(tmp_col), r\"(?i)\\b((?:https?://|www\\d{0,3}[.]|[a-z0-9.\\-]+[.][a-z]{2,4}/)(?:[^\\s()<>]+|\\(([^\\s()<>]+|(\\([^\\s()<>]+\\)))*\\))+(?:\\(([^\\s()<>]+|(\\([^\\s()<>]+\\)))*\\)|[^\\s`!()\\[\\]{};:'\\\".,<>?«»“”‘’]))\", 0))          \n",
    "\n",
    "\n",
    "# Get domain name from URL and put it in domainname table\n",
    "# Regex Source: https://stackoverflow.com/questions/25703360/regular-expression-extract-subdomain-domain\n",
    "def df_parse_domainname(tmp_df, tmp_col):\n",
    "    tmp_df = tmp_df.withColumn( \"domain_name\", F.regexp_extract(F.col(tmp_col) , r'^(?:http:\\/\\/|www\\.|https:\\/\\/)([^\\/]+)', 1)) \n",
    "    return tmp_df\n",
    "\n",
    "# Get the domain name of an email from an email address\n",
    "def df_parse_email(tmp_df, tmp_col):\n",
    "    tmp_df = tmp_df.withColumn(\"email_username\" , F.regexp_extract(F.col(tmp_col),   r'([^@]+)', 1)) \n",
    "    tmp_df = tmp_df.withColumn(\"email_domain\"   , F.regexp_extract(F.col(tmp_col) ,  r'@(.*)'  , 1)) \n",
    "    return tmp_df"
   ]
  },
  {
   "cell_type": "markdown",
   "id": "7be7345f-3fd7-4dc1-8528-7fe5ec48bdec",
   "metadata": {},
   "source": [
    "## Working with git repos"
   ]
  },
  {
   "cell_type": "code",
   "execution_count": 4,
   "id": "8c09890d-ea7e-46e5-9ccb-a424e72f4703",
   "metadata": {},
   "outputs": [
    {
     "name": "stderr",
     "output_type": "stream",
     "text": [
      "                                                                                \r"
     ]
    }
   ],
   "source": [
    "files = glob.glob('./out/git_out/**/*.json',  recursive=True)\n",
    "first_file = files.pop()\n",
    "git_repo_df = spark.read.json(first_file)\n",
    "git_repo_df = parsers.df_parse_email(git_repo_df,  \"author_email\")\n",
    "git_repo_df.first()\n",
    "for tmp_df_path in files:\n",
    "    tmp_git_repo_df = spark.read.json(tmp_df_path)\n",
    "    tmp_git_repo_df = parsers.df_parse_email(tmp_git_repo_df,  \"author_email\")\n",
    "    final_df = git_repo_df.unionByName(tmp_git_repo_df)"
   ]
  },
  {
   "cell_type": "code",
   "execution_count": 5,
   "id": "08a97ca1-2b09-4365-ad98-407258172e3f",
   "metadata": {},
   "outputs": [
    {
     "name": "stdout",
     "output_type": "stream",
     "text": [
      "+----------------------------------------------+----------------+-------+------------------------------------+---------------------+------------------------+\n",
      "|author_email                                  |author_name     |commits|remote_url                          |email_username       |email_domain            |\n",
      "+----------------------------------------------+----------------+-------+------------------------------------+---------------------+------------------------+\n",
      "|0xfawkes@protonmail.com                       |0xfawkes        |1      |https://github.com/ethereum/EIPs.git|0xfawkes             |protonmail.com          |\n",
      "|12873030+mryalamanchi@users.noreply.github.com|mr.yalamanchi   |3      |https://github.com/ethereum/EIPs.git|12873030+mryalamanchi|users.noreply.github.com|\n",
      "|14004106+lightclient@users.noreply.github.com |lightclient     |62     |https://github.com/ethereum/EIPs.git|14004106+lightclient |users.noreply.github.com|\n",
      "|1591639+s1na@users.noreply.github.com         |Sina Mahmoodi   |2      |https://github.com/ethereum/EIPs.git|1591639+s1na         |users.noreply.github.com|\n",
      "|1641795+vikmeup@users.noreply.github.com      |Viktor Radchenko|1      |https://github.com/ethereum/EIPs.git|1641795+vikmeup      |users.noreply.github.com|\n",
      "|16929357+GregTheGreek@users.noreply.github.com|Gregory Markou  |7      |https://github.com/ethereum/EIPs.git|16929357+GregTheGreek|users.noreply.github.com|\n",
      "|16969914+jamesray1@users.noreply.github.com   |James Ray       |61     |https://github.com/ethereum/EIPs.git|16969914+jamesray1   |users.noreply.github.com|\n",
      "|17414704+VexyCats@users.noreply.github.com    |VexyCats        |2      |https://github.com/ethereum/EIPs.git|17414704+VexyCats    |users.noreply.github.com|\n",
      "|1797079433@qq.com                             |Zhihao Chen     |1      |https://github.com/ethereum/EIPs.git|1797079433           |qq.com                  |\n",
      "|22412996+zemse@users.noreply.github.com       |soham           |1      |https://github.com/ethereum/EIPs.git|22412996+zemse       |users.noreply.github.com|\n",
      "+----------------------------------------------+----------------+-------+------------------------------------+---------------------+------------------------+\n",
      "only showing top 10 rows\n",
      "\n"
     ]
    }
   ],
   "source": [
    "final_df.show(10, False) "
   ]
  },
  {
   "cell_type": "code",
   "execution_count": 35,
   "id": "e8da5ac2-e2bf-4687-b959-1d804faf0571",
   "metadata": {},
   "outputs": [
    {
     "data": {
      "text/html": [
       "<div>\n",
       "<style scoped>\n",
       "    .dataframe tbody tr th:only-of-type {\n",
       "        vertical-align: middle;\n",
       "    }\n",
       "\n",
       "    .dataframe tbody tr th {\n",
       "        vertical-align: top;\n",
       "    }\n",
       "\n",
       "    .dataframe thead th {\n",
       "        text-align: right;\n",
       "    }\n",
       "</style>\n",
       "<table border=\"1\" class=\"dataframe\">\n",
       "  <thead>\n",
       "    <tr style=\"text-align: right;\">\n",
       "      <th></th>\n",
       "      <th>author_email</th>\n",
       "      <th>author_name</th>\n",
       "      <th>commits</th>\n",
       "      <th>remote_url</th>\n",
       "      <th>email_username</th>\n",
       "      <th>email_domain</th>\n",
       "    </tr>\n",
       "  </thead>\n",
       "  <tbody>\n",
       "    <tr>\n",
       "      <th>0</th>\n",
       "      <td>0xfawkes@protonmail.com</td>\n",
       "      <td>0xfawkes</td>\n",
       "      <td>1</td>\n",
       "      <td>https://github.com/ethereum/EIPs.git</td>\n",
       "      <td>0xfawkes</td>\n",
       "      <td>protonmail.com</td>\n",
       "    </tr>\n",
       "    <tr>\n",
       "      <th>1</th>\n",
       "      <td>12873030+mryalamanchi@users.noreply.github.com</td>\n",
       "      <td>mr.yalamanchi</td>\n",
       "      <td>3</td>\n",
       "      <td>https://github.com/ethereum/EIPs.git</td>\n",
       "      <td>12873030+mryalamanchi</td>\n",
       "      <td>users.noreply.github.com</td>\n",
       "    </tr>\n",
       "    <tr>\n",
       "      <th>2</th>\n",
       "      <td>14004106+lightclient@users.noreply.github.com</td>\n",
       "      <td>lightclient</td>\n",
       "      <td>62</td>\n",
       "      <td>https://github.com/ethereum/EIPs.git</td>\n",
       "      <td>14004106+lightclient</td>\n",
       "      <td>users.noreply.github.com</td>\n",
       "    </tr>\n",
       "    <tr>\n",
       "      <th>3</th>\n",
       "      <td>1591639+s1na@users.noreply.github.com</td>\n",
       "      <td>Sina Mahmoodi</td>\n",
       "      <td>2</td>\n",
       "      <td>https://github.com/ethereum/EIPs.git</td>\n",
       "      <td>1591639+s1na</td>\n",
       "      <td>users.noreply.github.com</td>\n",
       "    </tr>\n",
       "    <tr>\n",
       "      <th>4</th>\n",
       "      <td>1641795+vikmeup@users.noreply.github.com</td>\n",
       "      <td>Viktor Radchenko</td>\n",
       "      <td>1</td>\n",
       "      <td>https://github.com/ethereum/EIPs.git</td>\n",
       "      <td>1641795+vikmeup</td>\n",
       "      <td>users.noreply.github.com</td>\n",
       "    </tr>\n",
       "    <tr>\n",
       "      <th>...</th>\n",
       "      <td>...</td>\n",
       "      <td>...</td>\n",
       "      <td>...</td>\n",
       "      <td>...</td>\n",
       "      <td>...</td>\n",
       "      <td>...</td>\n",
       "    </tr>\n",
       "    <tr>\n",
       "      <th>508</th>\n",
       "      <td>rooooooooob@users.noreply.github.com</td>\n",
       "      <td>rooooooooob</td>\n",
       "      <td>2</td>\n",
       "      <td>https://github.com/cardano-foundation/CIPs.git</td>\n",
       "      <td>rooooooooob</td>\n",
       "      <td>users.noreply.github.com</td>\n",
       "    </tr>\n",
       "    <tr>\n",
       "      <th>509</th>\n",
       "      <td>rphair@cosd.com</td>\n",
       "      <td>Robert Phair</td>\n",
       "      <td>2</td>\n",
       "      <td>https://github.com/cardano-foundation/CIPs.git</td>\n",
       "      <td>rphair</td>\n",
       "      <td>cosd.com</td>\n",
       "    </tr>\n",
       "    <tr>\n",
       "      <th>510</th>\n",
       "      <td>sebastiengllmt@gmail.com</td>\n",
       "      <td>Sebastien Guillemot</td>\n",
       "      <td>6</td>\n",
       "      <td>https://github.com/cardano-foundation/CIPs.git</td>\n",
       "      <td>sebastiengllmt</td>\n",
       "      <td>gmail.com</td>\n",
       "    </tr>\n",
       "    <tr>\n",
       "      <th>511</th>\n",
       "      <td>shawn_mcmurdo@yahoo.com</td>\n",
       "      <td>Shawn McMurdo</td>\n",
       "      <td>5</td>\n",
       "      <td>https://github.com/cardano-foundation/CIPs.git</td>\n",
       "      <td>shawn_mcmurdo</td>\n",
       "      <td>yahoo.com</td>\n",
       "    </tr>\n",
       "    <tr>\n",
       "      <th>512</th>\n",
       "      <td>vantuz-subhuman@yandex.ru</td>\n",
       "      <td>Ruslan Dudin</td>\n",
       "      <td>2</td>\n",
       "      <td>https://github.com/cardano-foundation/CIPs.git</td>\n",
       "      <td>vantuz-subhuman</td>\n",
       "      <td>yandex.ru</td>\n",
       "    </tr>\n",
       "  </tbody>\n",
       "</table>\n",
       "<p>513 rows × 6 columns</p>\n",
       "</div>"
      ],
      "text/plain": [
       "                                       author_email          author_name  \\\n",
       "0                           0xfawkes@protonmail.com             0xfawkes   \n",
       "1    12873030+mryalamanchi@users.noreply.github.com        mr.yalamanchi   \n",
       "2     14004106+lightclient@users.noreply.github.com          lightclient   \n",
       "3             1591639+s1na@users.noreply.github.com        Sina Mahmoodi   \n",
       "4          1641795+vikmeup@users.noreply.github.com     Viktor Radchenko   \n",
       "..                                              ...                  ...   \n",
       "508            rooooooooob@users.noreply.github.com          rooooooooob   \n",
       "509                                 rphair@cosd.com         Robert Phair   \n",
       "510                        sebastiengllmt@gmail.com  Sebastien Guillemot   \n",
       "511                         shawn_mcmurdo@yahoo.com        Shawn McMurdo   \n",
       "512                       vantuz-subhuman@yandex.ru         Ruslan Dudin   \n",
       "\n",
       "     commits                                      remote_url  \\\n",
       "0          1            https://github.com/ethereum/EIPs.git   \n",
       "1          3            https://github.com/ethereum/EIPs.git   \n",
       "2         62            https://github.com/ethereum/EIPs.git   \n",
       "3          2            https://github.com/ethereum/EIPs.git   \n",
       "4          1            https://github.com/ethereum/EIPs.git   \n",
       "..       ...                                             ...   \n",
       "508        2  https://github.com/cardano-foundation/CIPs.git   \n",
       "509        2  https://github.com/cardano-foundation/CIPs.git   \n",
       "510        6  https://github.com/cardano-foundation/CIPs.git   \n",
       "511        5  https://github.com/cardano-foundation/CIPs.git   \n",
       "512        2  https://github.com/cardano-foundation/CIPs.git   \n",
       "\n",
       "            email_username              email_domain  \n",
       "0                 0xfawkes            protonmail.com  \n",
       "1    12873030+mryalamanchi  users.noreply.github.com  \n",
       "2     14004106+lightclient  users.noreply.github.com  \n",
       "3             1591639+s1na  users.noreply.github.com  \n",
       "4          1641795+vikmeup  users.noreply.github.com  \n",
       "..                     ...                       ...  \n",
       "508            rooooooooob  users.noreply.github.com  \n",
       "509                 rphair                  cosd.com  \n",
       "510         sebastiengllmt                 gmail.com  \n",
       "511          shawn_mcmurdo                 yahoo.com  \n",
       "512        vantuz-subhuman                 yandex.ru  \n",
       "\n",
       "[513 rows x 6 columns]"
      ]
     },
     "execution_count": 35,
     "metadata": {},
     "output_type": "execute_result"
    }
   ],
   "source": [
    "final_df.toPandas()"
   ]
  },
  {
   "cell_type": "markdown",
   "id": "fffd2a98-1d5f-428a-ae07-824aed92ed94",
   "metadata": {},
   "source": [
    "## Working with reddit data"
   ]
  },
  {
   "cell_type": "code",
   "execution_count": 6,
   "id": "49bea437-dc98-457c-ba74-d943d2f8ed75",
   "metadata": {},
   "outputs": [
    {
     "name": "stderr",
     "output_type": "stream",
     "text": [
      "                                                                                \r"
     ]
    },
    {
     "name": "stdout",
     "output_type": "stream",
     "text": [
      "+------------------------------------------------------------+------------------------------+\n",
      "|url                                                         |domain                        |\n",
      "+------------------------------------------------------------+------------------------------+\n",
      "|https://auth.geeksforgeeks.org/user/Chinmoy%20Lenka/articles|https://auth.geeksforgeeks.org|\n",
      "|https://www.udacity.com/                                    |https://www.udacity.com       |\n",
      "|www.udacity.com                                             |www.udacity.com               |\n",
      "|                                                            |                              |\n",
      "+------------------------------------------------------------+------------------------------+\n",
      "\n"
     ]
    }
   ],
   "source": [
    "text = ['My Profile: https://auth.geeksforgeeks.org/user/Chinmoy%20Lenka/articles in the portal of https://www.geeksforgeeks.org/',\n",
    "        \"Hello world https://www.udacity.com/\", \n",
    "        \"Hello World www.udacity.com\", \n",
    "        \"What about these URLs google.com NOPE\",  \n",
    "]\n",
    "\n",
    "df = spark.createDataFrame(text, T.StringType()).toDF(\"text\")\n",
    "\n",
    "df = df.withColumn(\"url\", F.regexp_extract(df.text, r\"(?i)\\b((?:https?://|www\\d{0,3}[.]|[a-z0-9.\\-]+[.][a-z]{2,4}/)(?:[^\\s()<>]+|\\(([^\\s()<>]+|(\\([^\\s()<>]+\\)))*\\))+(?:\\(([^\\s()<>]+|(\\([^\\s()<>]+\\)))*\\)|[^\\s`!()\\[\\]{};:'\\\".,<>?«»“”‘’]))\", 0))          \n",
    "df = df.withColumn(\"domain\", F.regexp_extract(df.url, r'^(?:http:\\/\\/|www\\.|https:\\/\\/)([^\\/]+)', 0))            \n",
    "df[[\"url\", \"domain\"]].show(5, False)"
   ]
  },
  {
   "cell_type": "code",
   "execution_count": 7,
   "id": "63ea5047-ff4b-451d-839e-153d3bc463d9",
   "metadata": {},
   "outputs": [],
   "source": [
    "reddit_df = spark.read.json('./data/reddit-stuff/xaa')# RC_2018-01-01.ndjson')"
   ]
  },
  {
   "cell_type": "code",
   "execution_count": 8,
   "id": "b89f968f-1a1b-4a07-b5d8-d0fddceccdf8",
   "metadata": {},
   "outputs": [],
   "source": [
    "reddit_df = df_extract_url(reddit_df, \"body\")"
   ]
  },
  {
   "cell_type": "code",
   "execution_count": 9,
   "id": "c0441b93-adb3-48c2-a5e5-5d11e0394869",
   "metadata": {},
   "outputs": [
    {
     "name": "stdout",
     "output_type": "stream",
     "text": [
      "+--------------------+--------------------+\n",
      "|                body|                 url|\n",
      "+--------------------+--------------------+\n",
      "|We agree and that...|https://pecuniare...|\n",
      "|We agree and that...|https://pecuniare...|\n",
      "|We agree and that...|https://pecuniare...|\n",
      "+--------------------+--------------------+\n",
      "only showing top 3 rows\n",
      "\n"
     ]
    }
   ],
   "source": [
    "reddit_df[[\"body\", \"url\"]].filter( F.col(\"url\") != \"\" ).show(3)"
   ]
  },
  {
   "cell_type": "code",
   "execution_count": 10,
   "id": "9468cb9a-7fc4-4a71-9e72-86add8fb8ac3",
   "metadata": {},
   "outputs": [],
   "source": [
    "reddit_df = parsers.df_parse_domainname(reddit_df, \"url\")"
   ]
  },
  {
   "cell_type": "code",
   "execution_count": 11,
   "id": "a02bf2d6-3952-4a8a-bb53-1da36f49cba1",
   "metadata": {},
   "outputs": [
    {
     "name": "stdout",
     "output_type": "stream",
     "text": [
      "+----------------------------+-------------------+\n",
      "|url                         |domain_name        |\n",
      "+----------------------------+-------------------+\n",
      "|https://pecuniaresearch.com/|pecuniaresearch.com|\n",
      "|https://pecuniaresearch.com/|pecuniaresearch.com|\n",
      "|https://pecuniaresearch.com/|pecuniaresearch.com|\n",
      "|https://pecuniaresearch.com/|pecuniaresearch.com|\n",
      "|https://pecuniaresearch.com/|pecuniaresearch.com|\n",
      "+----------------------------+-------------------+\n",
      "only showing top 5 rows\n",
      "\n"
     ]
    }
   ],
   "source": [
    "reddit_df[[\"url\", \"domain_name\"]].filter( F.col(\"domain_name\") != \"\" ).show(5, False)"
   ]
  },
  {
   "cell_type": "markdown",
   "id": "a15280d3-c621-40ed-aed7-afba9404e733",
   "metadata": {},
   "source": [
    "## Data Integration Time\n",
    "Separately grouBy the domain names, one for reddit, one for git then perform join on the dataframes "
   ]
  },
  {
   "cell_type": "code",
   "execution_count": 12,
   "id": "a4cebf2e-9043-4688-af5d-31106b4aa60d",
   "metadata": {},
   "outputs": [],
   "source": [
    "reddit_domains_grouped = reddit_df.groupBy(\"domain_name\").count()\n",
    "reddit_domains_grouped = reddit_domains_grouped.withColumnRenamed(\"count\", \"reddit_domain_count\")"
   ]
  },
  {
   "cell_type": "code",
   "execution_count": 13,
   "id": "ef4db697-4f02-4d04-b5c2-89dcd94ff590",
   "metadata": {},
   "outputs": [],
   "source": [
    "git_domains_grouped = git_repo_df.groupBy(\"email_domain\").count()\n",
    "git_domains_grouped = git_domains_grouped.withColumnRenamed(\"count\", \"git_domain_count\")"
   ]
  },
  {
   "cell_type": "code",
   "execution_count": 14,
   "id": "b65115ac-aba1-4dc2-8e0f-8bee78b96f45",
   "metadata": {},
   "outputs": [
    {
     "name": "stdout",
     "output_type": "stream",
     "text": [
      "+-------------------+-------------------+\n",
      "|        domain_name|reddit_domain_count|\n",
      "+-------------------+-------------------+\n",
      "|         www.nhs.uk|                 13|\n",
      "|           youtu.be|                 13|\n",
      "|pecuniaresearch.com|                 13|\n",
      "+-------------------+-------------------+\n",
      "only showing top 3 rows\n",
      "\n"
     ]
    }
   ],
   "source": [
    "reddit_domains_grouped.show(3)"
   ]
  },
  {
   "cell_type": "code",
   "execution_count": 15,
   "id": "67a7c2de-aee1-4684-9655-7ba11cd9ddcb",
   "metadata": {},
   "outputs": [
    {
     "name": "stdout",
     "output_type": "stream",
     "text": [
      "+--------------------+----------------+\n",
      "|        email_domain|git_domain_count|\n",
      "+--------------------+----------------+\n",
      "|         tokenate.io|               1|\n",
      "|patriciopalladino...|               1|\n",
      "|          aragon.one|               2|\n",
      "+--------------------+----------------+\n",
      "only showing top 3 rows\n",
      "\n"
     ]
    }
   ],
   "source": [
    "git_domains_grouped.show(3)"
   ]
  },
  {
   "cell_type": "code",
   "execution_count": 16,
   "id": "babd5feb-d071-4d10-bbf9-100f53c43a86",
   "metadata": {},
   "outputs": [],
   "source": [
    "domains_list = reddit_domains_grouped[[\"domain_name\", \"reddit_domain_count\"]].\\\n",
    "    withColumnRenamed(\"domain_name\",\"domain_name\").\\\n",
    "    union(git_domains_grouped[[\"email_domain\", \"git_domain_count\"]])"
   ]
  },
  {
   "cell_type": "code",
   "execution_count": 23,
   "id": "dec49b02-e92a-4652-87fa-4c63753f34d2",
   "metadata": {},
   "outputs": [],
   "source": [
    "joined_domains = reddit_domains_grouped.alias(\"reddit\")\\\n",
    "  .join(git_domains_grouped.alias(\"git\"), F.col(\"git.email_domain\") == F.col(\"reddit.domain_name\"))"
   ]
  },
  {
   "cell_type": "code",
   "execution_count": 27,
   "id": "e7974f16-530a-4667-9315-34a932b0669b",
   "metadata": {},
   "outputs": [
    {
     "name": "stdout",
     "output_type": "stream",
     "text": [
      "+--------------------+----------------+\n",
      "|        email_domain|git_domain_count|\n",
      "+--------------------+----------------+\n",
      "|         tokenate.io|               1|\n",
      "|patriciopalladino...|               1|\n",
      "|          aragon.one|               2|\n",
      "|          majoolr.io|               1|\n",
      "|           zoltu.net|               1|\n",
      "|        tutanota.com|               1|\n",
      "|        stanford.edu|               1|\n",
      "|          riseup.net|               1|\n",
      "|mohamedabdulaziz.com|               1|\n",
      "|       sigmaprime.io|               1|\n",
      "|       paulrberg.com|               1|\n",
      "|users.noreply.git...|             119|\n",
      "|           swende.se|               1|\n",
      "|      googlemail.com|               1|\n",
      "|          twurst.com|               1|\n",
      "|             fork.at|               1|\n",
      "|           gmail.com|             172|\n",
      "|        bitspill.net|               1|\n",
      "|       mtpelerin.com|               1|\n",
      "|         io.builders|               1|\n",
      "+--------------------+----------------+\n",
      "only showing top 20 rows\n",
      "\n"
     ]
    }
   ],
   "source": [
    "git_domains_grouped.show()"
   ]
  },
  {
   "cell_type": "code",
   "execution_count": 24,
   "id": "d65e5e55-6094-4de3-924b-e79a2a250a75",
   "metadata": {},
   "outputs": [
    {
     "name": "stdout",
     "output_type": "stream",
     "text": [
      "+-----------+-------------------+------------+----------------+\n",
      "|domain_name|reddit_domain_count|email_domain|git_domain_count|\n",
      "+-----------+-------------------+------------+----------------+\n",
      "|           |                435|            |               1|\n",
      "+-----------+-------------------+------------+----------------+\n",
      "\n"
     ]
    }
   ],
   "source": [
    "joined_domains.show()"
   ]
  },
  {
   "cell_type": "code",
   "execution_count": 33,
   "id": "8fb80653-2b7a-4950-ba66-231bb4b62769",
   "metadata": {},
   "outputs": [],
   "source": [
    "unioned_domains = reddit_domains_grouped.unionByName(git_domains_grouped.withColumnRenamed(\"email_domain\", \"domain_name\"),  allowMissingColumns=True)"
   ]
  },
  {
   "cell_type": "code",
   "execution_count": 34,
   "id": "e49376e2-058b-4b5b-9e5d-27e8741fb527",
   "metadata": {},
   "outputs": [
    {
     "name": "stdout",
     "output_type": "stream",
     "text": [
      "+--------------------+-------------------+----------------+\n",
      "|         domain_name|reddit_domain_count|git_domain_count|\n",
      "+--------------------+-------------------+----------------+\n",
      "|          www.nhs.uk|                 13|            null|\n",
      "|            youtu.be|                 13|            null|\n",
      "| pecuniaresearch.com|                 13|            null|\n",
      "|      www.reddit.com|                 13|            null|\n",
      "|                    |                435|            null|\n",
      "|  bioshock.wikia.com|                 13|            null|\n",
      "|         tokenate.io|               null|               1|\n",
      "|patriciopalladino...|               null|               1|\n",
      "|          aragon.one|               null|               2|\n",
      "|          majoolr.io|               null|               1|\n",
      "|           zoltu.net|               null|               1|\n",
      "|        tutanota.com|               null|               1|\n",
      "|        stanford.edu|               null|               1|\n",
      "|          riseup.net|               null|               1|\n",
      "|mohamedabdulaziz.com|               null|               1|\n",
      "|       sigmaprime.io|               null|               1|\n",
      "|       paulrberg.com|               null|               1|\n",
      "|users.noreply.git...|               null|             119|\n",
      "|           swende.se|               null|               1|\n",
      "|      googlemail.com|               null|               1|\n",
      "+--------------------+-------------------+----------------+\n",
      "only showing top 20 rows\n",
      "\n"
     ]
    }
   ],
   "source": [
    "unioned_domains.show()"
   ]
  },
  {
   "cell_type": "code",
   "execution_count": 30,
   "id": "dd7ebf12-2912-4f28-9f08-7ab96a75accd",
   "metadata": {},
   "outputs": [
    {
     "ename": "AnalysisException",
     "evalue": "Cannot resolve column name \"domain_name\" among (email_domain, git_domain_count)",
     "output_type": "error",
     "traceback": [
      "\u001b[0;31m---------------------------------------------------------------------------\u001b[0m",
      "\u001b[0;31mAnalysisException\u001b[0m                         Traceback (most recent call last)",
      "\u001b[0;32m/tmp/ipykernel_125231/2494468787.py\u001b[0m in \u001b[0;36m<module>\u001b[0;34m\u001b[0m\n\u001b[0;32m----> 1\u001b[0;31m \u001b[0munioned_domains\u001b[0m \u001b[0;34m=\u001b[0m \u001b[0mreddit_domains_grouped\u001b[0m\u001b[0;34m.\u001b[0m\u001b[0munionByName\u001b[0m\u001b[0;34m(\u001b[0m\u001b[0mgit_domains_grouped\u001b[0m\u001b[0;34m,\u001b[0m  \u001b[0mallowMissingColumns\u001b[0m\u001b[0;34m=\u001b[0m\u001b[0;32mFalse\u001b[0m\u001b[0;34m)\u001b[0m\u001b[0;34m\u001b[0m\u001b[0;34m\u001b[0m\u001b[0m\n\u001b[0m",
      "\u001b[0;32m~/.local/lib/python3.8/site-packages/pyspark/sql/dataframe.py\u001b[0m in \u001b[0;36munionByName\u001b[0;34m(self, other, allowMissingColumns)\u001b[0m\n\u001b[1;32m   1899\u001b[0m            \u001b[0mmissing\u001b[0m \u001b[0mcolumns\u001b[0m\u001b[0;34m.\u001b[0m\u001b[0;34m\u001b[0m\u001b[0;34m\u001b[0m\u001b[0m\n\u001b[1;32m   1900\u001b[0m         \"\"\"\n\u001b[0;32m-> 1901\u001b[0;31m         \u001b[0;32mreturn\u001b[0m \u001b[0mDataFrame\u001b[0m\u001b[0;34m(\u001b[0m\u001b[0mself\u001b[0m\u001b[0;34m.\u001b[0m\u001b[0m_jdf\u001b[0m\u001b[0;34m.\u001b[0m\u001b[0munionByName\u001b[0m\u001b[0;34m(\u001b[0m\u001b[0mother\u001b[0m\u001b[0;34m.\u001b[0m\u001b[0m_jdf\u001b[0m\u001b[0;34m,\u001b[0m \u001b[0mallowMissingColumns\u001b[0m\u001b[0;34m)\u001b[0m\u001b[0;34m,\u001b[0m \u001b[0mself\u001b[0m\u001b[0;34m.\u001b[0m\u001b[0msql_ctx\u001b[0m\u001b[0;34m)\u001b[0m\u001b[0;34m\u001b[0m\u001b[0;34m\u001b[0m\u001b[0m\n\u001b[0m\u001b[1;32m   1902\u001b[0m \u001b[0;34m\u001b[0m\u001b[0m\n\u001b[1;32m   1903\u001b[0m     \u001b[0;34m@\u001b[0m\u001b[0msince\u001b[0m\u001b[0;34m(\u001b[0m\u001b[0;36m1.3\u001b[0m\u001b[0;34m)\u001b[0m\u001b[0;34m\u001b[0m\u001b[0;34m\u001b[0m\u001b[0m\n",
      "\u001b[0;32m~/.local/lib/python3.8/site-packages/py4j/java_gateway.py\u001b[0m in \u001b[0;36m__call__\u001b[0;34m(self, *args)\u001b[0m\n\u001b[1;32m   1319\u001b[0m \u001b[0;34m\u001b[0m\u001b[0m\n\u001b[1;32m   1320\u001b[0m         \u001b[0manswer\u001b[0m \u001b[0;34m=\u001b[0m \u001b[0mself\u001b[0m\u001b[0;34m.\u001b[0m\u001b[0mgateway_client\u001b[0m\u001b[0;34m.\u001b[0m\u001b[0msend_command\u001b[0m\u001b[0;34m(\u001b[0m\u001b[0mcommand\u001b[0m\u001b[0;34m)\u001b[0m\u001b[0;34m\u001b[0m\u001b[0;34m\u001b[0m\u001b[0m\n\u001b[0;32m-> 1321\u001b[0;31m         return_value = get_return_value(\n\u001b[0m\u001b[1;32m   1322\u001b[0m             answer, self.gateway_client, self.target_id, self.name)\n\u001b[1;32m   1323\u001b[0m \u001b[0;34m\u001b[0m\u001b[0m\n",
      "\u001b[0;32m~/.local/lib/python3.8/site-packages/pyspark/sql/utils.py\u001b[0m in \u001b[0;36mdeco\u001b[0;34m(*a, **kw)\u001b[0m\n\u001b[1;32m    115\u001b[0m                 \u001b[0;31m# Hide where the exception came from that shows a non-Pythonic\u001b[0m\u001b[0;34m\u001b[0m\u001b[0;34m\u001b[0m\u001b[0;34m\u001b[0m\u001b[0m\n\u001b[1;32m    116\u001b[0m                 \u001b[0;31m# JVM exception message.\u001b[0m\u001b[0;34m\u001b[0m\u001b[0;34m\u001b[0m\u001b[0;34m\u001b[0m\u001b[0m\n\u001b[0;32m--> 117\u001b[0;31m                 \u001b[0;32mraise\u001b[0m \u001b[0mconverted\u001b[0m \u001b[0;32mfrom\u001b[0m \u001b[0;32mNone\u001b[0m\u001b[0;34m\u001b[0m\u001b[0;34m\u001b[0m\u001b[0m\n\u001b[0m\u001b[1;32m    118\u001b[0m             \u001b[0;32melse\u001b[0m\u001b[0;34m:\u001b[0m\u001b[0;34m\u001b[0m\u001b[0;34m\u001b[0m\u001b[0m\n\u001b[1;32m    119\u001b[0m                 \u001b[0;32mraise\u001b[0m\u001b[0;34m\u001b[0m\u001b[0;34m\u001b[0m\u001b[0m\n",
      "\u001b[0;31mAnalysisException\u001b[0m: Cannot resolve column name \"domain_name\" among (email_domain, git_domain_count)"
     ]
    }
   ],
   "source": [
    "unioned_domains = reddit_domains_grouped.unionByName(git_domains_grouped)"
   ]
  },
  {
   "cell_type": "code",
   "execution_count": null,
   "id": "2098524c-e323-4f20-8de0-a886690f0039",
   "metadata": {},
   "outputs": [],
   "source": []
  }
 ],
 "metadata": {
  "kernelspec": {
   "display_name": "Python 3 (ipykernel)",
   "language": "python",
   "name": "python3"
  },
  "language_info": {
   "codemirror_mode": {
    "name": "ipython",
    "version": 3
   },
   "file_extension": ".py",
   "mimetype": "text/x-python",
   "name": "python",
   "nbconvert_exporter": "python",
   "pygments_lexer": "ipython3",
   "version": "3.8.10"
  }
 },
 "nbformat": 4,
 "nbformat_minor": 5
}
