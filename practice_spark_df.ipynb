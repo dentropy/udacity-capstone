{
 "cells": [
  {
   "cell_type": "code",
   "execution_count": 1,
   "id": "39c7a16e-b100-421b-ac2b-0f6743731300",
   "metadata": {},
   "outputs": [],
   "source": [
    "from pyspark.sql import SparkSession\n",
    "import pyspark.sql.functions as F\n",
    "import pyspark.sql.types as T\n",
    "import modules.parsers as parsers\n",
    "import glob"
   ]
  },
  {
   "cell_type": "code",
   "execution_count": 2,
   "id": "f9efb51b-c339-4911-8492-b01491568a81",
   "metadata": {},
   "outputs": [],
   "source": [
    "import configparser\n",
    "import os\n",
    "config = configparser.ConfigParser()\n",
    "config.read('dl.cfg')\n",
    "\n",
    "os.environ['AWS_ACCESS_KEY_ID']=config['AWS']['AWS_ACCESS_KEY_ID']\n",
    "os.environ['AWS_SECRET_ACCESS_KEY']=config['AWS']['AWS_SECRET_ACCESS_KEY']"
   ]
  },
  {
   "cell_type": "code",
   "execution_count": 3,
   "id": "98cbeb06-d1f3-463f-9fcd-ec5461f701c4",
   "metadata": {},
   "outputs": [
    {
     "name": "stderr",
     "output_type": "stream",
     "text": [
      "22/04/12 00:18:04 WARN Utils: Your hostname, pop-os resolves to a loopback address: 127.0.1.1; using 192.168.2.67 instead (on interface wlp59s0)\n",
      "22/04/12 00:18:04 WARN Utils: Set SPARK_LOCAL_IP if you need to bind to another address\n",
      "WARNING: An illegal reflective access operation has occurred\n",
      "WARNING: Illegal reflective access by org.apache.spark.unsafe.Platform (file:/home/paul/.local/lib/python3.8/site-packages/pyspark/jars/spark-unsafe_2.12-3.0.0.jar) to constructor java.nio.DirectByteBuffer(long,int)\n",
      "WARNING: Please consider reporting this to the maintainers of org.apache.spark.unsafe.Platform\n",
      "WARNING: Use --illegal-access=warn to enable warnings of further illegal reflective access operations\n",
      "WARNING: All illegal access operations will be denied in a future release\n",
      "Ivy Default Cache set to: /home/paul/.ivy2/cache\n",
      "The jars for the packages stored in: /home/paul/.ivy2/jars\n",
      ":: loading settings :: url = jar:file:/home/paul/.local/lib/python3.8/site-packages/pyspark/jars/ivy-2.4.0.jar!/org/apache/ivy/core/settings/ivysettings.xml\n",
      "org.apache.hadoop#hadoop-aws added as a dependency\n",
      ":: resolving dependencies :: org.apache.spark#spark-submit-parent-2d820c67-1cf4-457c-a8d6-a8690af6dc29;1.0\n",
      "\tconfs: [default]\n",
      "\tfound org.apache.hadoop#hadoop-aws;2.7.3 in central\n",
      "\tfound org.apache.hadoop#hadoop-common;2.7.3 in central\n",
      "\tfound org.apache.hadoop#hadoop-annotations;2.7.3 in central\n",
      "\tfound com.google.guava#guava;11.0.2 in central\n",
      "\tfound com.google.code.findbugs#jsr305;3.0.0 in central\n",
      "\tfound commons-cli#commons-cli;1.2 in central\n",
      "\tfound org.apache.commons#commons-math3;3.1.1 in central\n",
      "\tfound xmlenc#xmlenc;0.52 in central\n",
      "\tfound commons-httpclient#commons-httpclient;3.1 in central\n",
      "\tfound commons-logging#commons-logging;1.1.3 in central\n",
      "\tfound commons-codec#commons-codec;1.4 in central\n",
      "\tfound commons-io#commons-io;2.4 in central\n",
      "\tfound commons-net#commons-net;3.1 in central\n",
      "\tfound commons-collections#commons-collections;3.2.2 in central\n",
      "\tfound javax.servlet#servlet-api;2.5 in central\n",
      "\tfound org.mortbay.jetty#jetty;6.1.26 in central\n",
      "\tfound org.mortbay.jetty#jetty-util;6.1.26 in central\n",
      "\tfound com.sun.jersey#jersey-core;1.9 in central\n",
      "\tfound com.sun.jersey#jersey-json;1.9 in central\n",
      "\tfound org.codehaus.jettison#jettison;1.1 in central\n",
      "\tfound com.sun.xml.bind#jaxb-impl;2.2.3-1 in central\n",
      "\tfound javax.xml.bind#jaxb-api;2.2.2 in central\n",
      "\tfound javax.xml.stream#stax-api;1.0-2 in central\n",
      "\tfound javax.activation#activation;1.1 in central\n",
      "\tfound org.codehaus.jackson#jackson-core-asl;1.9.13 in central\n",
      "\tfound org.codehaus.jackson#jackson-mapper-asl;1.9.13 in central\n",
      "\tfound org.codehaus.jackson#jackson-jaxrs;1.9.13 in central\n",
      "\tfound org.codehaus.jackson#jackson-xc;1.9.13 in central\n",
      "\tfound com.sun.jersey#jersey-server;1.9 in central\n",
      "\tfound asm#asm;3.2 in central\n",
      "\tfound log4j#log4j;1.2.17 in central\n",
      "\tfound net.java.dev.jets3t#jets3t;0.9.0 in central\n",
      "\tfound org.apache.httpcomponents#httpclient;4.2.5 in central\n",
      "\tfound org.apache.httpcomponents#httpcore;4.2.5 in central\n",
      "\tfound com.jamesmurty.utils#java-xmlbuilder;0.4 in central\n",
      "\tfound commons-lang#commons-lang;2.6 in central\n",
      "\tfound commons-configuration#commons-configuration;1.6 in central\n",
      "\tfound commons-digester#commons-digester;1.8 in central\n",
      "\tfound commons-beanutils#commons-beanutils;1.7.0 in central\n",
      "\tfound commons-beanutils#commons-beanutils-core;1.8.0 in central\n",
      "\tfound org.slf4j#slf4j-api;1.7.10 in central\n",
      "\tfound org.apache.avro#avro;1.7.4 in central\n",
      "\tfound com.thoughtworks.paranamer#paranamer;2.3 in central\n",
      "\tfound org.xerial.snappy#snappy-java;1.0.4.1 in central\n",
      "\tfound org.apache.commons#commons-compress;1.4.1 in central\n",
      "\tfound org.tukaani#xz;1.0 in central\n",
      "\tfound com.google.protobuf#protobuf-java;2.5.0 in central\n",
      "\tfound com.google.code.gson#gson;2.2.4 in central\n",
      "\tfound org.apache.hadoop#hadoop-auth;2.7.3 in central\n",
      "\tfound org.apache.directory.server#apacheds-kerberos-codec;2.0.0-M15 in central\n",
      "\tfound org.apache.directory.server#apacheds-i18n;2.0.0-M15 in central\n",
      "\tfound org.apache.directory.api#api-asn1-api;1.0.0-M20 in central\n",
      "\tfound org.apache.directory.api#api-util;1.0.0-M20 in central\n",
      "\tfound org.apache.zookeeper#zookeeper;3.4.6 in central\n",
      "\tfound org.slf4j#slf4j-log4j12;1.7.10 in central\n",
      "\tfound io.netty#netty;3.6.2.Final in central\n",
      "\tfound org.apache.curator#curator-framework;2.7.1 in central\n",
      "\tfound org.apache.curator#curator-client;2.7.1 in central\n",
      "\tfound com.jcraft#jsch;0.1.42 in central\n",
      "\tfound org.apache.curator#curator-recipes;2.7.1 in central\n",
      "\tfound org.apache.htrace#htrace-core;3.1.0-incubating in central\n",
      "\tfound javax.servlet.jsp#jsp-api;2.1 in central\n",
      "\tfound jline#jline;0.9.94 in central\n",
      "\tfound junit#junit;4.11 in central\n",
      "\tfound org.hamcrest#hamcrest-core;1.3 in central\n",
      "\tfound com.fasterxml.jackson.core#jackson-databind;2.2.3 in central\n",
      "\tfound com.fasterxml.jackson.core#jackson-annotations;2.2.3 in central\n",
      "\tfound com.fasterxml.jackson.core#jackson-core;2.2.3 in central\n",
      "\tfound com.amazonaws#aws-java-sdk;1.7.4 in central\n",
      "\tfound joda-time#joda-time;2.10.14 in central\n",
      "\t[2.10.14] joda-time#joda-time;[2.2,)\n",
      ":: resolution report :: resolve 2560ms :: artifacts dl 67ms\n",
      "\t:: modules in use:\n",
      "\tasm#asm;3.2 from central in [default]\n",
      "\tcom.amazonaws#aws-java-sdk;1.7.4 from central in [default]\n",
      "\tcom.fasterxml.jackson.core#jackson-annotations;2.2.3 from central in [default]\n",
      "\tcom.fasterxml.jackson.core#jackson-core;2.2.3 from central in [default]\n",
      "\tcom.fasterxml.jackson.core#jackson-databind;2.2.3 from central in [default]\n",
      "\tcom.google.code.findbugs#jsr305;3.0.0 from central in [default]\n",
      "\tcom.google.code.gson#gson;2.2.4 from central in [default]\n",
      "\tcom.google.guava#guava;11.0.2 from central in [default]\n",
      "\tcom.google.protobuf#protobuf-java;2.5.0 from central in [default]\n",
      "\tcom.jamesmurty.utils#java-xmlbuilder;0.4 from central in [default]\n",
      "\tcom.jcraft#jsch;0.1.42 from central in [default]\n",
      "\tcom.sun.jersey#jersey-core;1.9 from central in [default]\n",
      "\tcom.sun.jersey#jersey-json;1.9 from central in [default]\n",
      "\tcom.sun.jersey#jersey-server;1.9 from central in [default]\n",
      "\tcom.sun.xml.bind#jaxb-impl;2.2.3-1 from central in [default]\n",
      "\tcom.thoughtworks.paranamer#paranamer;2.3 from central in [default]\n",
      "\tcommons-beanutils#commons-beanutils;1.7.0 from central in [default]\n",
      "\tcommons-beanutils#commons-beanutils-core;1.8.0 from central in [default]\n",
      "\tcommons-cli#commons-cli;1.2 from central in [default]\n",
      "\tcommons-codec#commons-codec;1.4 from central in [default]\n",
      "\tcommons-collections#commons-collections;3.2.2 from central in [default]\n",
      "\tcommons-configuration#commons-configuration;1.6 from central in [default]\n",
      "\tcommons-digester#commons-digester;1.8 from central in [default]\n",
      "\tcommons-httpclient#commons-httpclient;3.1 from central in [default]\n",
      "\tcommons-io#commons-io;2.4 from central in [default]\n",
      "\tcommons-lang#commons-lang;2.6 from central in [default]\n",
      "\tcommons-logging#commons-logging;1.1.3 from central in [default]\n",
      "\tcommons-net#commons-net;3.1 from central in [default]\n",
      "\tio.netty#netty;3.6.2.Final from central in [default]\n",
      "\tjavax.activation#activation;1.1 from central in [default]\n",
      "\tjavax.servlet#servlet-api;2.5 from central in [default]\n",
      "\tjavax.servlet.jsp#jsp-api;2.1 from central in [default]\n",
      "\tjavax.xml.bind#jaxb-api;2.2.2 from central in [default]\n",
      "\tjavax.xml.stream#stax-api;1.0-2 from central in [default]\n",
      "\tjline#jline;0.9.94 from central in [default]\n",
      "\tjoda-time#joda-time;2.10.14 from central in [default]\n",
      "\tjunit#junit;4.11 from central in [default]\n",
      "\tlog4j#log4j;1.2.17 from central in [default]\n",
      "\tnet.java.dev.jets3t#jets3t;0.9.0 from central in [default]\n",
      "\torg.apache.avro#avro;1.7.4 from central in [default]\n",
      "\torg.apache.commons#commons-compress;1.4.1 from central in [default]\n",
      "\torg.apache.commons#commons-math3;3.1.1 from central in [default]\n",
      "\torg.apache.curator#curator-client;2.7.1 from central in [default]\n",
      "\torg.apache.curator#curator-framework;2.7.1 from central in [default]\n",
      "\torg.apache.curator#curator-recipes;2.7.1 from central in [default]\n",
      "\torg.apache.directory.api#api-asn1-api;1.0.0-M20 from central in [default]\n",
      "\torg.apache.directory.api#api-util;1.0.0-M20 from central in [default]\n",
      "\torg.apache.directory.server#apacheds-i18n;2.0.0-M15 from central in [default]\n",
      "\torg.apache.directory.server#apacheds-kerberos-codec;2.0.0-M15 from central in [default]\n",
      "\torg.apache.hadoop#hadoop-annotations;2.7.3 from central in [default]\n",
      "\torg.apache.hadoop#hadoop-auth;2.7.3 from central in [default]\n",
      "\torg.apache.hadoop#hadoop-aws;2.7.3 from central in [default]\n",
      "\torg.apache.hadoop#hadoop-common;2.7.3 from central in [default]\n",
      "\torg.apache.htrace#htrace-core;3.1.0-incubating from central in [default]\n",
      "\torg.apache.httpcomponents#httpclient;4.2.5 from central in [default]\n",
      "\torg.apache.httpcomponents#httpcore;4.2.5 from central in [default]\n",
      "\torg.apache.zookeeper#zookeeper;3.4.6 from central in [default]\n",
      "\torg.codehaus.jackson#jackson-core-asl;1.9.13 from central in [default]\n",
      "\torg.codehaus.jackson#jackson-jaxrs;1.9.13 from central in [default]\n",
      "\torg.codehaus.jackson#jackson-mapper-asl;1.9.13 from central in [default]\n",
      "\torg.codehaus.jackson#jackson-xc;1.9.13 from central in [default]\n",
      "\torg.codehaus.jettison#jettison;1.1 from central in [default]\n",
      "\torg.hamcrest#hamcrest-core;1.3 from central in [default]\n",
      "\torg.mortbay.jetty#jetty;6.1.26 from central in [default]\n",
      "\torg.mortbay.jetty#jetty-util;6.1.26 from central in [default]\n",
      "\torg.slf4j#slf4j-api;1.7.10 from central in [default]\n",
      "\torg.slf4j#slf4j-log4j12;1.7.10 from central in [default]\n",
      "\torg.tukaani#xz;1.0 from central in [default]\n",
      "\torg.xerial.snappy#snappy-java;1.0.4.1 from central in [default]\n",
      "\txmlenc#xmlenc;0.52 from central in [default]\n",
      "\t---------------------------------------------------------------------\n",
      "\t|                  |            modules            ||   artifacts   |\n",
      "\t|       conf       | number| search|dwnlded|evicted|| number|dwnlded|\n",
      "\t---------------------------------------------------------------------\n",
      "\t|      default     |   70  |   1   |   0   |   0   ||   70  |   0   |\n",
      "\t---------------------------------------------------------------------\n",
      "\n",
      ":: problems summary ::\n",
      ":::: ERRORS\n",
      "\tSERVER ERROR: Bad Gateway url=https://dl.bintray.com/spark-packages/maven/joda-time/joda-time/maven-metadata.xml\n",
      "\n",
      "\tSERVER ERROR: Bad Gateway url=https://dl.bintray.com/spark-packages/maven/joda-time/joda-time/\n",
      "\n",
      "\tSERVER ERROR: Bad Gateway url=https://dl.bintray.com/spark-packages/maven/joda-time/joda-time/\n",
      "\n",
      "\n",
      ":: USE VERBOSE OR DEBUG MESSAGE LEVEL FOR MORE DETAILS\n",
      ":: retrieving :: org.apache.spark#spark-submit-parent-2d820c67-1cf4-457c-a8d6-a8690af6dc29\n",
      "\tconfs: [default]\n",
      "\t0 artifacts copied, 70 already retrieved (0kB/54ms)\n",
      "22/04/12 00:18:07 WARN NativeCodeLoader: Unable to load native-hadoop library for your platform... using builtin-java classes where applicable\n",
      "Using Spark's default log4j profile: org/apache/spark/log4j-defaults.properties\n",
      "Setting default log level to \"WARN\".\n",
      "To adjust logging level use sc.setLogLevel(newLevel). For SparkR, use setLogLevel(newLevel).\n"
     ]
    }
   ],
   "source": [
    "spark = SparkSession.builder\\\n",
    "                     .config(\"spark.jars.packages\",\"org.apache.hadoop:hadoop-aws:2.7.3\")\\\n",
    "                     .master(\"spark://pop-os.localdomain:7077\")\\\n",
    "                     .enableHiveSupport()\\\n",
    "                     .getOrCreate()\n",
    "sc = spark.sparkContext"
   ]
  },
  {
   "cell_type": "code",
   "execution_count": 4,
   "id": "c03ae51d-0b56-437b-b2e7-8c5afc0aa811",
   "metadata": {},
   "outputs": [
    {
     "name": "stderr",
     "output_type": "stream",
     "text": [
      "                                                                                \r"
     ]
    }
   ],
   "source": [
    "# File is 1.5 Gb will take a couple minutes to load into spark\n",
    "reddit_data_url = \"s3a://paul-udacity-capstone/reddit/001.ndjson\" # For Testing\n",
    "# reddit_data_url = \"s3a://paul-udacity-capstone/reddit/RC_2018_01_01\"\n",
    "df_reddit = spark.read.json(reddit_data_url)"
   ]
  },
  {
   "cell_type": "code",
   "execution_count": 5,
   "id": "21dcd406-e5b8-4d19-9964-b94ed4237c1e",
   "metadata": {},
   "outputs": [
    {
     "name": "stderr",
     "output_type": "stream",
     "text": [
      "22/04/12 00:18:18 WARN package: Truncated the string representation of a plan since it was too large. This behavior can be adjusted by setting 'spark.sql.debug.maxToStringFields'.\n"
     ]
    },
    {
     "data": {
      "text/plain": [
       "1000"
      ]
     },
     "execution_count": 5,
     "metadata": {},
     "output_type": "execute_result"
    }
   ],
   "source": [
    "df_reddit.count()"
   ]
  },
  {
   "cell_type": "code",
   "execution_count": 6,
   "id": "88d466ba-7e61-4745-917f-41ef1ad8b4c6",
   "metadata": {},
   "outputs": [],
   "source": [
    "git_data_url = \"s3a://paul-udacity-capstone/git-dump/freeCodeCamp/freeCodeCamp.json\" # For Testing\n",
    "# git_data_url = \"s3a://paul-udacity-capstone/git-dump/*/*.json\"\n",
    "df_git = spark.read.json(git_data_url)"
   ]
  },
  {
   "cell_type": "code",
   "execution_count": 7,
   "id": "69b00c6c-9adf-4c76-a9a7-e040e10286d6",
   "metadata": {},
   "outputs": [
    {
     "data": {
      "text/plain": [
       "4789"
      ]
     },
     "execution_count": 7,
     "metadata": {},
     "output_type": "execute_result"
    }
   ],
   "source": [
    "df_git.count()"
   ]
  },
  {
   "cell_type": "markdown",
   "id": "7be7345f-3fd7-4dc1-8528-7fe5ec48bdec",
   "metadata": {},
   "source": [
    "## Working with git repos"
   ]
  },
  {
   "cell_type": "code",
   "execution_count": 8,
   "id": "8c09890d-ea7e-46e5-9ccb-a424e72f4703",
   "metadata": {},
   "outputs": [],
   "source": [
    "git_repo_df = parsers.df_parse_email(df_git,  \"author_email\")"
   ]
  },
  {
   "cell_type": "code",
   "execution_count": 9,
   "id": "e8da5ac2-e2bf-4687-b959-1d804faf0571",
   "metadata": {},
   "outputs": [
    {
     "data": {
      "text/html": [
       "<div>\n",
       "<style scoped>\n",
       "    .dataframe tbody tr th:only-of-type {\n",
       "        vertical-align: middle;\n",
       "    }\n",
       "\n",
       "    .dataframe tbody tr th {\n",
       "        vertical-align: top;\n",
       "    }\n",
       "\n",
       "    .dataframe thead th {\n",
       "        text-align: right;\n",
       "    }\n",
       "</style>\n",
       "<table border=\"1\" class=\"dataframe\">\n",
       "  <thead>\n",
       "    <tr style=\"text-align: right;\">\n",
       "      <th></th>\n",
       "      <th>author_email</th>\n",
       "      <th>author_name</th>\n",
       "      <th>commits</th>\n",
       "      <th>remote_url</th>\n",
       "      <th>email_username</th>\n",
       "      <th>email_domain</th>\n",
       "    </tr>\n",
       "  </thead>\n",
       "  <tbody>\n",
       "    <tr>\n",
       "      <th>0</th>\n",
       "      <td>0nitinchauhan@gmail.com</td>\n",
       "      <td>Nitin Chauhan</td>\n",
       "      <td>3</td>\n",
       "      <td>https://github.com/freeCodeCamp/freeCodeCamp.git</td>\n",
       "      <td>0nitinchauhan</td>\n",
       "      <td>gmail.com</td>\n",
       "    </tr>\n",
       "    <tr>\n",
       "      <th>1</th>\n",
       "      <td>0x0936@users.noreply.github.com</td>\n",
       "      <td>Robert Richey</td>\n",
       "      <td>1</td>\n",
       "      <td>https://github.com/freeCodeCamp/freeCodeCamp.git</td>\n",
       "      <td>0x0936</td>\n",
       "      <td>users.noreply.github.com</td>\n",
       "    </tr>\n",
       "    <tr>\n",
       "      <th>2</th>\n",
       "      <td>10049458+dallyingllama@users.noreply.github.com</td>\n",
       "      <td>dallyingllama</td>\n",
       "      <td>2</td>\n",
       "      <td>https://github.com/freeCodeCamp/freeCodeCamp.git</td>\n",
       "      <td>10049458+dallyingllama</td>\n",
       "      <td>users.noreply.github.com</td>\n",
       "    </tr>\n",
       "    <tr>\n",
       "      <th>3</th>\n",
       "      <td>1010636+JeremyBlanc@users.noreply.github.com</td>\n",
       "      <td>Jeremias Blanco-Choncén</td>\n",
       "      <td>2</td>\n",
       "      <td>https://github.com/freeCodeCamp/freeCodeCamp.git</td>\n",
       "      <td>1010636+JeremyBlanc</td>\n",
       "      <td>users.noreply.github.com</td>\n",
       "    </tr>\n",
       "    <tr>\n",
       "      <th>4</th>\n",
       "      <td>101513652+anjiqbal@users.noreply.github.com</td>\n",
       "      <td>Anjum Iqbal</td>\n",
       "      <td>1</td>\n",
       "      <td>https://github.com/freeCodeCamp/freeCodeCamp.git</td>\n",
       "      <td>101513652+anjiqbal</td>\n",
       "      <td>users.noreply.github.com</td>\n",
       "    </tr>\n",
       "  </tbody>\n",
       "</table>\n",
       "</div>"
      ],
      "text/plain": [
       "                                      author_email              author_name  \\\n",
       "0                          0nitinchauhan@gmail.com            Nitin Chauhan   \n",
       "1                  0x0936@users.noreply.github.com            Robert Richey   \n",
       "2  10049458+dallyingllama@users.noreply.github.com            dallyingllama   \n",
       "3     1010636+JeremyBlanc@users.noreply.github.com  Jeremias Blanco-Choncén   \n",
       "4      101513652+anjiqbal@users.noreply.github.com              Anjum Iqbal   \n",
       "\n",
       "   commits                                        remote_url  \\\n",
       "0        3  https://github.com/freeCodeCamp/freeCodeCamp.git   \n",
       "1        1  https://github.com/freeCodeCamp/freeCodeCamp.git   \n",
       "2        2  https://github.com/freeCodeCamp/freeCodeCamp.git   \n",
       "3        2  https://github.com/freeCodeCamp/freeCodeCamp.git   \n",
       "4        1  https://github.com/freeCodeCamp/freeCodeCamp.git   \n",
       "\n",
       "           email_username              email_domain  \n",
       "0           0nitinchauhan                 gmail.com  \n",
       "1                  0x0936  users.noreply.github.com  \n",
       "2  10049458+dallyingllama  users.noreply.github.com  \n",
       "3     1010636+JeremyBlanc  users.noreply.github.com  \n",
       "4      101513652+anjiqbal  users.noreply.github.com  "
      ]
     },
     "execution_count": 9,
     "metadata": {},
     "output_type": "execute_result"
    }
   ],
   "source": [
    "git_repo_df.limit(5).toPandas()"
   ]
  },
  {
   "cell_type": "markdown",
   "id": "fffd2a98-1d5f-428a-ae07-824aed92ed94",
   "metadata": {},
   "source": [
    "## Working with reddit data"
   ]
  },
  {
   "cell_type": "code",
   "execution_count": 10,
   "id": "ce235ebf-8599-4e0c-9912-def28cfd9ffa",
   "metadata": {},
   "outputs": [],
   "source": [
    "reddit_df = parsers.df_extract_url(df_reddit, \"body\")\n",
    "reddit_df = parsers.df_parse_domainname(reddit_df, \"url\")"
   ]
  },
  {
   "cell_type": "code",
   "execution_count": 11,
   "id": "9cb42d0c-b9a0-4487-9503-2dd8172403e2",
   "metadata": {},
   "outputs": [
    {
     "name": "stdout",
     "output_type": "stream",
     "text": [
      "root\n",
      " |-- archived: boolean (nullable = true)\n",
      " |-- author: string (nullable = true)\n",
      " |-- author_cakeday: boolean (nullable = true)\n",
      " |-- author_created_utc: long (nullable = true)\n",
      " |-- author_flair_background_color: string (nullable = true)\n",
      " |-- author_flair_css_class: string (nullable = true)\n",
      " |-- author_flair_richtext: array (nullable = true)\n",
      " |    |-- element: struct (containsNull = true)\n",
      " |    |    |-- a: string (nullable = true)\n",
      " |    |    |-- e: string (nullable = true)\n",
      " |    |    |-- t: string (nullable = true)\n",
      " |    |    |-- u: string (nullable = true)\n",
      " |-- author_flair_template_id: string (nullable = true)\n",
      " |-- author_flair_text: string (nullable = true)\n",
      " |-- author_flair_text_color: string (nullable = true)\n",
      " |-- author_flair_type: string (nullable = true)\n",
      " |-- author_fullname: string (nullable = true)\n",
      " |-- author_patreon_flair: boolean (nullable = true)\n",
      " |-- body: string (nullable = true)\n",
      " |-- can_gild: boolean (nullable = true)\n",
      " |-- can_mod_post: boolean (nullable = true)\n",
      " |-- collapsed: boolean (nullable = true)\n",
      " |-- collapsed_reason: string (nullable = true)\n",
      " |-- controversiality: long (nullable = true)\n",
      " |-- created_utc: long (nullable = true)\n",
      " |-- distinguished: string (nullable = true)\n",
      " |-- edited: string (nullable = true)\n",
      " |-- gilded: long (nullable = true)\n",
      " |-- gildings: struct (nullable = true)\n",
      " |    |-- gid_1: long (nullable = true)\n",
      " |    |-- gid_2: long (nullable = true)\n",
      " |    |-- gid_3: long (nullable = true)\n",
      " |-- id: string (nullable = true)\n",
      " |-- is_submitter: boolean (nullable = true)\n",
      " |-- link_id: string (nullable = true)\n",
      " |-- no_follow: boolean (nullable = true)\n",
      " |-- parent_id: string (nullable = true)\n",
      " |-- permalink: string (nullable = true)\n",
      " |-- quarantined: boolean (nullable = true)\n",
      " |-- removal_reason: string (nullable = true)\n",
      " |-- retrieved_on: long (nullable = true)\n",
      " |-- score: long (nullable = true)\n",
      " |-- send_replies: boolean (nullable = true)\n",
      " |-- stickied: boolean (nullable = true)\n",
      " |-- subreddit: string (nullable = true)\n",
      " |-- subreddit_id: string (nullable = true)\n",
      " |-- subreddit_name_prefixed: string (nullable = true)\n",
      " |-- subreddit_type: string (nullable = true)\n",
      " |-- url: string (nullable = true)\n",
      " |-- domain_name: string (nullable = true)\n",
      "\n"
     ]
    }
   ],
   "source": [
    "reddit_df.printSchema()"
   ]
  },
  {
   "cell_type": "code",
   "execution_count": 12,
   "id": "b0bcb11b-b247-4e13-b9e4-8c505f6ecec9",
   "metadata": {},
   "outputs": [],
   "source": [
    "reddit_df = reddit_df.withColumn(\"url\",reddit_df.url.cast('string'))"
   ]
  },
  {
   "cell_type": "code",
   "execution_count": 13,
   "id": "ec107643-47d7-4a38-a095-5f62d966e94f",
   "metadata": {},
   "outputs": [],
   "source": [
    "# reddit_df3 = reddit_df[[\"score\", \"body\", \"url\", \"domain_name\"]].filter( F.col(\"body\") != \"\" )"
   ]
  },
  {
   "cell_type": "code",
   "execution_count": 14,
   "id": "bc1d3843-dc41-46bf-bf7b-00649d86a356",
   "metadata": {},
   "outputs": [],
   "source": [
    "#reddit_df3.show()"
   ]
  },
  {
   "cell_type": "code",
   "execution_count": 15,
   "id": "19a356ab-24e0-44cf-8fa7-a1d3dac2160a",
   "metadata": {},
   "outputs": [],
   "source": [
    "# "
   ]
  },
  {
   "cell_type": "code",
   "execution_count": 16,
   "id": "a37f0489-3a9e-469f-9a30-d77ae9744608",
   "metadata": {},
   "outputs": [],
   "source": [
    "# reddit_df[[\"url\"]].filter( F.col(\"url\") != \"\" ).count().show()"
   ]
  },
  {
   "cell_type": "code",
   "execution_count": 17,
   "id": "f9d477e0-8094-4761-b757-2f9755196f3d",
   "metadata": {},
   "outputs": [
    {
     "data": {
      "text/plain": [
       "343"
      ]
     },
     "execution_count": 17,
     "metadata": {},
     "output_type": "execute_result"
    }
   ],
   "source": [
    "len(reddit_df.head(343))"
   ]
  },
  {
   "cell_type": "code",
   "execution_count": 24,
   "id": "41a839a8-6a6f-45e5-9d31-eb78ebd44c31",
   "metadata": {},
   "outputs": [
    {
     "name": "stdout",
     "output_type": "stream",
     "text": [
      "None\n",
      "Azurealy\n",
      "None\n",
      "1443479354\n",
      "\n",
      "jax\n",
      "[]\n",
      "None\n",
      "\n",
      "dark\n",
      "text\n",
      "t2_qst8f\n",
      "False\n",
      "The purpose was to reduce people feeling unmotivated from being autofilled. So this was to have people say \"well i dont want my support rank to decrease \" but instead people just dont care and getting secondary or autofill makes people not care about that game because it isnt the main role and wont lose much. All in all its the biggest failure ive ever seen come from riot\n",
      "True\n",
      "False\n",
      "False\n",
      "None\n",
      "0\n",
      "1550188805\n",
      "None\n",
      "false\n",
      "0\n",
      "Row(gid_1=0, gid_2=0, gid_3=0)\n",
      "eghu5qh\n",
      "False\n",
      "t3_aqlth5\n",
      "True\n",
      "t3_aqlth5\n",
      "/r/leagueoflegends/comments/aqlth5/position_ranks_failed_to_motivate_players/eghu5qh/\n",
      "False\n",
      "None\n",
      "1554229777\n",
      "1\n",
      "True\n",
      "False\n",
      "leagueoflegends\n",
      "t5_2rfxx\n",
      "r/leagueoflegends\n",
      "public\n",
      "\n",
      "\n"
     ]
    }
   ],
   "source": [
    "import pprint\n",
    "reddit_sec =  reddit_df.head(343)[-1]\n",
    "for i in reddit_sec:\n",
    "    print(i)"
   ]
  },
  {
   "cell_type": "code",
   "execution_count": 34,
   "id": "4a094500-6327-43a2-9354-4de30e490166",
   "metadata": {},
   "outputs": [],
   "source": [
    "problem_json2 = \"\"\"\n",
    "[{\n",
    "  \"author\": \"Argonnerwald\",\n",
    "  \"author_created_utc\": 1502970738,\n",
    "  \"author_flair_background_color\": null,\n",
    "  \"author_flair_css_class\": null,\n",
    "  \"author_flair_richtext\": [],\n",
    "  \"author_flair_template_id\": null,\n",
    "  \"author_flair_text\": null,\n",
    "  \"author_flair_text_color\": null,\n",
    "  \"author_flair_type\": \"text\",\n",
    "  \"author_fullname\": \"t2_atyby9r\",\n",
    "  \"author_patreon_flair\": false,\n",
    "  \"body\": \"Except this ranking is already based heavily on economic factors. It doesn't take into account things like loneliness, a sense of purpose and meaning, integration into a community etc. Iceland -#4 on this ranking - has second highest antidepression rate in world. \",\n",
    "  \"can_gild\": true,\n",
    "  \"can_mod_post\": false,\n",
    "  \"collapsed\": false,\n",
    "  \"collapsed_reason\": null,\n",
    "  \"controversiality\": 0,\n",
    "  \"created_utc\": 1550188805,\n",
    "  \"distinguished\": null,\n",
    "  \"edited\": false,\n",
    "  \"gilded\": 0,\n",
    "  \"gildings\": {\n",
    "    \"gid_1\": 0,\n",
    "    \"gid_2\": 0,\n",
    "    \"gid_3\": 0\n",
    "  },\n",
    "  \"id\": \"eghu5qk\",\n",
    "  \"is_submitter\": false,\n",
    "  \"link_id\": \"t3_aqpiyl\",\n",
    "  \"no_follow\": false,\n",
    "  \"parent_id\": \"t1_eghn7v4\",\n",
    "  \"permalink\": \"\\/r\\/europe\\/comments\\/aqpiyl\\/european_happiness\\/eghu5qk\\/\",\n",
    "  \"quarantined\": false,\n",
    "  \"removal_reason\": null,\n",
    "  \"retrieved_on\": 1554229777,\n",
    "  \"score\": 4,\n",
    "  \"send_replies\": true,\n",
    "  \"stickied\": false,\n",
    "  \"subreddit\": \"europe\",\n",
    "  \"subreddit_id\": \"t5_2qh4j\",\n",
    "  \"subreddit_name_prefixed\": \"r\\/europe\",\n",
    "  \"subreddit_type\": \"public\"\n",
    "}]\n",
    "\"\"\""
   ]
  },
  {
   "cell_type": "code",
   "execution_count": 30,
   "id": "82b498d7-3b18-4877-8288-f659727f114f",
   "metadata": {},
   "outputs": [],
   "source": [
    "problem_json = \"\"\"\n",
    "[{\n",
    "  \"author\": \"psswrd12345\",\n",
    "  \"author_created_utc\": 1465257237,\n",
    "  \"author_flair_background_color\": \"\",\n",
    "  \"author_flair_css_class\": \"\",\n",
    "  \"author_flair_richtext\": [],\n",
    "  \"author_flair_template_id\": null,\n",
    "  \"author_flair_text\": \" \",\n",
    "  \"author_flair_text_color\": \"dark\",\n",
    "  \"author_flair_type\": \"text\",\n",
    "  \"author_fullname\": \"t2_yilo2\",\n",
    "  \"author_patreon_flair\": false,\n",
    "  \"body\": \"Semi serious question - do you think CSW is 1) insane, 2) has been on a multiyear cocaine binge, or 3) both.  His twitter barf on JP in particular is almost mesmerizing in its lunacy.\\n\\n[https:\\/\\/twitter.com\\/ProfFaustus\\/status\\/1096018468858667008](https:\\/\\/twitter.com\\/ProfFaustus\\/status\\/1096018468858667008)\",\n",
    "  \"can_gild\": true,\n",
    "  \"can_mod_post\": false,\n",
    "  \"collapsed\": false,\n",
    "  \"collapsed_reason\": null,\n",
    "  \"controversiality\": 0,\n",
    "  \"created_utc\": 1550188805,\n",
    "  \"distinguished\": null,\n",
    "  \"edited\": 1550189033,\n",
    "  \"gilded\": 0,\n",
    "  \"gildings\": {\n",
    "    \"gid_1\": 0,\n",
    "    \"gid_2\": 0,\n",
    "    \"gid_3\": 0\n",
    "  },\n",
    "  \"id\": \"eghu5qi\",\n",
    "  \"is_submitter\": false,\n",
    "  \"link_id\": \"t3_aqgo09\",\n",
    "  \"no_follow\": true,\n",
    "  \"parent_id\": \"t3_aqgo09\",\n",
    "  \"permalink\": \"\\/r\\/ethtrader\\/comments\\/aqgo09\\/daily_general_discussion_february_14_2019\\/eghu5qi\\/\",\n",
    "  \"quarantined\": false,\n",
    "  \"removal_reason\": null,\n",
    "  \"retrieved_on\": 1554229777,\n",
    "  \"score\": 9,\n",
    "  \"send_replies\": true,\n",
    "  \"stickied\": false,\n",
    "  \"subreddit\": \"ethtrader\",\n",
    "  \"subreddit_id\": \"t5_37jgj\",\n",
    "  \"subreddit_name_prefixed\": \"r\\/ethtrader\",\n",
    "  \"subreddit_type\": \"public\"\n",
    "}]\n",
    "\"\"\""
   ]
  },
  {
   "cell_type": "code",
   "execution_count": 38,
   "id": "1b24f27e-6e6c-4ae8-a739-7cf8afb501c6",
   "metadata": {},
   "outputs": [],
   "source": [
    "# print(problem_json2)"
   ]
  },
  {
   "cell_type": "code",
   "execution_count": 41,
   "id": "5a20ed88-c88a-48f9-b851-b2bd72080fc6",
   "metadata": {},
   "outputs": [
    {
     "ename": "JSONDecodeError",
     "evalue": "Invalid control character at: line 14 column 195 (char 561)",
     "output_type": "error",
     "traceback": [
      "\u001b[0;31m---------------------------------------------------------------------------\u001b[0m",
      "\u001b[0;31mJSONDecodeError\u001b[0m                           Traceback (most recent call last)",
      "\u001b[0;32m/tmp/ipykernel_53454/1200672255.py\u001b[0m in \u001b[0;36m<module>\u001b[0;34m\u001b[0m\n\u001b[1;32m      1\u001b[0m \u001b[0;32mimport\u001b[0m \u001b[0mjson\u001b[0m\u001b[0;34m\u001b[0m\u001b[0;34m\u001b[0m\u001b[0m\n\u001b[0;32m----> 2\u001b[0;31m \u001b[0mmy_problem\u001b[0m \u001b[0;34m=\u001b[0m \u001b[0mjson\u001b[0m\u001b[0;34m.\u001b[0m\u001b[0mloads\u001b[0m\u001b[0;34m(\u001b[0m\u001b[0mproblem_json\u001b[0m\u001b[0;34m)\u001b[0m\u001b[0;34m\u001b[0m\u001b[0;34m\u001b[0m\u001b[0m\n\u001b[0m\u001b[1;32m      3\u001b[0m \u001b[0mprint\u001b[0m\u001b[0;34m(\u001b[0m\u001b[0mmy_problem\u001b[0m\u001b[0;34m)\u001b[0m\u001b[0;34m\u001b[0m\u001b[0;34m\u001b[0m\u001b[0m\n",
      "\u001b[0;32m/usr/lib/python3.8/json/__init__.py\u001b[0m in \u001b[0;36mloads\u001b[0;34m(s, cls, object_hook, parse_float, parse_int, parse_constant, object_pairs_hook, **kw)\u001b[0m\n\u001b[1;32m    355\u001b[0m             \u001b[0mparse_int\u001b[0m \u001b[0;32mis\u001b[0m \u001b[0;32mNone\u001b[0m \u001b[0;32mand\u001b[0m \u001b[0mparse_float\u001b[0m \u001b[0;32mis\u001b[0m \u001b[0;32mNone\u001b[0m \u001b[0;32mand\u001b[0m\u001b[0;34m\u001b[0m\u001b[0;34m\u001b[0m\u001b[0m\n\u001b[1;32m    356\u001b[0m             parse_constant is None and object_pairs_hook is None and not kw):\n\u001b[0;32m--> 357\u001b[0;31m         \u001b[0;32mreturn\u001b[0m \u001b[0m_default_decoder\u001b[0m\u001b[0;34m.\u001b[0m\u001b[0mdecode\u001b[0m\u001b[0;34m(\u001b[0m\u001b[0ms\u001b[0m\u001b[0;34m)\u001b[0m\u001b[0;34m\u001b[0m\u001b[0;34m\u001b[0m\u001b[0m\n\u001b[0m\u001b[1;32m    358\u001b[0m     \u001b[0;32mif\u001b[0m \u001b[0mcls\u001b[0m \u001b[0;32mis\u001b[0m \u001b[0;32mNone\u001b[0m\u001b[0;34m:\u001b[0m\u001b[0;34m\u001b[0m\u001b[0;34m\u001b[0m\u001b[0m\n\u001b[1;32m    359\u001b[0m         \u001b[0mcls\u001b[0m \u001b[0;34m=\u001b[0m \u001b[0mJSONDecoder\u001b[0m\u001b[0;34m\u001b[0m\u001b[0;34m\u001b[0m\u001b[0m\n",
      "\u001b[0;32m/usr/lib/python3.8/json/decoder.py\u001b[0m in \u001b[0;36mdecode\u001b[0;34m(self, s, _w)\u001b[0m\n\u001b[1;32m    335\u001b[0m \u001b[0;34m\u001b[0m\u001b[0m\n\u001b[1;32m    336\u001b[0m         \"\"\"\n\u001b[0;32m--> 337\u001b[0;31m         \u001b[0mobj\u001b[0m\u001b[0;34m,\u001b[0m \u001b[0mend\u001b[0m \u001b[0;34m=\u001b[0m \u001b[0mself\u001b[0m\u001b[0;34m.\u001b[0m\u001b[0mraw_decode\u001b[0m\u001b[0;34m(\u001b[0m\u001b[0ms\u001b[0m\u001b[0;34m,\u001b[0m \u001b[0midx\u001b[0m\u001b[0;34m=\u001b[0m\u001b[0m_w\u001b[0m\u001b[0;34m(\u001b[0m\u001b[0ms\u001b[0m\u001b[0;34m,\u001b[0m \u001b[0;36m0\u001b[0m\u001b[0;34m)\u001b[0m\u001b[0;34m.\u001b[0m\u001b[0mend\u001b[0m\u001b[0;34m(\u001b[0m\u001b[0;34m)\u001b[0m\u001b[0;34m)\u001b[0m\u001b[0;34m\u001b[0m\u001b[0;34m\u001b[0m\u001b[0m\n\u001b[0m\u001b[1;32m    338\u001b[0m         \u001b[0mend\u001b[0m \u001b[0;34m=\u001b[0m \u001b[0m_w\u001b[0m\u001b[0;34m(\u001b[0m\u001b[0ms\u001b[0m\u001b[0;34m,\u001b[0m \u001b[0mend\u001b[0m\u001b[0;34m)\u001b[0m\u001b[0;34m.\u001b[0m\u001b[0mend\u001b[0m\u001b[0;34m(\u001b[0m\u001b[0;34m)\u001b[0m\u001b[0;34m\u001b[0m\u001b[0;34m\u001b[0m\u001b[0m\n\u001b[1;32m    339\u001b[0m         \u001b[0;32mif\u001b[0m \u001b[0mend\u001b[0m \u001b[0;34m!=\u001b[0m \u001b[0mlen\u001b[0m\u001b[0;34m(\u001b[0m\u001b[0ms\u001b[0m\u001b[0;34m)\u001b[0m\u001b[0;34m:\u001b[0m\u001b[0;34m\u001b[0m\u001b[0;34m\u001b[0m\u001b[0m\n",
      "\u001b[0;32m/usr/lib/python3.8/json/decoder.py\u001b[0m in \u001b[0;36mraw_decode\u001b[0;34m(self, s, idx)\u001b[0m\n\u001b[1;32m    351\u001b[0m         \"\"\"\n\u001b[1;32m    352\u001b[0m         \u001b[0;32mtry\u001b[0m\u001b[0;34m:\u001b[0m\u001b[0;34m\u001b[0m\u001b[0;34m\u001b[0m\u001b[0m\n\u001b[0;32m--> 353\u001b[0;31m             \u001b[0mobj\u001b[0m\u001b[0;34m,\u001b[0m \u001b[0mend\u001b[0m \u001b[0;34m=\u001b[0m \u001b[0mself\u001b[0m\u001b[0;34m.\u001b[0m\u001b[0mscan_once\u001b[0m\u001b[0;34m(\u001b[0m\u001b[0ms\u001b[0m\u001b[0;34m,\u001b[0m \u001b[0midx\u001b[0m\u001b[0;34m)\u001b[0m\u001b[0;34m\u001b[0m\u001b[0;34m\u001b[0m\u001b[0m\n\u001b[0m\u001b[1;32m    354\u001b[0m         \u001b[0;32mexcept\u001b[0m \u001b[0mStopIteration\u001b[0m \u001b[0;32mas\u001b[0m \u001b[0merr\u001b[0m\u001b[0;34m:\u001b[0m\u001b[0;34m\u001b[0m\u001b[0;34m\u001b[0m\u001b[0m\n\u001b[1;32m    355\u001b[0m             \u001b[0;32mraise\u001b[0m \u001b[0mJSONDecodeError\u001b[0m\u001b[0;34m(\u001b[0m\u001b[0;34m\"Expecting value\"\u001b[0m\u001b[0;34m,\u001b[0m \u001b[0ms\u001b[0m\u001b[0;34m,\u001b[0m \u001b[0merr\u001b[0m\u001b[0;34m.\u001b[0m\u001b[0mvalue\u001b[0m\u001b[0;34m)\u001b[0m \u001b[0;32mfrom\u001b[0m \u001b[0;32mNone\u001b[0m\u001b[0;34m\u001b[0m\u001b[0;34m\u001b[0m\u001b[0m\n",
      "\u001b[0;31mJSONDecodeError\u001b[0m: Invalid control character at: line 14 column 195 (char 561)"
     ]
    }
   ],
   "source": [
    "import json\n",
    "my_problem = json.loads(problem_json)\n",
    "print(my_problem)"
   ]
  },
  {
   "cell_type": "code",
   "execution_count": 19,
   "id": "cdc2eb12-004f-4279-9e74-f31c231d9437",
   "metadata": {},
   "outputs": [
    {
     "name": "stdout",
     "output_type": "stream",
     "text": [
      "+--------+--------------------+--------------+------------------+-----------------------------+----------------------+---------------------+------------------------+--------------------+-----------------------+-----------------+---------------+--------------------+--------------------+--------+------------+---------+----------------+----------------+-----------+-------------+----------+------+---------+-------+------------+---------+---------+----------+--------------------+-----------+--------------+------------+-----+------------+--------+--------------------+------------+-----------------------+--------------+--------------------+--------------+\n",
      "|archived|              author|author_cakeday|author_created_utc|author_flair_background_color|author_flair_css_class|author_flair_richtext|author_flair_template_id|   author_flair_text|author_flair_text_color|author_flair_type|author_fullname|author_patreon_flair|                body|can_gild|can_mod_post|collapsed|collapsed_reason|controversiality|created_utc|distinguished|    edited|gilded| gildings|     id|is_submitter|  link_id|no_follow| parent_id|           permalink|quarantined|removal_reason|retrieved_on|score|send_replies|stickied|           subreddit|subreddit_id|subreddit_name_prefixed|subreddit_type|                 url|   domain_name|\n",
      "+--------+--------------------+--------------+------------------+-----------------------------+----------------------+---------------------+------------------------+--------------------+-----------------------+-----------------+---------------+--------------------+--------------------+--------+------------+---------+----------------+----------------+-----------+-------------+----------+------+---------+-------+------------+---------+---------+----------+--------------------+-----------+--------------+------------+-----+------------+--------+--------------------+------------+-----------------------+--------------+--------------------+--------------+\n",
      "|    null|   Defibrillatorator|          null|        1548278825|                         null|                  null|                   []|                    null|                null|                   null|             text|    t2_32f44jr3|               false|I remember this. ...|    true|       false|    false|            null|               0| 1550188800|         null|     false|     0|[0, 0, 0]|eghu5gu|       false|t3_aqffo5|     true| t3_aqffo5|/r/nostalgia/comm...|      false|          null|  1554229773|    1|        true|   false|           nostalgia|    t5_2qnub|            r/nostalgia|        public|                    |              |\n",
      "|    null|   ShowMeYourTiddles|          null|        1464755357|                         null|                  null|                   []|                    null|                null|                   null|             text|       t2_yd54w|               false|The SALT cap cut ...|    true|       false|    false|            null|               0| 1550188800|         null|     false|     0|[0, 0, 0]|eghu5gv|       false|t3_aqkkpu|     true| t3_aqkkpu|/r/politics/comme...|      false|          null|  1554229773|    1|        true|   false|            politics|    t5_2cneq|             r/politics|        public|                    |              |\n",
      "|    null|            thraitor|          null|        1525563392|                         null|                  null|                   []|                    null|                null|                   null|             text|    t2_1bckfdrk|               false|Yeah never heard ...|    true|       false|    false|            null|               0| 1550188800|         null|     false|     0|[0, 0, 0]|eghu5gw|       false|t3_aqp7z4|     true|t1_eghtg8k|/r/hiphopheads/co...|      false|          null|  1554229773|    3|        true|   false|         hiphopheads|    t5_2rh4c|          r/hiphopheads|        public|                    |              |\n",
      "|    null|           zoomzilla|          null|        1413666380|                         null|                  null|                   []|                    null|                null|                   null|             text|       t2_ixez2|               false|Ah yes, blame the...|    true|       false|    false|            null|               0| 1550188800|         null|     false|     0|[0, 0, 0]|eghu5gx|       false|t3_aqoxgw|     true| t3_aqoxgw|/r/airguns/commen...|      false|          null|  1554229773|    6|        true|   false|             airguns|    t5_2rxud|              r/airguns|        public|                    |              |\n",
      "|    null|     ReturnToFlesh84|          null|        1434655217|                         null|                  null|                   []|                    null|                null|                   null|             text|       t2_o727a|               false|There are product...|    true|       false|    false|            null|               0| 1550188800|         null|     false|     0|[0, 0, 0]|eghu5gy|       false|t3_aqqg17|     true| t3_aqqg17|/r/nintendo/comme...|      false|          null|  1554229773|    2|        true|   false|            nintendo|    t5_2qhnk|             r/nintendo|        public|                    |              |\n",
      "|    null|           [deleted]|          null|              null|                             |                  null|                 null|                    null|                null|                   dark|             null|           null|                null|Ya I do it compul...|   false|       false|    false|            null|               0| 1550188800|         null|     false|     0|[0, 0, 0]|eghu5gz|       false|t3_aqo5l1|     true|t1_eghtkkh|/r/OCD/comments/a...|      false|          null|  1554229773|    1|        true|   false|                 OCD|    t5_2qvqm|                  r/OCD|        public|                    |              |\n",
      "|    null|            GM3Jones|          null|        1445564209|                             |            cbjdefault|                   []|                    null|Milk was a bad ch...|                   dark|             text|       t2_re120|               false|Good point my con...|    true|       false|    false|            null|               0| 1550188800|         null|     false|     0|[0, 0, 0]|eghu5h0|       false|t3_aqetx1|     true|t1_eghsv8x|/r/BlueJackets/co...|      false|          null|  1554229773|    1|        true|   false|         BlueJackets|    t5_2sl3f|          r/BlueJackets|        public|                    |              |\n",
      "|    null|        TheNoobiePro|          null|        1503762502|                         null|                  null|                   []|                    null|                null|                   null|             text|     t2_6v41mpq|               false|Thank you I had n...|    true|       false|    false|            null|               0| 1550188800|         null|     false|     0|[0, 0, 0]|eghu5h1|        true|t3_aqq87q|     true|t1_eghtfzc|/r/Drugs/comments...|      false|          null|  1554229773|    2|        true|   false|               Drugs|    t5_2qh7l|                r/Drugs|        public|                    |              |\n",
      "|    null|         DeadSkunk90|          null|        1498089172|                      #6339b9|                  blue| [[, text, http://...|    0a3b2e5a-c672-11e...| http://a.co/fIXAf5A|                  light|         richtext|     t2_4rhlo2q|               false|u/teacu\n",
      "u/ribbong...|    true|       false|    false|            null|               0| 1550188800|         null|     false|     0|[0, 0, 0]|eghu5h2|       false|t3_aqn0dr|    false| t3_aqn0dr|/r/Random_Acts_Of...|      false|          null|  1554229773|    4|        true|   false|Random_Acts_Of_Am...|    t5_2tx47|   r/Random_Acts_Of_...|        public|                    |              |\n",
      "|    null|             MrSpode|          null|        1398005210|                             |     SS1 6-6 Destiny03|                   []|                    null|                null|                   dark|             text|       t2_g7x57|               false|Like, I love the ...|    true|       false|    false|            null|               0| 1550188800|         null|     false|     0|[0, 0, 0]|eghu5h3|       false|t3_aqpxzn|     true|t1_eghtwia|/r/DestinyTheGame...|      false|          null|  1554229773|   17|        true|   false|      DestinyTheGame|    t5_2vq0w|       r/DestinyTheGame|        public|                    |              |\n",
      "|    null|             Alhan01|          null|        1512943325|                         null|                  null|                   []|                    null|                null|                   null|             text|     t2_ntqznvu|               false|That I once sucke...|    true|       false|    false|            null|               0| 1550188800|         null|     false|     0|[0, 0, 0]|eghu5h4|       false|t3_aqqc5e|     true| t3_aqqc5e|/r/AskReddit/comm...|      false|          null|  1554229773|    1|        true|   false|           AskReddit|    t5_2qh1i|            r/AskReddit|        public|                    |              |\n",
      "|    null|     electricpheonix|          null|        1433454045|                         null|                  null|                   []|                    null|                null|                   null|             text|       t2_nwuel|               false|r/subsithoughtife...|    true|       false|    false|            null|               0| 1550188800|         null|     false|     0|[0, 0, 0]|eghu5h5|       false|t3_aqkunp|     true|t1_egh3xtu|/r/PhonesAreBad/c...|      false|          null|  1554229773|   -2|        true|   false|        PhonesAreBad|    t5_3ecey|         r/PhonesAreBad|        public|                    |              |\n",
      "|    null|       AutoModerator|          null|        1325741068|                         null|                  null|                   []|                    null|                null|                   null|             text|       t2_6l4z3|               false|**PLEASE READ THI...|    true|       false|    false|            null|               0| 1550188800|    moderator|     false|     0|[0, 0, 0]|eghu5h6|       false|t3_aqqgat|     true| t3_aqqgat|/r/AskReddit/comm...|      false|          null|  1554229773|    1|       false|   false|           AskReddit|    t5_2qh1i|            r/AskReddit|        public|http://www.reddit...|www.reddit.com|\n",
      "|    null|         yepyougotit|          null|        1522278116|                             |              Raptors2|                   []|    e15314c4-3feb-11e...|             Raptors|                   dark|             text|    t2_13vtne8a|               false|*Illuminati confi...|    true|       false|    false|            null|               0| 1550188800|         null|     false|     0|[0, 0, 0]|eghu5h7|       false|t3_aqglcc|     true|t1_eghrrm3|/r/nba/comments/a...|      false|          null|  1554229773|    1|        true|   false|                 nba|    t5_2qo4s|                  r/nba|        public|                    |              |\n",
      "|    null|           stoner_97|          null|        1372897209|                         null|                  null|                   []|                    null|                null|                   null|             text|       t2_c97fi|               false|Now this is somet...|    true|       false|    false|            null|               0| 1550188800|         null|     false|     0|[0, 0, 0]|eghu5h8|       false|t3_aqoexa|     true|t1_eghkis2|/r/WhyWereTheyFil...|      false|          null|  1554229773|    3|        true|   false|  WhyWereTheyFilming|    t5_3fun7|   r/WhyWereTheyFilming|        public|                    |              |\n",
      "|    null|  ThePublisherPrince|          null|        1458916848|                         null|                  null|                   []|                    null|                null|                   null|             text|       t2_wn6v8|               false|What culture are ...|    true|       false|    false|            null|               0| 1550188800|         null|     false|     0|[0, 0, 0]|eghu5h9|       false|t3_aqq09i|    false| t3_aqq09i|/r/CrusaderKings/...|      false|          null|  1554229773|    8|        true|   false|       CrusaderKings|    t5_2tgic|        r/CrusaderKings|        public|                    |              |\n",
      "|    null|AnotherPersonPerhaps|          null|        1423101380|                             |                      | [[:flag-wa:, emoj...|    16902aae-8e73-11e...|:flag-wa: Washington|                   dark|         richtext|       t2_l5ukr|               false|Congress banned a...|    true|       false|    false|            null|               0| 1550188800|         null|     false|     0|[0, 0, 0]|eghu5ha|       false|t3_aqn6jp|     true|t1_eghhomw|/r/politics/comme...|      false|          null|  1554229773|    1|        true|   false|            politics|    t5_2cneq|             r/politics|        public|                    |              |\n",
      "|    null|     Space_Cheese223|          null|        1468292722|                             |                     1|                   []|    be59f5e4-e83a-11e...|High Priest of th...|                   dark|             text|       t2_zfny3|               false|The choices you m...|    true|       false|    false|            null|               0| 1550188800|         null|1550189277|     0|[0, 0, 0]|eghu5hb|       false|t3_aqltr7|    false| t3_aqltr7|/r/Deltarune/comm...|      false|          null|  1554229773|    7|        true|   false|           Deltarune|    t5_qmi8w|            r/Deltarune|        public|                    |              |\n",
      "|    null|       WolfGangOFKTA|          null|        1510039141|                         null|                  null|                   []|                    null|                null|                   null|             text|     t2_jw0xyrn|               false| ( ಠ ͜ʖ ಠ)  lol.....|    true|       false|    false|            null|               0| 1550188800|         null|     false|     0|[0, 0, 0]|eghu5hc|        true|t3_aqq9ns|     true|t1_eght1pe|/r/SEGA/comments/...|      false|          null|  1554229774|    1|        true|   false|                SEGA|    t5_2rays|                 r/SEGA|        public|                    |              |\n",
      "|    null|           [deleted]|          null|              null|                             |                  null|                 null|                    null|                null|                   dark|             null|           null|                null|           [deleted]|    true|       false|    false|            null|               0| 1550188800|         null|     false|     0|[0, 0, 0]|eghu5hd|       false|t3_aq5yxr|     true| t3_aq5yxr|/r/buildapc/comme...|      false|          null|  1554229774|    1|        true|   false|            buildapc|    t5_2rnve|             r/buildapc|        public|                    |              |\n",
      "+--------+--------------------+--------------+------------------+-----------------------------+----------------------+---------------------+------------------------+--------------------+-----------------------+-----------------+---------------+--------------------+--------------------+--------+------------+---------+----------------+----------------+-----------+-------------+----------+------+---------+-------+------------+---------+---------+----------+--------------------+-----------+--------------+------------+-----+------------+--------+--------------------+------------+-----------------------+--------------+--------------------+--------------+\n",
      "only showing top 20 rows\n",
      "\n"
     ]
    }
   ],
   "source": [
    "reddit_df.limit(343).filter( F.col(\"body\") != \"\" ).show() # 344 is working"
   ]
  },
  {
   "cell_type": "code",
   "execution_count": 20,
   "id": "ccbcd67b-6be0-4930-b434-676e7038758f",
   "metadata": {},
   "outputs": [
    {
     "data": {
      "text/plain": [
       "Column<b'archived'>"
      ]
     },
     "execution_count": 20,
     "metadata": {},
     "output_type": "execute_result"
    }
   ],
   "source": [
    "reddit_df[0]"
   ]
  },
  {
   "cell_type": "code",
   "execution_count": 21,
   "id": "a6115cfa-089b-4a74-901f-d957f636ce81",
   "metadata": {},
   "outputs": [
    {
     "name": "stdout",
     "output_type": "stream",
     "text": [
      "+--------+--------------------+--------------+------------------+-----------------------------+----------------------+---------------------+------------------------+--------------------+-----------------------+-----------------+---------------+--------------------+--------------------+--------+------------+---------+----------------+----------------+-----------+-------------+----------+------+---------+-------+------------+---------+---------+----------+--------------------+-----------+--------------+------------+-----+------------+--------+--------------------+------------+-----------------------+--------------+---+-----------+\n",
      "|archived|              author|author_cakeday|author_created_utc|author_flair_background_color|author_flair_css_class|author_flair_richtext|author_flair_template_id|   author_flair_text|author_flair_text_color|author_flair_type|author_fullname|author_patreon_flair|                body|can_gild|can_mod_post|collapsed|collapsed_reason|controversiality|created_utc|distinguished|    edited|gilded| gildings|     id|is_submitter|  link_id|no_follow| parent_id|           permalink|quarantined|removal_reason|retrieved_on|score|send_replies|stickied|           subreddit|subreddit_id|subreddit_name_prefixed|subreddit_type|url|domain_name|\n",
      "+--------+--------------------+--------------+------------------+-----------------------------+----------------------+---------------------+------------------------+--------------------+-----------------------+-----------------+---------------+--------------------+--------------------+--------+------------+---------+----------------+----------------+-----------+-------------+----------+------+---------+-------+------------+---------+---------+----------+--------------------+-----------+--------------+------------+-----+------------+--------+--------------------+------------+-----------------------+--------------+---+-----------+\n",
      "|    null|   Defibrillatorator|          null|        1548278825|                         null|                  null|                   []|                    null|                null|                   null|             text|    t2_32f44jr3|               false|I remember this. ...|    true|       false|    false|            null|               0| 1550188800|         null|     false|     0|[0, 0, 0]|eghu5gu|       false|t3_aqffo5|     true| t3_aqffo5|/r/nostalgia/comm...|      false|          null|  1554229773|    1|        true|   false|           nostalgia|    t5_2qnub|            r/nostalgia|        public|   |           |\n",
      "|    null|   ShowMeYourTiddles|          null|        1464755357|                         null|                  null|                   []|                    null|                null|                   null|             text|       t2_yd54w|               false|The SALT cap cut ...|    true|       false|    false|            null|               0| 1550188800|         null|     false|     0|[0, 0, 0]|eghu5gv|       false|t3_aqkkpu|     true| t3_aqkkpu|/r/politics/comme...|      false|          null|  1554229773|    1|        true|   false|            politics|    t5_2cneq|             r/politics|        public|   |           |\n",
      "|    null|            thraitor|          null|        1525563392|                         null|                  null|                   []|                    null|                null|                   null|             text|    t2_1bckfdrk|               false|Yeah never heard ...|    true|       false|    false|            null|               0| 1550188800|         null|     false|     0|[0, 0, 0]|eghu5gw|       false|t3_aqp7z4|     true|t1_eghtg8k|/r/hiphopheads/co...|      false|          null|  1554229773|    3|        true|   false|         hiphopheads|    t5_2rh4c|          r/hiphopheads|        public|   |           |\n",
      "|    null|           zoomzilla|          null|        1413666380|                         null|                  null|                   []|                    null|                null|                   null|             text|       t2_ixez2|               false|Ah yes, blame the...|    true|       false|    false|            null|               0| 1550188800|         null|     false|     0|[0, 0, 0]|eghu5gx|       false|t3_aqoxgw|     true| t3_aqoxgw|/r/airguns/commen...|      false|          null|  1554229773|    6|        true|   false|             airguns|    t5_2rxud|              r/airguns|        public|   |           |\n",
      "|    null|     ReturnToFlesh84|          null|        1434655217|                         null|                  null|                   []|                    null|                null|                   null|             text|       t2_o727a|               false|There are product...|    true|       false|    false|            null|               0| 1550188800|         null|     false|     0|[0, 0, 0]|eghu5gy|       false|t3_aqqg17|     true| t3_aqqg17|/r/nintendo/comme...|      false|          null|  1554229773|    2|        true|   false|            nintendo|    t5_2qhnk|             r/nintendo|        public|   |           |\n",
      "|    null|           [deleted]|          null|              null|                             |                  null|                 null|                    null|                null|                   dark|             null|           null|                null|Ya I do it compul...|   false|       false|    false|            null|               0| 1550188800|         null|     false|     0|[0, 0, 0]|eghu5gz|       false|t3_aqo5l1|     true|t1_eghtkkh|/r/OCD/comments/a...|      false|          null|  1554229773|    1|        true|   false|                 OCD|    t5_2qvqm|                  r/OCD|        public|   |           |\n",
      "|    null|            GM3Jones|          null|        1445564209|                             |            cbjdefault|                   []|                    null|Milk was a bad ch...|                   dark|             text|       t2_re120|               false|Good point my con...|    true|       false|    false|            null|               0| 1550188800|         null|     false|     0|[0, 0, 0]|eghu5h0|       false|t3_aqetx1|     true|t1_eghsv8x|/r/BlueJackets/co...|      false|          null|  1554229773|    1|        true|   false|         BlueJackets|    t5_2sl3f|          r/BlueJackets|        public|   |           |\n",
      "|    null|        TheNoobiePro|          null|        1503762502|                         null|                  null|                   []|                    null|                null|                   null|             text|     t2_6v41mpq|               false|Thank you I had n...|    true|       false|    false|            null|               0| 1550188800|         null|     false|     0|[0, 0, 0]|eghu5h1|        true|t3_aqq87q|     true|t1_eghtfzc|/r/Drugs/comments...|      false|          null|  1554229773|    2|        true|   false|               Drugs|    t5_2qh7l|                r/Drugs|        public|   |           |\n",
      "|    null|         DeadSkunk90|          null|        1498089172|                      #6339b9|                  blue| [[, text, http://...|    0a3b2e5a-c672-11e...| http://a.co/fIXAf5A|                  light|         richtext|     t2_4rhlo2q|               false|u/teacu\n",
      "u/ribbong...|    true|       false|    false|            null|               0| 1550188800|         null|     false|     0|[0, 0, 0]|eghu5h2|       false|t3_aqn0dr|    false| t3_aqn0dr|/r/Random_Acts_Of...|      false|          null|  1554229773|    4|        true|   false|Random_Acts_Of_Am...|    t5_2tx47|   r/Random_Acts_Of_...|        public|   |           |\n",
      "|    null|             MrSpode|          null|        1398005210|                             |     SS1 6-6 Destiny03|                   []|                    null|                null|                   dark|             text|       t2_g7x57|               false|Like, I love the ...|    true|       false|    false|            null|               0| 1550188800|         null|     false|     0|[0, 0, 0]|eghu5h3|       false|t3_aqpxzn|     true|t1_eghtwia|/r/DestinyTheGame...|      false|          null|  1554229773|   17|        true|   false|      DestinyTheGame|    t5_2vq0w|       r/DestinyTheGame|        public|   |           |\n",
      "|    null|             Alhan01|          null|        1512943325|                         null|                  null|                   []|                    null|                null|                   null|             text|     t2_ntqznvu|               false|That I once sucke...|    true|       false|    false|            null|               0| 1550188800|         null|     false|     0|[0, 0, 0]|eghu5h4|       false|t3_aqqc5e|     true| t3_aqqc5e|/r/AskReddit/comm...|      false|          null|  1554229773|    1|        true|   false|           AskReddit|    t5_2qh1i|            r/AskReddit|        public|   |           |\n",
      "|    null|     electricpheonix|          null|        1433454045|                         null|                  null|                   []|                    null|                null|                   null|             text|       t2_nwuel|               false|r/subsithoughtife...|    true|       false|    false|            null|               0| 1550188800|         null|     false|     0|[0, 0, 0]|eghu5h5|       false|t3_aqkunp|     true|t1_egh3xtu|/r/PhonesAreBad/c...|      false|          null|  1554229773|   -2|        true|   false|        PhonesAreBad|    t5_3ecey|         r/PhonesAreBad|        public|   |           |\n",
      "|    null|         yepyougotit|          null|        1522278116|                             |              Raptors2|                   []|    e15314c4-3feb-11e...|             Raptors|                   dark|             text|    t2_13vtne8a|               false|*Illuminati confi...|    true|       false|    false|            null|               0| 1550188800|         null|     false|     0|[0, 0, 0]|eghu5h7|       false|t3_aqglcc|     true|t1_eghrrm3|/r/nba/comments/a...|      false|          null|  1554229773|    1|        true|   false|                 nba|    t5_2qo4s|                  r/nba|        public|   |           |\n",
      "|    null|           stoner_97|          null|        1372897209|                         null|                  null|                   []|                    null|                null|                   null|             text|       t2_c97fi|               false|Now this is somet...|    true|       false|    false|            null|               0| 1550188800|         null|     false|     0|[0, 0, 0]|eghu5h8|       false|t3_aqoexa|     true|t1_eghkis2|/r/WhyWereTheyFil...|      false|          null|  1554229773|    3|        true|   false|  WhyWereTheyFilming|    t5_3fun7|   r/WhyWereTheyFilming|        public|   |           |\n",
      "|    null|  ThePublisherPrince|          null|        1458916848|                         null|                  null|                   []|                    null|                null|                   null|             text|       t2_wn6v8|               false|What culture are ...|    true|       false|    false|            null|               0| 1550188800|         null|     false|     0|[0, 0, 0]|eghu5h9|       false|t3_aqq09i|    false| t3_aqq09i|/r/CrusaderKings/...|      false|          null|  1554229773|    8|        true|   false|       CrusaderKings|    t5_2tgic|        r/CrusaderKings|        public|   |           |\n",
      "|    null|AnotherPersonPerhaps|          null|        1423101380|                             |                      | [[:flag-wa:, emoj...|    16902aae-8e73-11e...|:flag-wa: Washington|                   dark|         richtext|       t2_l5ukr|               false|Congress banned a...|    true|       false|    false|            null|               0| 1550188800|         null|     false|     0|[0, 0, 0]|eghu5ha|       false|t3_aqn6jp|     true|t1_eghhomw|/r/politics/comme...|      false|          null|  1554229773|    1|        true|   false|            politics|    t5_2cneq|             r/politics|        public|   |           |\n",
      "|    null|     Space_Cheese223|          null|        1468292722|                             |                     1|                   []|    be59f5e4-e83a-11e...|High Priest of th...|                   dark|             text|       t2_zfny3|               false|The choices you m...|    true|       false|    false|            null|               0| 1550188800|         null|1550189277|     0|[0, 0, 0]|eghu5hb|       false|t3_aqltr7|    false| t3_aqltr7|/r/Deltarune/comm...|      false|          null|  1554229773|    7|        true|   false|           Deltarune|    t5_qmi8w|            r/Deltarune|        public|   |           |\n",
      "|    null|       WolfGangOFKTA|          null|        1510039141|                         null|                  null|                   []|                    null|                null|                   null|             text|     t2_jw0xyrn|               false| ( ಠ ͜ʖ ಠ)  lol.....|    true|       false|    false|            null|               0| 1550188800|         null|     false|     0|[0, 0, 0]|eghu5hc|        true|t3_aqq9ns|     true|t1_eght1pe|/r/SEGA/comments/...|      false|          null|  1554229774|    1|        true|   false|                SEGA|    t5_2rays|                 r/SEGA|        public|   |           |\n",
      "|    null|           [deleted]|          null|              null|                             |                  null|                 null|                    null|                null|                   dark|             null|           null|                null|           [deleted]|    true|       false|    false|            null|               0| 1550188800|         null|     false|     0|[0, 0, 0]|eghu5hd|       false|t3_aq5yxr|     true| t3_aq5yxr|/r/buildapc/comme...|      false|          null|  1554229774|    1|        true|   false|            buildapc|    t5_2rnve|             r/buildapc|        public|   |           |\n",
      "|    null|            Liliputx|          null|        1433178258|                         null|                  null|                   []|                    null|                null|                   null|             text|       t2_nub7x|               false|It’s worth the wait |    true|       false|    false|            null|               0| 1550188800|         null|     false|     0|[0, 0, 0]|eghu5he|       false|t3_aqo9qt|     true|t1_eghtx49|/r/bimbofication/...|      false|          null|  1554229774|    1|        true|   false|       bimbofication|    t5_2wfy7|        r/bimbofication|        public|   |           |\n",
      "+--------+--------------------+--------------+------------------+-----------------------------+----------------------+---------------------+------------------------+--------------------+-----------------------+-----------------+---------------+--------------------+--------------------+--------+------------+---------+----------------+----------------+-----------+-------------+----------+------+---------+-------+------------+---------+---------+----------+--------------------+-----------+--------------+------------+-----+------------+--------+--------------------+------------+-----------------------+--------------+---+-----------+\n",
      "only showing top 20 rows\n",
      "\n"
     ]
    }
   ],
   "source": [
    "reddit_df[reddit_df['url']==\"\"].show()"
   ]
  },
  {
   "cell_type": "code",
   "execution_count": 22,
   "id": "b51d9daf-b0f1-42e1-91e2-0e18d7eac2a7",
   "metadata": {},
   "outputs": [
    {
     "name": "stderr",
     "output_type": "stream",
     "text": [
      "                                                                                \r"
     ]
    },
    {
     "name": "stdout",
     "output_type": "stream",
     "text": [
      "+-----+-----+\n",
      "|score|count|\n",
      "+-----+-----+\n",
      "|   26|    1|\n",
      "|   29|    1|\n",
      "|   19|    5|\n",
      "|    0|   34|\n",
      "|  113|    1|\n",
      "|   22|    4|\n",
      "|    7|   14|\n",
      "|   -7|    1|\n",
      "|   32|    2|\n",
      "|   31|    1|\n",
      "|   39|    1|\n",
      "|   25|    1|\n",
      "|  124|    1|\n",
      "| 2297|    1|\n",
      "|   71|    1|\n",
      "|    6|   21|\n",
      "|    9|    7|\n",
      "|   63|    1|\n",
      "|   17|    4|\n",
      "|   41|    1|\n",
      "+-----+-----+\n",
      "only showing top 20 rows\n",
      "\n"
     ]
    }
   ],
   "source": [
    "reddit_df.groupBy(\"score\").count().show()"
   ]
  },
  {
   "cell_type": "code",
   "execution_count": 23,
   "id": "0f93b9bf-5bd6-45cf-af21-a531561400ac",
   "metadata": {},
   "outputs": [
    {
     "ename": "NameError",
     "evalue": "name 'reddit_df2' is not defined",
     "output_type": "error",
     "traceback": [
      "\u001b[0;31m---------------------------------------------------------------------------\u001b[0m",
      "\u001b[0;31mNameError\u001b[0m                                 Traceback (most recent call last)",
      "\u001b[0;32m/tmp/ipykernel_53454/828309367.py\u001b[0m in \u001b[0;36m<module>\u001b[0;34m\u001b[0m\n\u001b[0;32m----> 1\u001b[0;31m \u001b[0mreddit_df2\u001b[0m\u001b[0;34m.\u001b[0m\u001b[0mshow\u001b[0m\u001b[0;34m(\u001b[0m\u001b[0;34m)\u001b[0m\u001b[0;34m\u001b[0m\u001b[0;34m\u001b[0m\u001b[0m\n\u001b[0m",
      "\u001b[0;31mNameError\u001b[0m: name 'reddit_df2' is not defined"
     ]
    }
   ],
   "source": [
    "reddit_df2.show()"
   ]
  },
  {
   "cell_type": "code",
   "execution_count": null,
   "id": "01e5ad5a-2ccc-4341-8fe3-14fef6ac4439",
   "metadata": {},
   "outputs": [],
   "source": [
    "reddit_df.limit(5).toPandas()"
   ]
  },
  {
   "cell_type": "code",
   "execution_count": null,
   "id": "358644a4-691d-4e39-90bd-4196e4080129",
   "metadata": {},
   "outputs": [],
   "source": []
  },
  {
   "cell_type": "markdown",
   "id": "a15280d3-c621-40ed-aed7-afba9404e733",
   "metadata": {},
   "source": [
    "## Data Integration Time\n",
    "Separately grouBy the domain names, one for reddit, one for git then perform join on the dataframes "
   ]
  },
  {
   "cell_type": "code",
   "execution_count": null,
   "id": "a4cebf2e-9043-4688-af5d-31106b4aa60d",
   "metadata": {},
   "outputs": [],
   "source": [
    "# reddit_domains_grouped = reddit_df.filter( F.col(\"url\") != \"\" ).groupBy(\"domain_name\").count()\n",
    "# reddit_domains_grouped = reddit_domains_grouped.withColumnRenamed(\"count\", \"reddit_domain_count\")"
   ]
  },
  {
   "cell_type": "code",
   "execution_count": null,
   "id": "66a3e127-0c46-4748-b9c8-71731c4a8d89",
   "metadata": {},
   "outputs": [],
   "source": [
    "reddit_df.printSchema()"
   ]
  },
  {
   "cell_type": "code",
   "execution_count": null,
   "id": "7903fbc7-65aa-4b00-b860-3d208ca0601e",
   "metadata": {},
   "outputs": [],
   "source": [
    "# reddit_domains_grouped = reddit_df.groupBy(\"domain_name\").count()\n",
    "reddit_df[[\"id\"]].show()"
   ]
  },
  {
   "cell_type": "code",
   "execution_count": null,
   "id": "aeb03907-c64c-4eec-aaf4-85688f8dd162",
   "metadata": {},
   "outputs": [],
   "source": [
    "# reddit_df.createOrReplaceTempView(\"reddit_data\")\n",
    "# spark.sql( 'SELECT * FROM reddit_data where url == \"\"').show()"
   ]
  },
  {
   "cell_type": "code",
   "execution_count": null,
   "id": "76e0fbd3-2eb2-46b3-a4fa-48dae1dc2cf4",
   "metadata": {},
   "outputs": [],
   "source": [
    "#reddit_df.createOrReplaceTempView(\"reddit_data\")\n",
    "# spark.sql( 'SELECT * FROM reddit_data where url != \"\"').show()"
   ]
  },
  {
   "cell_type": "code",
   "execution_count": null,
   "id": "f71bfe00-818e-4028-a281-2c8c6aadd35d",
   "metadata": {},
   "outputs": [],
   "source": [
    "reddit_df.show()"
   ]
  },
  {
   "cell_type": "code",
   "execution_count": null,
   "id": "3fb8d61b-ec79-4f6d-8a4d-92a2c45796e0",
   "metadata": {},
   "outputs": [],
   "source": [
    "reddit_df.count()"
   ]
  },
  {
   "cell_type": "code",
   "execution_count": null,
   "id": "c1410b36-6862-4909-9218-576ff7b46471",
   "metadata": {},
   "outputs": [],
   "source": [
    "# def blank_as_null(x):\n",
    "#     return F.when(F.col(x) != \"\", F.col(x)).otherwise(None)\n",
    "# reddit_df = reddit_df.withColumn(\"url\", blank_as_null(\"url\"))"
   ]
  },
  {
   "cell_type": "code",
   "execution_count": null,
   "id": "41709438-013b-463a-ba57-e3bf104d79af",
   "metadata": {},
   "outputs": [],
   "source": [
    "# reddit_df = reddit_df.filter( F.col(\"url\").isNotNull() )"
   ]
  },
  {
   "cell_type": "code",
   "execution_count": null,
   "id": "578c4c4c-f2e9-40ac-8b15-81d30df0d9db",
   "metadata": {},
   "outputs": [],
   "source": [
    "reddit_df.count()"
   ]
  },
  {
   "cell_type": "code",
   "execution_count": 5,
   "id": "e2af86a4-e050-48fb-b4f4-5d0dd3b0587e",
   "metadata": {},
   "outputs": [
    {
     "ename": "NameError",
     "evalue": "name 'reddit_df' is not defined",
     "output_type": "error",
     "traceback": [
      "\u001b[0;31m---------------------------------------------------------------------------\u001b[0m",
      "\u001b[0;31mNameError\u001b[0m                                 Traceback (most recent call last)",
      "\u001b[0;32m/tmp/ipykernel_18191/1144316322.py\u001b[0m in \u001b[0;36m<module>\u001b[0;34m\u001b[0m\n\u001b[1;32m      2\u001b[0m \u001b[0;31m# reddit_df.createOrReplaceTempView(\"reddit_data\")\u001b[0m\u001b[0;34m\u001b[0m\u001b[0;34m\u001b[0m\u001b[0;34m\u001b[0m\u001b[0m\n\u001b[1;32m      3\u001b[0m \u001b[0;31m# spark.sql( 'SELECT * FROM reddit_data where url == \"\"').show()\u001b[0m\u001b[0;34m\u001b[0m\u001b[0;34m\u001b[0m\u001b[0;34m\u001b[0m\u001b[0m\n\u001b[0;32m----> 4\u001b[0;31m \u001b[0mreddit_df\u001b[0m \u001b[0;34m=\u001b[0m \u001b[0mreddit_df\u001b[0m\u001b[0;34m[\u001b[0m\u001b[0;34m[\u001b[0m\u001b[0;34m\"body\"\u001b[0m\u001b[0;34m,\u001b[0m \u001b[0;34m\"url\"\u001b[0m\u001b[0;34m]\u001b[0m\u001b[0;34m]\u001b[0m\u001b[0;34m.\u001b[0m\u001b[0mfilter\u001b[0m\u001b[0;34m(\u001b[0m \u001b[0mreddit_df\u001b[0m\u001b[0;34m[\u001b[0m\u001b[0;34m\"url\"\u001b[0m\u001b[0;34m]\u001b[0m \u001b[0;34m==\u001b[0m \u001b[0;34m\"\"\u001b[0m\u001b[0;34m)\u001b[0m\u001b[0;34m\u001b[0m\u001b[0;34m\u001b[0m\u001b[0m\n\u001b[0m",
      "\u001b[0;31mNameError\u001b[0m: name 'reddit_df' is not defined"
     ]
    }
   ],
   "source": [
    "# reddit_df.filter(F.col(\"url\") == \"\").show()\n",
    "# reddit_df.createOrReplaceTempView(\"reddit_data\")\n",
    "# spark.sql( 'SELECT * FROM reddit_data where url == \"\"').show()\n",
    "reddit_df = reddit_df[[\"body\", \"url\"]].filter( reddit_df[\"url\"] == \"\")"
   ]
  },
  {
   "cell_type": "code",
   "execution_count": null,
   "id": "18ee8728-e63a-4d5d-a66d-590a4bdef673",
   "metadata": {},
   "outputs": [],
   "source": [
    "# reddit_df.count()"
   ]
  },
  {
   "cell_type": "code",
   "execution_count": null,
   "id": "f819b46c-64ec-4a2a-aa35-332213e56b1c",
   "metadata": {},
   "outputs": [],
   "source": [
    "# def blank_as_null(x):\n",
    "#     return F.when(F.col(x) == \"\", F.col(x)).otherwise(None)\n",
    "# reddit_df = reddit_df.withColumn(\"url\", blank_as_null(\"url\"))"
   ]
  },
  {
   "cell_type": "code",
   "execution_count": null,
   "id": "c21367ea-1912-417e-b540-58a03c770864",
   "metadata": {},
   "outputs": [],
   "source": [
    "reddit_df.filter( F.col(\"url\") == None).count()"
   ]
  },
  {
   "cell_type": "code",
   "execution_count": null,
   "id": "04d65b44-2b4d-4816-a6ed-d410a7e7c208",
   "metadata": {},
   "outputs": [],
   "source": [
    "# reddit_df.filter( F.col(\"url\") == \"\").count()"
   ]
  },
  {
   "cell_type": "code",
   "execution_count": null,
   "id": "08e15dbd-0d62-4e74-9559-8295eb473765",
   "metadata": {},
   "outputs": [],
   "source": [
    "# reddit_domains_grouped = reddit_df.filter( F.col(\"url\") != \"\" )"
   ]
  },
  {
   "cell_type": "code",
   "execution_count": null,
   "id": "37b41258-7cb1-47f0-8945-d0c019e5ebd1",
   "metadata": {},
   "outputs": [],
   "source": [
    "# reddit_domains_grouped.show()"
   ]
  },
  {
   "cell_type": "code",
   "execution_count": null,
   "id": "ef4db697-4f02-4d04-b5c2-89dcd94ff590",
   "metadata": {},
   "outputs": [],
   "source": [
    "git_domains_grouped = git_repo_df.groupBy(\"email_domain\").count()\n",
    "git_domains_grouped = git_domains_grouped.withColumnRenamed(\"count\", \"git_domain_count\")"
   ]
  },
  {
   "cell_type": "code",
   "execution_count": null,
   "id": "b65115ac-aba1-4dc2-8e0f-8bee78b96f45",
   "metadata": {},
   "outputs": [],
   "source": [
    "# reddit_domains_grouped.show(3)"
   ]
  },
  {
   "cell_type": "code",
   "execution_count": null,
   "id": "67a7c2de-aee1-4684-9655-7ba11cd9ddcb",
   "metadata": {},
   "outputs": [],
   "source": [
    "git_domains_grouped.show(10, False)"
   ]
  },
  {
   "cell_type": "code",
   "execution_count": null,
   "id": "babd5feb-d071-4d10-bbf9-100f53c43a86",
   "metadata": {},
   "outputs": [],
   "source": [
    "domains_list = reddit_domains_grouped[[\"domain_name\", \"reddit_domain_count\"]].\\\n",
    "    union(git_domains_grouped[[\"email_domain\", \"git_domain_count\"]])"
   ]
  },
  {
   "cell_type": "code",
   "execution_count": null,
   "id": "dec49b02-e92a-4652-87fa-4c63753f34d2",
   "metadata": {},
   "outputs": [],
   "source": [
    "joined_domains = reddit_domains_grouped.alias(\"reddit\")\\\n",
    "  .join(git_domains_grouped.alias(\"git\"), F.col(\"git.email_domain\") == F.col(\"reddit.domain_name\"))"
   ]
  },
  {
   "cell_type": "code",
   "execution_count": null,
   "id": "e7974f16-530a-4667-9315-34a932b0669b",
   "metadata": {},
   "outputs": [],
   "source": [
    "git_domains_grouped.show()"
   ]
  },
  {
   "cell_type": "code",
   "execution_count": null,
   "id": "d65e5e55-6094-4de3-924b-e79a2a250a75",
   "metadata": {},
   "outputs": [],
   "source": [
    "joined_domains.show()"
   ]
  },
  {
   "cell_type": "code",
   "execution_count": null,
   "id": "8fb80653-2b7a-4950-ba66-231bb4b62769",
   "metadata": {},
   "outputs": [],
   "source": [
    "unioned_domains = reddit_domains_grouped.unionByName(git_domains_grouped.withColumnRenamed(\"email_domain\", \"domain_name\"),  allowMissingColumns=True)"
   ]
  },
  {
   "cell_type": "code",
   "execution_count": null,
   "id": "e49376e2-058b-4b5b-9e5d-27e8741fb527",
   "metadata": {},
   "outputs": [],
   "source": [
    "unioned_domains.show()"
   ]
  },
  {
   "cell_type": "code",
   "execution_count": null,
   "id": "dd7ebf12-2912-4f28-9f08-7ab96a75accd",
   "metadata": {},
   "outputs": [],
   "source": [
    "unioned_domains = reddit_domains_grouped.unionByName(git_domains_grouped)"
   ]
  },
  {
   "cell_type": "code",
   "execution_count": null,
   "id": "eabbbcd5-2351-486c-86dd-cf259c5aafc9",
   "metadata": {},
   "outputs": [],
   "source": []
  }
 ],
 "metadata": {
  "kernelspec": {
   "display_name": "Python 3 (ipykernel)",
   "language": "python",
   "name": "python3"
  },
  "language_info": {
   "codemirror_mode": {
    "name": "ipython",
    "version": 3
   },
   "file_extension": ".py",
   "mimetype": "text/x-python",
   "name": "python",
   "nbconvert_exporter": "python",
   "pygments_lexer": "ipython3",
   "version": "3.8.10"
  }
 },
 "nbformat": 4,
 "nbformat_minor": 5
}
