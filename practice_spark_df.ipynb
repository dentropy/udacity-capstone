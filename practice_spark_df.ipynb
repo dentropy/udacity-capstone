{
 "cells": [
  {
   "cell_type": "code",
   "execution_count": 1,
   "id": "39c7a16e-b100-421b-ac2b-0f6743731300",
   "metadata": {},
   "outputs": [],
   "source": [
    "from pyspark.sql import SparkSession\n",
    "import pyspark.sql.functions as F\n",
    "import pyspark.sql.types as T\n",
    "import modules.parsers as parsers\n",
    "import glob"
   ]
  },
  {
   "cell_type": "code",
   "execution_count": 2,
   "id": "98cbeb06-d1f3-463f-9fcd-ec5461f701c4",
   "metadata": {},
   "outputs": [
    {
     "name": "stderr",
     "output_type": "stream",
     "text": [
      "22/04/07 21:28:26 WARN Utils: Your hostname, pop-os resolves to a loopback address: 127.0.1.1; using 10.10.64.126 instead (on interface wlp59s0)\n",
      "22/04/07 21:28:26 WARN Utils: Set SPARK_LOCAL_IP if you need to bind to another address\n",
      "WARNING: An illegal reflective access operation has occurred\n",
      "WARNING: Illegal reflective access by org.apache.spark.unsafe.Platform (file:/home/paul/.local/lib/python3.8/site-packages/pyspark/jars/spark-unsafe_2.12-3.2.1.jar) to constructor java.nio.DirectByteBuffer(long,int)\n",
      "WARNING: Please consider reporting this to the maintainers of org.apache.spark.unsafe.Platform\n",
      "WARNING: Use --illegal-access=warn to enable warnings of further illegal reflective access operations\n",
      "WARNING: All illegal access operations will be denied in a future release\n",
      "Using Spark's default log4j profile: org/apache/spark/log4j-defaults.properties\n",
      "Setting default log level to \"WARN\".\n",
      "To adjust logging level use sc.setLogLevel(newLevel). For SparkR, use setLogLevel(newLevel).\n",
      "22/04/07 21:28:27 WARN NativeCodeLoader: Unable to load native-hadoop library for your platform... using builtin-java classes where applicable\n"
     ]
    }
   ],
   "source": [
    "spark = SparkSession.builder\\\n",
    "                     .master(\"spark://pop-os.localdomain:7077\")\\\n",
    "                     .enableHiveSupport() \\\n",
    "                     .getOrCreate()\n",
    "sc = spark.sparkContext"
   ]
  },
  {
   "cell_type": "code",
   "execution_count": 3,
   "id": "80499a69-3fc9-4608-93fc-f2a28eb379d7",
   "metadata": {},
   "outputs": [],
   "source": [
    "import pyspark.sql.functions as F\n",
    "# Extract a URL from a string\n",
    "\n",
    "## df_extract_url\n",
    "#  * Take input of a dataframe\n",
    "#  * Takes a column name to extract url from body of text\n",
    "# Regex Source: https://stackoverflow.com/questions/28185064/python-infinite-loop-in-regex-to-match-url\n",
    "def df_extract_url(tmp_df, tmp_col):\n",
    "    return tmp_df.withColumn(\"url\", F.regexp_extract(F.col(tmp_col), r\"(?i)\\b((?:https?://|www\\d{0,3}[.]|[a-z0-9.\\-]+[.][a-z]{2,4}/)(?:[^\\s()<>]+|\\(([^\\s()<>]+|(\\([^\\s()<>]+\\)))*\\))+(?:\\(([^\\s()<>]+|(\\([^\\s()<>]+\\)))*\\)|[^\\s`!()\\[\\]{};:'\\\".,<>?«»“”‘’]))\", 0))          \n",
    "\n",
    "\n",
    "# Get domain name from URL and put it in domainname table\n",
    "# Regex Source: https://stackoverflow.com/questions/25703360/regular-expression-extract-subdomain-domain\n",
    "def df_parse_domainname(tmp_df, tmp_col):\n",
    "    tmp_df = tmp_df.withColumn( \"domainname\", F.regexp_extract(F.col(tmp_col) , r'^(?:http:\\/\\/|www\\.|https:\\/\\/)([^\\/]+)', 1)) \n",
    "    return tmp_df\n",
    "\n",
    "# Get the domain name of an email from an email address\n",
    "def df_parse_email(tmp_df, tmp_col):\n",
    "    tmp_df = tmp_df.withColumn(\"email_username\" , F.regexp_extract(F.col(tmp_col),   r'([^@]+)', 1)) \n",
    "    tmp_df = tmp_df.withColumn(\"email_domain\"   , F.regexp_extract(F.col(tmp_col) ,  r'@(.*)'  , 1)) \n",
    "    return tmp_df"
   ]
  },
  {
   "cell_type": "markdown",
   "id": "7be7345f-3fd7-4dc1-8528-7fe5ec48bdec",
   "metadata": {},
   "source": [
    "## Working with git repos"
   ]
  },
  {
   "cell_type": "code",
   "execution_count": 4,
   "id": "8c09890d-ea7e-46e5-9ccb-a424e72f4703",
   "metadata": {},
   "outputs": [
    {
     "name": "stderr",
     "output_type": "stream",
     "text": [
      "                                                                                \r"
     ]
    },
    {
     "name": "stdout",
     "output_type": "stream",
     "text": [
      "+--------------------------------------------------------+-------------------------+-------+------------------------------------+-------------------------------+------------------------+\n",
      "|author_email                                            |author_name              |commits|remote_url                          |email_username                 |email_domain            |\n",
      "+--------------------------------------------------------+-------------------------+-------+------------------------------------+-------------------------------+------------------------+\n",
      "|0xfawkes@protonmail.com                                 |0xfawkes                 |1      |https://github.com/ethereum/EIPs.git|0xfawkes                       |protonmail.com          |\n",
      "|12873030+mryalamanchi@users.noreply.github.com          |mr.yalamanchi            |3      |https://github.com/ethereum/EIPs.git|12873030+mryalamanchi          |users.noreply.github.com|\n",
      "|14004106+lightclient@users.noreply.github.com           |lightclient              |62     |https://github.com/ethereum/EIPs.git|14004106+lightclient           |users.noreply.github.com|\n",
      "|1591639+s1na@users.noreply.github.com                   |Sina Mahmoodi            |2      |https://github.com/ethereum/EIPs.git|1591639+s1na                   |users.noreply.github.com|\n",
      "|1641795+vikmeup@users.noreply.github.com                |Viktor Radchenko         |1      |https://github.com/ethereum/EIPs.git|1641795+vikmeup                |users.noreply.github.com|\n",
      "|16929357+GregTheGreek@users.noreply.github.com          |Gregory Markou           |7      |https://github.com/ethereum/EIPs.git|16929357+GregTheGreek          |users.noreply.github.com|\n",
      "|16969914+jamesray1@users.noreply.github.com             |James Ray                |61     |https://github.com/ethereum/EIPs.git|16969914+jamesray1             |users.noreply.github.com|\n",
      "|17414704+VexyCats@users.noreply.github.com              |VexyCats                 |2      |https://github.com/ethereum/EIPs.git|17414704+VexyCats              |users.noreply.github.com|\n",
      "|1797079433@qq.com                                       |Zhihao Chen              |1      |https://github.com/ethereum/EIPs.git|1797079433                     |qq.com                  |\n",
      "|22412996+zemse@users.noreply.github.com                 |soham                    |1      |https://github.com/ethereum/EIPs.git|22412996+zemse                 |users.noreply.github.com|\n",
      "|25517051+rekmarks@users.noreply.github.com              |Erik Marks               |36     |https://github.com/ethereum/EIPs.git|25517051+rekmarks              |users.noreply.github.com|\n",
      "|26529820+alita-moore@users.noreply.github.com           |Alita Moore              |1      |https://github.com/ethereum/EIPs.git|26529820+alita-moore           |users.noreply.github.com|\n",
      "|2698955794@qq.com                                       |Little Sheep             |1      |https://github.com/ethereum/EIPs.git|2698955794                     |qq.com                  |\n",
      "|29681685+poojaranjan@users.noreply.github.com           |Pooja Ranjan             |30     |https://github.com/ethereum/EIPs.git|29681685+poojaranjan           |users.noreply.github.com|\n",
      "|31104161+DrakeEvans@users.noreply.github.com            |Drake Evans              |1      |https://github.com/ethereum/EIPs.git|31104161+DrakeEvans            |users.noreply.github.com|\n",
      "|3114081+ldub@users.noreply.github.com                   |Lev Dubinets             |1      |https://github.com/ethereum/EIPs.git|3114081+ldub                   |users.noreply.github.com|\n",
      "|31145285+CJ42@users.noreply.github.com                  |Jean Cvllr               |1      |https://github.com/ethereum/EIPs.git|31145285+CJ42                  |users.noreply.github.com|\n",
      "|31525757+d-ontmindme@users.noreply.github.com           |Lanre Ige                |1      |https://github.com/ethereum/EIPs.git|31525757+d-ontmindme           |users.noreply.github.com|\n",
      "|31592931+wschwab@users.noreply.github.com               |William Schwab           |5      |https://github.com/ethereum/EIPs.git|31592931+wschwab               |users.noreply.github.com|\n",
      "|31974730+Joeysantoro@users.noreply.github.com           |Joey                     |12     |https://github.com/ethereum/EIPs.git|31974730+Joeysantoro           |users.noreply.github.com|\n",
      "|32358081+balajipachai@users.noreply.github.com          |Balaji Shetty Pachai     |1      |https://github.com/ethereum/EIPs.git|32358081+balajipachai          |users.noreply.github.com|\n",
      "|32847326+atlanticcrypto@users.noreply.github.com        |atlanticcrypto           |2      |https://github.com/ethereum/EIPs.git|32847326+atlanticcrypto        |users.noreply.github.com|\n",
      "|33004639+rictorlome@users.noreply.github.com            |rictorlome               |1      |https://github.com/ethereum/EIPs.git|33004639+rictorlome            |users.noreply.github.com|\n",
      "|33280614+nitika-goel@users.noreply.github.com           |Nitika Goel              |5      |https://github.com/ethereum/EIPs.git|33280614+nitika-goel           |users.noreply.github.com|\n",
      "|33639127+weijia31415@users.noreply.github.com           |weijia31415              |1      |https://github.com/ethereum/EIPs.git|33639127+weijia31415           |users.noreply.github.com|\n",
      "|34432426+james-choncholas@users.noreply.github.com      |James Choncholas         |1      |https://github.com/ethereum/EIPs.git|34432426+james-choncholas      |users.noreply.github.com|\n",
      "|34966228+edsonayllon@users.noreply.github.com           |Edson Ayllon             |3      |https://github.com/ethereum/EIPs.git|34966228+edsonayllon           |users.noreply.github.com|\n",
      "|35580723+BinaryQuasar@users.noreply.github.com          |BinaryQuasar             |1      |https://github.com/ethereum/EIPs.git|35580723+BinaryQuasar          |users.noreply.github.com|\n",
      "|36084092+ilanolkies@users.noreply.github.com            |Ilan                     |2      |https://github.com/ethereum/EIPs.git|36084092+ilanolkies            |users.noreply.github.com|\n",
      "|36323943+n2nco@users.noreply.github.com                 |Nielsen                  |1      |https://github.com/ethereum/EIPs.git|36323943+n2nco                 |users.noreply.github.com|\n",
      "|36855780+uri-bloXroute@users.noreply.github.com         |Uri Klarman              |1      |https://github.com/ethereum/EIPs.git|36855780+uri-bloXroute         |users.noreply.github.com|\n",
      "|37070449+HAOYUatHZ@users.noreply.github.com             |HAOYUatHZ                |4      |https://github.com/ethereum/EIPs.git|37070449+HAOYUatHZ             |users.noreply.github.com|\n",
      "|37123614+ethDreamer@users.noreply.github.com            |ethDreamer               |3      |https://github.com/ethereum/EIPs.git|37123614+ethDreamer            |users.noreply.github.com|\n",
      "|37939117+0age@users.noreply.github.com                  |0age                     |2      |https://github.com/ethereum/EIPs.git|37939117+0age                  |users.noreply.github.com|\n",
      "|37944261+MattLongCT@users.noreply.github.com            |MattLongCT               |2      |https://github.com/ethereum/EIPs.git|37944261+MattLongCT            |users.noreply.github.com|\n",
      "|38140605+cyber-hokie@users.noreply.github.com           |Andrew                   |1      |https://github.com/ethereum/EIPs.git|38140605+cyber-hokie           |users.noreply.github.com|\n",
      "|3859395+fubuloubu@users.noreply.github.com              |El De-dog-lo             |5      |https://github.com/ethereum/EIPs.git|3859395+fubuloubu              |users.noreply.github.com|\n",
      "|387098+davesag@users.noreply.github.com                 |Dave Sag                 |2      |https://github.com/ethereum/EIPs.git|387098+davesag                 |users.noreply.github.com|\n",
      "|38806121+albertocuestacanada@users.noreply.github.com   |Alberto Cuesta Cañada    |17     |https://github.com/ethereum/EIPs.git|38806121+albertocuestacanada   |users.noreply.github.com|\n",
      "|38806121+alcueca@users.noreply.github.com               |Alberto Cuesta Cañada    |9      |https://github.com/ethereum/EIPs.git|38806121+alcueca               |users.noreply.github.com|\n",
      "|39971709+SmeargleUsedFly@users.noreply.github.com       |SmeargleUsedFly          |1      |https://github.com/ethereum/EIPs.git|39971709+SmeargleUsedFly       |users.noreply.github.com|\n",
      "|3esmit@gmail.com                                        |Ricardo Guilherme Schmidt|2      |https://github.com/ethereum/EIPs.git|3esmit                         |gmail.com               |\n",
      "|40266861+pinkiebell@users.noreply.github.com            |pinkiebell               |5      |https://github.com/ethereum/EIPs.git|40266861+pinkiebell            |users.noreply.github.com|\n",
      "|40271278+feld@users.noreply.github.com                  |feld                     |1      |https://github.com/ethereum/EIPs.git|40271278+feld                  |users.noreply.github.com|\n",
      "|42751398+aliatiia@users.noreply.github.com              |Ali Atiia                |1      |https://github.com/ethereum/EIPs.git|42751398+aliatiia              |users.noreply.github.com|\n",
      "|43028405+bellesmarta@users.noreply.github.com           |Marta Bellés             |2      |https://github.com/ethereum/EIPs.git|43028405+bellesmarta           |users.noreply.github.com|\n",
      "|4411206+benjaminchodroff@users.noreply.github.com       |Benjamin Evans Chodroff  |1      |https://github.com/ethereum/EIPs.git|4411206+benjaminchodroff       |users.noreply.github.com|\n",
      "|44411763+WTRMQDev@users.noreply.github.com              |WTRMQDev                 |1      |https://github.com/ethereum/EIPs.git|44411763+WTRMQDev              |users.noreply.github.com|\n",
      "|45038918+TomStarkWare@users.noreply.github.com          |Tom Brand                |1      |https://github.com/ethereum/EIPs.git|45038918+TomStarkWare          |users.noreply.github.com|\n",
      "|45179483+yoav-tabookey@users.noreply.github.com         |yoav-tabookey            |1      |https://github.com/ethereum/EIPs.git|45179483+yoav-tabookey         |users.noreply.github.com|\n",
      "|45264458+abdelhamidbakhta@users.noreply.github.com      |Abdelhamid Bakhta        |9      |https://github.com/ethereum/EIPs.git|45264458+abdelhamidbakhta      |users.noreply.github.com|\n",
      "|45835846+Pandapip1@users.noreply.github.com             |Pandapip1                |4      |https://github.com/ethereum/EIPs.git|45835846+Pandapip1             |users.noreply.github.com|\n",
      "|46337218+hjlee9182@users.noreply.github.com             |hjlee9182                |1      |https://github.com/ethereum/EIPs.git|46337218+hjlee9182             |users.noreply.github.com|\n",
      "|47772477+soc1c@users.noreply.github.com                 |Talha Cross              |1      |https://github.com/ethereum/EIPs.git|47772477+soc1c                 |users.noreply.github.com|\n",
      "|49699333+dependabot[bot]@users.noreply.github.com       |dependabot[bot]          |3      |https://github.com/ethereum/EIPs.git|49699333+dependabot[bot]       |users.noreply.github.com|\n",
      "|51161328+louisguthmannStarkWare@users.noreply.github.com|louisguthmannStarkWare   |1      |https://github.com/ethereum/EIPs.git|51161328+louisguthmannStarkWare|users.noreply.github.com|\n",
      "|5282495+pizza-r0b@users.noreply.github.com              |pizza-r0b                |2      |https://github.com/ethereum/EIPs.git|5282495+pizza-r0b              |users.noreply.github.com|\n",
      "|5282495+pizzarob@users.noreply.github.com               |pizzarob                 |4      |https://github.com/ethereum/EIPs.git|5282495+pizzarob               |users.noreply.github.com|\n",
      "|542863+danfinlay@users.noreply.github.com               |Dan Finlay               |4      |https://github.com/ethereum/EIPs.git|542863+danfinlay               |users.noreply.github.com|\n",
      "|55949958+Ungigdu@users.noreply.github.com               |Ungigdu                  |3      |https://github.com/ethereum/EIPs.git|55949958+Ungigdu               |users.noreply.github.com|\n",
      "|57261628+chgormanMH@users.noreply.github.com            |chgormanMH               |1      |https://github.com/ethereum/EIPs.git|57261628+chgormanMH            |users.noreply.github.com|\n",
      "|57262657+SamWilsn@users.noreply.github.com              |Sam Wilson               |21     |https://github.com/ethereum/EIPs.git|57262657+SamWilsn              |users.noreply.github.com|\n",
      "|5858657+pldespaigne@users.noreply.github.com            |pldespaigne              |1      |https://github.com/ethereum/EIPs.git|5858657+pldespaigne            |users.noreply.github.com|\n",
      "|58883403+q9f@users.noreply.github.com                   |Afr Schoe                |4      |https://github.com/ethereum/EIPs.git|58883403+q9f                   |users.noreply.github.com|\n",
      "|5chdn@users.noreply.github.com                          |5chdn                    |39     |https://github.com/ethereum/EIPs.git|5chdn                          |users.noreply.github.com|\n",
      "|62305015+ssiiiiniiiiss@users.noreply.github.com         |ssiiiiniiiiss            |1      |https://github.com/ethereum/EIPs.git|62305015+ssiiiiniiiiss         |users.noreply.github.com|\n",
      "|67232250+defifuture@users.noreply.github.com            |defifuture               |2      |https://github.com/ethereum/EIPs.git|67232250+defifuture            |users.noreply.github.com|\n",
      "|6londe@gmail.com                                        |Changhoon Lee            |1      |https://github.com/ethereum/EIPs.git|6londe                         |gmail.com               |\n",
      "|76567250+g11in@users.noreply.github.com                 |g11tech                  |3      |https://github.com/ethereum/EIPs.git|76567250+g11in                 |users.noreply.github.com|\n",
      "|78876425+marianasoff@users.noreply.github.com           |marianasoff              |1      |https://github.com/ethereum/EIPs.git|78876425+marianasoff           |users.noreply.github.com|\n",
      "|79078981+uink45@users.noreply.github.com                |uink45                   |2      |https://github.com/ethereum/EIPs.git|79078981+uink45                |users.noreply.github.com|\n",
      "|79124435+ethosdev@users.noreply.github.com              |ethosdev                 |2      |https://github.com/ethereum/EIPs.git|79124435+ethosdev              |users.noreply.github.com|\n",
      "|79773335+SamPorter1984@users.noreply.github.com         |Sam Porter               |1      |https://github.com/ethereum/EIPs.git|79773335+SamPorter1984         |users.noreply.github.com|\n",
      "|79855548+sgmfinance@users.noreply.github.com            |sgmfinance               |2      |https://github.com/ethereum/EIPs.git|79855548+sgmfinance            |users.noreply.github.com|\n",
      "|80379503+ashrowz@users.noreply.github.com               |ashrowz                  |1      |https://github.com/ethereum/EIPs.git|80379503+ashrowz               |users.noreply.github.com|\n",
      "|80598075+query0x@users.noreply.github.com               |query0x                  |2      |https://github.com/ethereum/EIPs.git|80598075+query0x               |users.noreply.github.com|\n",
      "|80925920+hexzorro@users.noreply.github.com              |hexzorro                 |9      |https://github.com/ethereum/EIPs.git|80925920+hexzorro              |users.noreply.github.com|\n",
      "|83922737+julesl23@users.noreply.github.com              |Jules Lai                |6      |https://github.com/ethereum/EIPs.git|83922737+julesl23              |users.noreply.github.com|\n",
      "|8545447+hjorthjort@users.noreply.github.com             |Rikard Hjort             |1      |https://github.com/ethereum/EIPs.git|8545447+hjorthjort             |users.noreply.github.com|\n",
      "|85952233+eth-bot@users.noreply.github.com               |eth-bot                  |237    |https://github.com/ethereum/EIPs.git|85952233+eth-bot               |users.noreply.github.com|\n",
      "|87011437+SuryaSJit@users.noreply.github.com             |SuryaSJit                |1      |https://github.com/ethereum/EIPs.git|87011437+SuryaSJit             |users.noreply.github.com|\n",
      "|90674996+pix16@users.noreply.github.com                 |pix16                    |1      |https://github.com/ethereum/EIPs.git|90674996+pix16                 |users.noreply.github.com|\n",
      "|92001561+z0r0z@users.noreply.github.com                 |z0r0z                    |1      |https://github.com/ethereum/EIPs.git|92001561+z0r0z                 |users.noreply.github.com|\n",
      "|96720682+emojidao@users.noreply.github.com              |emojidao                 |1      |https://github.com/ethereum/EIPs.git|96720682+emojidao              |users.noreply.github.com|\n",
      "|9939278+simontianx@users.noreply.github.com             |Simon Tian               |2      |https://github.com/ethereum/EIPs.git|9939278+simontianx             |users.noreply.github.com|\n",
      "|AFDudley@users.noreply.github.com                       |A. F. Dudley             |1      |https://github.com/ethereum/EIPs.git|AFDudley                       |users.noreply.github.com|\n",
      "|Aaron.Kendall@gmail.com                                 |jaerith                  |4      |https://github.com/ethereum/EIPs.git|Aaron.Kendall                  |gmail.com               |\n",
      "|Agustin@bitpagos.com                                    |Agustin Aguilar          |1      |https://github.com/ethereum/EIPs.git|Agustin                        |bitpagos.com            |\n",
      "|Bunjin@users.noreply.github.com                         |Vincent                  |5      |https://github.com/ethereum/EIPs.git|Bunjin                         |users.noreply.github.com|\n",
      "|Daniel.K.Ivanov95@gmail.com                             |Daniel Ivanov            |2      |https://github.com/ethereum/EIPs.git|Daniel.K.Ivanov95              |gmail.com               |\n",
      "|Fang-@users.noreply.github.com                          |Fang                     |2      |https://github.com/ethereum/EIPs.git|Fang-                          |users.noreply.github.com|\n",
      "|Hakeemmidan@gmail.com                                   |Hakeem Almidan           |1      |https://github.com/ethereum/EIPs.git|Hakeemmidan                    |gmail.com               |\n",
      "|Holger.Drewes@gmail.com                                 |Holger Drewes            |2      |https://github.com/ethereum/EIPs.git|Holger.Drewes                  |gmail.com               |\n",
      "|Jim@mcdee.net                                           |Jim McDonald             |4      |https://github.com/ethereum/EIPs.git|Jim                            |mcdee.net               |\n",
      "|John@StartEngine.com                                    |John Shiple              |2      |https://github.com/ethereum/EIPs.git|John                           |StartEngine.com         |\n",
      "|MadeofTin@users.noreply.github.com                      |James Hancock            |20     |https://github.com/ethereum/EIPs.git|MadeofTin                      |users.noreply.github.com|\n",
      "|Nitro88x@gmail.com                                      |Nitro888                 |3      |https://github.com/ethereum/EIPs.git|Nitro88x                       |gmail.com               |\n",
      "|SCBuergel@users.noreply.github.com                      |Sebastian C. Bürgel      |1      |https://github.com/ethereum/EIPs.git|SCBuergel                      |users.noreply.github.com|\n",
      "|SergioDemianLerner@users.noreply.github.com             |Sergio                   |1      |https://github.com/ethereum/EIPs.git|SergioDemianLerner             |users.noreply.github.com|\n",
      "|Souptacular@users.noreply.github.com                    |Hudson Jameson           |27     |https://github.com/ethereum/EIPs.git|Souptacular                    |users.noreply.github.com|\n",
      "+--------------------------------------------------------+-------------------------+-------+------------------------------------+-------------------------------+------------------------+\n",
      "only showing top 100 rows\n",
      "\n"
     ]
    }
   ],
   "source": [
    "files = glob.glob('./out/git_out/**/*.json',  recursive=True)\n",
    "first_file = files.pop()\n",
    "git_repo_df = spark.read.json(first_file)\n",
    "git_repo_df = parsers.df_parse_email(git_repo_df,  \"author_email\")\n",
    "git_repo_df.first()\n",
    "for tmp_df_path in files:\n",
    "    tmp_git_repo_df = spark.read.json(tmp_df_path)\n",
    "    tmp_git_repo_df = parsers.df_parse_email(tmp_git_repo_df,  \"author_email\")\n",
    "    final_df = git_repo_df.unionByName(tmp_git_repo_df)\n",
    "final_df.show(100, False) "
   ]
  },
  {
   "cell_type": "code",
   "execution_count": null,
   "id": "08a97ca1-2b09-4365-ad98-407258172e3f",
   "metadata": {},
   "outputs": [],
   "source": []
  },
  {
   "cell_type": "markdown",
   "id": "fffd2a98-1d5f-428a-ae07-824aed92ed94",
   "metadata": {},
   "source": [
    "## Working with reddit data"
   ]
  },
  {
   "cell_type": "code",
   "execution_count": 5,
   "id": "49bea437-dc98-457c-ba74-d943d2f8ed75",
   "metadata": {},
   "outputs": [
    {
     "name": "stderr",
     "output_type": "stream",
     "text": [
      "                                                                                \r"
     ]
    },
    {
     "name": "stdout",
     "output_type": "stream",
     "text": [
      "+------------------------------------------------------------+------------------------------+\n",
      "|url                                                         |domain                        |\n",
      "+------------------------------------------------------------+------------------------------+\n",
      "|https://auth.geeksforgeeks.org/user/Chinmoy%20Lenka/articles|https://auth.geeksforgeeks.org|\n",
      "|https://www.udacity.com/                                    |https://www.udacity.com       |\n",
      "|www.udacity.com                                             |www.udacity.com               |\n",
      "|                                                            |                              |\n",
      "+------------------------------------------------------------+------------------------------+\n",
      "\n"
     ]
    }
   ],
   "source": [
    "text = ['My Profile: https://auth.geeksforgeeks.org/user/Chinmoy%20Lenka/articles in the portal of https://www.geeksforgeeks.org/',\n",
    "        \"Hello world https://www.udacity.com/\", \n",
    "        \"Hello World www.udacity.com\", \n",
    "        \"What about these URLs google.com NOPE\",  \n",
    "]\n",
    "\n",
    "df = spark.createDataFrame(text, T.StringType()).toDF(\"text\")\n",
    "\n",
    "df = df.withColumn(\"url\", F.regexp_extract(df.text, r\"(?i)\\b((?:https?://|www\\d{0,3}[.]|[a-z0-9.\\-]+[.][a-z]{2,4}/)(?:[^\\s()<>]+|\\(([^\\s()<>]+|(\\([^\\s()<>]+\\)))*\\))+(?:\\(([^\\s()<>]+|(\\([^\\s()<>]+\\)))*\\)|[^\\s`!()\\[\\]{};:'\\\".,<>?«»“”‘’]))\", 0))          \n",
    "df = df.withColumn(\"domain\", F.regexp_extract(df.url, r'^(?:http:\\/\\/|www\\.|https:\\/\\/)([^\\/]+)', 0))            \n",
    "df[[\"url\", \"domain\"]].show(5, False)"
   ]
  },
  {
   "cell_type": "code",
   "execution_count": 6,
   "id": "63ea5047-ff4b-451d-839e-153d3bc463d9",
   "metadata": {},
   "outputs": [
    {
     "name": "stderr",
     "output_type": "stream",
     "text": [
      "                                                                                \r"
     ]
    }
   ],
   "source": [
    "reddit_df = spark.read.json('./data/reddit-stuff/RC_2018-01-01.ndjson')"
   ]
  },
  {
   "cell_type": "code",
   "execution_count": 7,
   "id": "b89f968f-1a1b-4a07-b5d8-d0fddceccdf8",
   "metadata": {},
   "outputs": [],
   "source": [
    "reddit_df = df_extract_url(reddit_df, \"body\")"
   ]
  },
  {
   "cell_type": "code",
   "execution_count": 8,
   "id": "c0441b93-adb3-48c2-a5e5-5d11e0394869",
   "metadata": {},
   "outputs": [
    {
     "name": "stdout",
     "output_type": "stream",
     "text": [
      "+--------------------+--------------------+\n",
      "|                body|                 url|\n",
      "+--------------------+--------------------+\n",
      "|We agree and that...|https://pecuniare...|\n",
      "|We agree and that...|https://pecuniare...|\n",
      "|We agree and that...|https://pecuniare...|\n",
      "+--------------------+--------------------+\n",
      "only showing top 3 rows\n",
      "\n"
     ]
    }
   ],
   "source": [
    "reddit_df[[\"body\", \"url\"]].filter( F.col(\"url\") != \"\" ).show(3)"
   ]
  },
  {
   "cell_type": "code",
   "execution_count": 9,
   "id": "9468cb9a-7fc4-4a71-9e72-86add8fb8ac3",
   "metadata": {},
   "outputs": [],
   "source": [
    "reddit_df = parsers.df_parse_domainname(reddit_df, \"url\")"
   ]
  },
  {
   "cell_type": "code",
   "execution_count": 10,
   "id": "a02bf2d6-3952-4a8a-bb53-1da36f49cba1",
   "metadata": {},
   "outputs": [
    {
     "name": "stdout",
     "output_type": "stream",
     "text": [
      "+----------------------------+-------------------+\n",
      "|url                         |domainname         |\n",
      "+----------------------------+-------------------+\n",
      "|https://pecuniaresearch.com/|pecuniaresearch.com|\n",
      "|https://pecuniaresearch.com/|pecuniaresearch.com|\n",
      "|https://pecuniaresearch.com/|pecuniaresearch.com|\n",
      "|https://pecuniaresearch.com/|pecuniaresearch.com|\n",
      "|https://pecuniaresearch.com/|pecuniaresearch.com|\n",
      "+----------------------------+-------------------+\n",
      "only showing top 5 rows\n",
      "\n"
     ]
    }
   ],
   "source": [
    "reddit_df[[\"url\", \"domainname\"]].filter( F.col(\"domainname\") != \"\" ).show(5, False)"
   ]
  }
 ],
 "metadata": {
  "kernelspec": {
   "display_name": "Python 3 (ipykernel)",
   "language": "python",
   "name": "python3"
  },
  "language_info": {
   "codemirror_mode": {
    "name": "ipython",
    "version": 3
   },
   "file_extension": ".py",
   "mimetype": "text/x-python",
   "name": "python",
   "nbconvert_exporter": "python",
   "pygments_lexer": "ipython3",
   "version": "3.8.10"
  }
 },
 "nbformat": 4,
 "nbformat_minor": 5
}
